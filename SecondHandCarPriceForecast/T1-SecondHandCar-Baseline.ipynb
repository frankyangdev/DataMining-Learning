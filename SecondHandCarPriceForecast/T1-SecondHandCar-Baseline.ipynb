{
  "cells": [
    {
      "cell_type": "markdown",
      "source": [
        "# Datawhale 零基础入门数据挖掘-Baseline\n",
        "\n",
        "## Baseline-v1.0 版\n",
        "\n",
        "Tip:这是一个最初始baseline版本,抛砖引玉,为大家提供一个基本Baseline和一个竞赛流程的基本介绍，欢迎大家多多交流。\n",
        "\n",
        "**赛题：零基础入门数据挖掘 - 二手车交易价格预测**\n",
        "\n",
        "地址：https://tianchi.aliyun.com/competition/entrance/231784/introduction?spm=5176.12281957.1004.1.38b02448ausjSX"
      ],
      "metadata": {}
    },
    {
      "cell_type": "code",
      "source": [
        "# 查看数据文件目录  list datalab files\n",
        "!ls data/"
      ],
      "outputs": [
        {
          "output_type": "stream",
          "name": "stdout",
          "text": [
            "used_car_sample_submit.csv   used_car_train_20200313.csv\r\n",
            "used_car_testB_20200421.csv\r\n"
          ]
        }
      ],
      "execution_count": 1,
      "metadata": {
        "gather": {
          "logged": 1618220373550
        }
      }
    },
    {
      "cell_type": "markdown",
      "source": [
        "### Step 1:导入函数工具箱"
      ],
      "metadata": {}
    },
    {
      "cell_type": "code",
      "source": [
        "!pip3 install seaborn"
      ],
      "outputs": [
        {
          "output_type": "stream",
          "name": "stdout",
          "text": [
            "Requirement already satisfied: seaborn in /anaconda/envs/azureml_py36/lib/python3.6/site-packages (0.11.1)\r\n",
            "Requirement already satisfied: matplotlib>=2.2 in /anaconda/envs/azureml_py36/lib/python3.6/site-packages (from seaborn) (3.2.1)\r\n",
            "Requirement already satisfied: pandas>=0.23 in /anaconda/envs/azureml_py36/lib/python3.6/site-packages (from seaborn) (0.25.3)\r\n",
            "Requirement already satisfied: numpy>=1.15 in /anaconda/envs/azureml_py36/lib/python3.6/site-packages (from seaborn) (1.18.5)\r\n",
            "Requirement already satisfied: scipy>=1.0 in /anaconda/envs/azureml_py36/lib/python3.6/site-packages (from seaborn) (1.5.2)\r\n",
            "Requirement already satisfied: kiwisolver>=1.0.1 in /anaconda/envs/azureml_py36/lib/python3.6/site-packages (from matplotlib>=2.2->seaborn) (1.3.1)\r\n",
            "Requirement already satisfied: pyparsing!=2.0.4,!=2.1.2,!=2.1.6,>=2.0.1 in /anaconda/envs/azureml_py36/lib/python3.6/site-packages (from matplotlib>=2.2->seaborn) (2.4.7)\r\n",
            "Requirement already satisfied: cycler>=0.10 in /anaconda/envs/azureml_py36/lib/python3.6/site-packages (from matplotlib>=2.2->seaborn) (0.10.0)\r\n",
            "Requirement already satisfied: python-dateutil>=2.1 in /anaconda/envs/azureml_py36/lib/python3.6/site-packages (from matplotlib>=2.2->seaborn) (2.8.1)\r\n",
            "Requirement already satisfied: pytz>=2017.2 in /anaconda/envs/azureml_py36/lib/python3.6/site-packages (from pandas>=0.23->seaborn) (2021.1)\r\n",
            "Requirement already satisfied: six in /anaconda/envs/azureml_py36/lib/python3.6/site-packages (from cycler>=0.10->matplotlib>=2.2->seaborn) (1.15.0)\r\n"
          ]
        }
      ],
      "execution_count": 2,
      "metadata": {
        "collapsed": true,
        "jupyter": {
          "source_hidden": false,
          "outputs_hidden": false
        },
        "nteract": {
          "transient": {
            "deleting": false
          }
        }
      }
    },
    {
      "cell_type": "code",
      "source": [
        "!pip3 uninstall -y xgboost==0.90"
      ],
      "outputs": [
        {
          "output_type": "stream",
          "name": "stdout",
          "text": [
            "Found existing installation: xgboost 0.90\r\n",
            "Uninstalling xgboost-0.90:\r\n",
            "  Successfully uninstalled xgboost-0.90\r\n"
          ]
        }
      ],
      "execution_count": 3,
      "metadata": {
        "collapsed": true,
        "jupyter": {
          "source_hidden": false,
          "outputs_hidden": false
        },
        "nteract": {
          "transient": {
            "deleting": false
          }
        }
      }
    },
    {
      "cell_type": "code",
      "source": [
        "!pip3 install xgboost==0.90"
      ],
      "outputs": [
        {
          "output_type": "stream",
          "name": "stdout",
          "text": [
            "Collecting xgboost==0.90\n",
            "  Using cached xgboost-0.90-py2.py3-none-manylinux1_x86_64.whl (142.8 MB)\n",
            "Requirement already satisfied: numpy in /anaconda/envs/azureml_py36/lib/python3.6/site-packages (from xgboost==0.90) (1.18.5)\n",
            "Requirement already satisfied: scipy in /anaconda/envs/azureml_py36/lib/python3.6/site-packages (from xgboost==0.90) (1.5.2)\n",
            "Installing collected packages: xgboost\n",
            "Successfully installed xgboost-0.90\n"
          ]
        }
      ],
      "execution_count": 4,
      "metadata": {
        "collapsed": true,
        "jupyter": {
          "source_hidden": false,
          "outputs_hidden": false
        },
        "nteract": {
          "transient": {
            "deleting": false
          }
        }
      }
    },
    {
      "cell_type": "code",
      "source": [
        "## 基础工具\n",
        "import numpy as np\n",
        "import pandas as pd\n",
        "import warnings\n",
        "import matplotlib\n",
        "import matplotlib.pyplot as plt\n",
        "import seaborn as sns\n",
        "from scipy.special import jn\n",
        "from IPython.display import display, clear_output\n",
        "import time\n",
        "\n",
        "warnings.filterwarnings('ignore')\n",
        "%matplotlib inline\n",
        "\n",
        "## 模型预测的\n",
        "from sklearn import linear_model\n",
        "from sklearn import preprocessing\n",
        "from sklearn.svm import SVR\n",
        "from sklearn.ensemble import RandomForestRegressor,GradientBoostingRegressor\n",
        "\n",
        "## 数据降维处理的\n",
        "from sklearn.decomposition import PCA,FastICA,FactorAnalysis,SparsePCA\n",
        "\n",
        "import lightgbm as lgb\n",
        "import xgboost as xgb\n",
        "\n",
        "## 参数搜索和评价的\n",
        "from sklearn.model_selection import GridSearchCV,cross_val_score,StratifiedKFold,train_test_split\n",
        "from sklearn.metrics import mean_squared_error, mean_absolute_error"
      ],
      "outputs": [],
      "execution_count": 5,
      "metadata": {
        "gather": {
          "logged": 1618220437602
        }
      }
    },
    {
      "cell_type": "markdown",
      "source": [
        "### Step 2:数据读取"
      ],
      "metadata": {}
    },
    {
      "cell_type": "code",
      "source": [
        "## 通过Pandas对于数据进行读取 (pandas是一个很友好的数据读取函数库)\n",
        "Train_data = pd.read_csv('data/used_car_train_20200313.csv', sep=' ')\n",
        "TestA_data = pd.read_csv('data/used_car_testB_20200421.csv', sep=' ')\n",
        "\n",
        "## 输出数据的大小信息\n",
        "print('Train data shape:',Train_data.shape)\n",
        "print('TestA data shape:',TestA_data.shape)"
      ],
      "outputs": [
        {
          "output_type": "stream",
          "name": "stdout",
          "text": [
            "Train data shape: (150000, 31)\n",
            "TestA data shape: (50000, 30)\n"
          ]
        }
      ],
      "execution_count": 7,
      "metadata": {
        "gather": {
          "logged": 1618220477700
        }
      }
    },
    {
      "cell_type": "markdown",
      "source": [
        "#### 1) 数据简要浏览"
      ],
      "metadata": {}
    },
    {
      "cell_type": "code",
      "source": [
        "## 通过.head() 简要浏览读取数据的形式\n",
        "Train_data.head()"
      ],
      "outputs": [
        {
          "output_type": "execute_result",
          "execution_count": 8,
          "data": {
            "text/plain": "   SaleID    name   regDate  model  brand  bodyType  fuelType  gearbox  power  \\\n0       0     736  20040402   30.0      6       1.0       0.0      0.0     60   \n1       1    2262  20030301   40.0      1       2.0       0.0      0.0      0   \n2       2   14874  20040403  115.0     15       1.0       0.0      0.0    163   \n3       3   71865  19960908  109.0     10       0.0       0.0      1.0    193   \n4       4  111080  20120103  110.0      5       1.0       0.0      0.0     68   \n\n   kilometer  ...       v_5       v_6       v_7       v_8       v_9      v_10  \\\n0       12.5  ...  0.235676  0.101988  0.129549  0.022816  0.097462 -2.881803   \n1       15.0  ...  0.264777  0.121004  0.135731  0.026597  0.020582 -4.900482   \n2       12.5  ...  0.251410  0.114912  0.165147  0.062173  0.027075 -4.846749   \n3       15.0  ...  0.274293  0.110300  0.121964  0.033395  0.000000 -4.509599   \n4        5.0  ...  0.228036  0.073205  0.091880  0.078819  0.121534 -1.896240   \n\n       v_11      v_12      v_13      v_14  \n0  2.804097 -2.420821  0.795292  0.914762  \n1  2.096338 -1.030483 -1.722674  0.245522  \n2  1.803559  1.565330 -0.832687 -0.229963  \n3  1.285940 -0.501868 -2.438353 -0.478699  \n4  0.910783  0.931110  2.834518  1.923482  \n\n[5 rows x 31 columns]",
            "text/html": "<div>\n<style scoped>\n    .dataframe tbody tr th:only-of-type {\n        vertical-align: middle;\n    }\n\n    .dataframe tbody tr th {\n        vertical-align: top;\n    }\n\n    .dataframe thead th {\n        text-align: right;\n    }\n</style>\n<table border=\"1\" class=\"dataframe\">\n  <thead>\n    <tr style=\"text-align: right;\">\n      <th></th>\n      <th>SaleID</th>\n      <th>name</th>\n      <th>regDate</th>\n      <th>model</th>\n      <th>brand</th>\n      <th>bodyType</th>\n      <th>fuelType</th>\n      <th>gearbox</th>\n      <th>power</th>\n      <th>kilometer</th>\n      <th>...</th>\n      <th>v_5</th>\n      <th>v_6</th>\n      <th>v_7</th>\n      <th>v_8</th>\n      <th>v_9</th>\n      <th>v_10</th>\n      <th>v_11</th>\n      <th>v_12</th>\n      <th>v_13</th>\n      <th>v_14</th>\n    </tr>\n  </thead>\n  <tbody>\n    <tr>\n      <th>0</th>\n      <td>0</td>\n      <td>736</td>\n      <td>20040402</td>\n      <td>30.0</td>\n      <td>6</td>\n      <td>1.0</td>\n      <td>0.0</td>\n      <td>0.0</td>\n      <td>60</td>\n      <td>12.5</td>\n      <td>...</td>\n      <td>0.235676</td>\n      <td>0.101988</td>\n      <td>0.129549</td>\n      <td>0.022816</td>\n      <td>0.097462</td>\n      <td>-2.881803</td>\n      <td>2.804097</td>\n      <td>-2.420821</td>\n      <td>0.795292</td>\n      <td>0.914762</td>\n    </tr>\n    <tr>\n      <th>1</th>\n      <td>1</td>\n      <td>2262</td>\n      <td>20030301</td>\n      <td>40.0</td>\n      <td>1</td>\n      <td>2.0</td>\n      <td>0.0</td>\n      <td>0.0</td>\n      <td>0</td>\n      <td>15.0</td>\n      <td>...</td>\n      <td>0.264777</td>\n      <td>0.121004</td>\n      <td>0.135731</td>\n      <td>0.026597</td>\n      <td>0.020582</td>\n      <td>-4.900482</td>\n      <td>2.096338</td>\n      <td>-1.030483</td>\n      <td>-1.722674</td>\n      <td>0.245522</td>\n    </tr>\n    <tr>\n      <th>2</th>\n      <td>2</td>\n      <td>14874</td>\n      <td>20040403</td>\n      <td>115.0</td>\n      <td>15</td>\n      <td>1.0</td>\n      <td>0.0</td>\n      <td>0.0</td>\n      <td>163</td>\n      <td>12.5</td>\n      <td>...</td>\n      <td>0.251410</td>\n      <td>0.114912</td>\n      <td>0.165147</td>\n      <td>0.062173</td>\n      <td>0.027075</td>\n      <td>-4.846749</td>\n      <td>1.803559</td>\n      <td>1.565330</td>\n      <td>-0.832687</td>\n      <td>-0.229963</td>\n    </tr>\n    <tr>\n      <th>3</th>\n      <td>3</td>\n      <td>71865</td>\n      <td>19960908</td>\n      <td>109.0</td>\n      <td>10</td>\n      <td>0.0</td>\n      <td>0.0</td>\n      <td>1.0</td>\n      <td>193</td>\n      <td>15.0</td>\n      <td>...</td>\n      <td>0.274293</td>\n      <td>0.110300</td>\n      <td>0.121964</td>\n      <td>0.033395</td>\n      <td>0.000000</td>\n      <td>-4.509599</td>\n      <td>1.285940</td>\n      <td>-0.501868</td>\n      <td>-2.438353</td>\n      <td>-0.478699</td>\n    </tr>\n    <tr>\n      <th>4</th>\n      <td>4</td>\n      <td>111080</td>\n      <td>20120103</td>\n      <td>110.0</td>\n      <td>5</td>\n      <td>1.0</td>\n      <td>0.0</td>\n      <td>0.0</td>\n      <td>68</td>\n      <td>5.0</td>\n      <td>...</td>\n      <td>0.228036</td>\n      <td>0.073205</td>\n      <td>0.091880</td>\n      <td>0.078819</td>\n      <td>0.121534</td>\n      <td>-1.896240</td>\n      <td>0.910783</td>\n      <td>0.931110</td>\n      <td>2.834518</td>\n      <td>1.923482</td>\n    </tr>\n  </tbody>\n</table>\n<p>5 rows × 31 columns</p>\n</div>"
          },
          "metadata": {}
        }
      ],
      "execution_count": 8,
      "metadata": {
        "gather": {
          "logged": 1618220479428
        }
      }
    },
    {
      "cell_type": "markdown",
      "source": [
        "#### 2) 数据信息查看"
      ],
      "metadata": {}
    },
    {
      "cell_type": "code",
      "source": [
        "## 通过 .info() 简要可以看到对应一些数据列名，以及NAN缺失信息\n",
        "Train_data.info()"
      ],
      "outputs": [
        {
          "output_type": "stream",
          "name": "stdout",
          "text": [
            "<class 'pandas.core.frame.DataFrame'>\n",
            "RangeIndex: 150000 entries, 0 to 149999\n",
            "Data columns (total 31 columns):\n",
            "SaleID               150000 non-null int64\n",
            "name                 150000 non-null int64\n",
            "regDate              150000 non-null int64\n",
            "model                149999 non-null float64\n",
            "brand                150000 non-null int64\n",
            "bodyType             145494 non-null float64\n",
            "fuelType             141320 non-null float64\n",
            "gearbox              144019 non-null float64\n",
            "power                150000 non-null int64\n",
            "kilometer            150000 non-null float64\n",
            "notRepairedDamage    150000 non-null object\n",
            "regionCode           150000 non-null int64\n",
            "seller               150000 non-null int64\n",
            "offerType            150000 non-null int64\n",
            "creatDate            150000 non-null int64\n",
            "price                150000 non-null int64\n",
            "v_0                  150000 non-null float64\n",
            "v_1                  150000 non-null float64\n",
            "v_2                  150000 non-null float64\n",
            "v_3                  150000 non-null float64\n",
            "v_4                  150000 non-null float64\n",
            "v_5                  150000 non-null float64\n",
            "v_6                  150000 non-null float64\n",
            "v_7                  150000 non-null float64\n",
            "v_8                  150000 non-null float64\n",
            "v_9                  150000 non-null float64\n",
            "v_10                 150000 non-null float64\n",
            "v_11                 150000 non-null float64\n",
            "v_12                 150000 non-null float64\n",
            "v_13                 150000 non-null float64\n",
            "v_14                 150000 non-null float64\n",
            "dtypes: float64(20), int64(10), object(1)\n",
            "memory usage: 35.5+ MB\n"
          ]
        }
      ],
      "execution_count": 9,
      "metadata": {
        "gather": {
          "logged": 1618220483264
        }
      }
    },
    {
      "cell_type": "code",
      "source": [
        "## 通过 .columns 查看列名\n",
        "Train_data.columns"
      ],
      "outputs": [
        {
          "output_type": "execute_result",
          "execution_count": 10,
          "data": {
            "text/plain": "Index(['SaleID', 'name', 'regDate', 'model', 'brand', 'bodyType', 'fuelType',\n       'gearbox', 'power', 'kilometer', 'notRepairedDamage', 'regionCode',\n       'seller', 'offerType', 'creatDate', 'price', 'v_0', 'v_1', 'v_2', 'v_3',\n       'v_4', 'v_5', 'v_6', 'v_7', 'v_8', 'v_9', 'v_10', 'v_11', 'v_12',\n       'v_13', 'v_14'],\n      dtype='object')"
          },
          "metadata": {}
        }
      ],
      "execution_count": 10,
      "metadata": {
        "gather": {
          "logged": 1618220493931
        }
      }
    },
    {
      "cell_type": "code",
      "source": [
        "TestA_data.info()"
      ],
      "outputs": [
        {
          "output_type": "stream",
          "name": "stdout",
          "text": [
            "<class 'pandas.core.frame.DataFrame'>\n",
            "RangeIndex: 50000 entries, 0 to 49999\n",
            "Data columns (total 30 columns):\n",
            "SaleID               50000 non-null int64\n",
            "name                 50000 non-null int64\n",
            "regDate              50000 non-null int64\n",
            "model                50000 non-null float64\n",
            "brand                50000 non-null int64\n",
            "bodyType             48496 non-null float64\n",
            "fuelType             47076 non-null float64\n",
            "gearbox              48032 non-null float64\n",
            "power                50000 non-null int64\n",
            "kilometer            50000 non-null float64\n",
            "notRepairedDamage    50000 non-null object\n",
            "regionCode           50000 non-null int64\n",
            "seller               50000 non-null int64\n",
            "offerType            50000 non-null int64\n",
            "creatDate            50000 non-null int64\n",
            "v_0                  50000 non-null float64\n",
            "v_1                  50000 non-null float64\n",
            "v_2                  50000 non-null float64\n",
            "v_3                  50000 non-null float64\n",
            "v_4                  50000 non-null float64\n",
            "v_5                  50000 non-null float64\n",
            "v_6                  50000 non-null float64\n",
            "v_7                  50000 non-null float64\n",
            "v_8                  50000 non-null float64\n",
            "v_9                  50000 non-null float64\n",
            "v_10                 50000 non-null float64\n",
            "v_11                 50000 non-null float64\n",
            "v_12                 50000 non-null float64\n",
            "v_13                 50000 non-null float64\n",
            "v_14                 50000 non-null float64\n",
            "dtypes: float64(20), int64(9), object(1)\n",
            "memory usage: 11.4+ MB\n"
          ]
        }
      ],
      "execution_count": 11,
      "metadata": {
        "gather": {
          "logged": 1618220499017
        }
      }
    },
    {
      "cell_type": "markdown",
      "source": [
        "#### 3) 数据统计信息浏览"
      ],
      "metadata": {}
    },
    {
      "cell_type": "code",
      "source": [
        "## 通过 .describe() 可以查看数值特征列的一些统计信息\n",
        "Train_data.describe()"
      ],
      "outputs": [
        {
          "output_type": "execute_result",
          "execution_count": 12,
          "data": {
            "text/plain": "              SaleID           name       regDate          model  \\\ncount  150000.000000  150000.000000  1.500000e+05  149999.000000   \nmean    74999.500000   68349.172873  2.003417e+07      47.129021   \nstd     43301.414527   61103.875095  5.364988e+04      49.536040   \nmin         0.000000       0.000000  1.991000e+07       0.000000   \n25%     37499.750000   11156.000000  1.999091e+07      10.000000   \n50%     74999.500000   51638.000000  2.003091e+07      30.000000   \n75%    112499.250000  118841.250000  2.007111e+07      66.000000   \nmax    149999.000000  196812.000000  2.015121e+07     247.000000   \n\n               brand       bodyType       fuelType        gearbox  \\\ncount  150000.000000  145494.000000  141320.000000  144019.000000   \nmean        8.052733       1.792369       0.375842       0.224943   \nstd         7.864956       1.760640       0.548677       0.417546   \nmin         0.000000       0.000000       0.000000       0.000000   \n25%         1.000000       0.000000       0.000000       0.000000   \n50%         6.000000       1.000000       0.000000       0.000000   \n75%        13.000000       3.000000       1.000000       0.000000   \nmax        39.000000       7.000000       6.000000       1.000000   \n\n               power      kilometer  ...            v_5            v_6  \\\ncount  150000.000000  150000.000000  ...  150000.000000  150000.000000   \nmean      119.316547      12.597160  ...       0.248204       0.044923   \nstd       177.168419       3.919576  ...       0.045804       0.051743   \nmin         0.000000       0.500000  ...       0.000000       0.000000   \n25%        75.000000      12.500000  ...       0.243615       0.000038   \n50%       110.000000      15.000000  ...       0.257798       0.000812   \n75%       150.000000      15.000000  ...       0.265297       0.102009   \nmax     19312.000000      15.000000  ...       0.291838       0.151420   \n\n                 v_7            v_8            v_9           v_10  \\\ncount  150000.000000  150000.000000  150000.000000  150000.000000   \nmean        0.124692       0.058144       0.061996      -0.001000   \nstd         0.201410       0.029186       0.035692       3.772386   \nmin         0.000000       0.000000       0.000000      -9.168192   \n25%         0.062474       0.035334       0.033930      -3.722303   \n50%         0.095866       0.057014       0.058484       1.624076   \n75%         0.125243       0.079382       0.087491       2.844357   \nmax         1.404936       0.160791       0.222787      12.357011   \n\n                v_11           v_12           v_13           v_14  \ncount  150000.000000  150000.000000  150000.000000  150000.000000  \nmean        0.009035       0.004813       0.000313      -0.000688  \nstd         3.286071       2.517478       1.288988       1.038685  \nmin        -5.558207      -9.639552      -4.153899      -6.546556  \n25%        -1.951543      -1.871846      -1.057789      -0.437034  \n50%        -0.358053      -0.130753      -0.036245       0.141246  \n75%         1.255022       1.776933       0.942813       0.680378  \nmax        18.819042      13.847792      11.147669       8.658418  \n\n[8 rows x 30 columns]",
            "text/html": "<div>\n<style scoped>\n    .dataframe tbody tr th:only-of-type {\n        vertical-align: middle;\n    }\n\n    .dataframe tbody tr th {\n        vertical-align: top;\n    }\n\n    .dataframe thead th {\n        text-align: right;\n    }\n</style>\n<table border=\"1\" class=\"dataframe\">\n  <thead>\n    <tr style=\"text-align: right;\">\n      <th></th>\n      <th>SaleID</th>\n      <th>name</th>\n      <th>regDate</th>\n      <th>model</th>\n      <th>brand</th>\n      <th>bodyType</th>\n      <th>fuelType</th>\n      <th>gearbox</th>\n      <th>power</th>\n      <th>kilometer</th>\n      <th>...</th>\n      <th>v_5</th>\n      <th>v_6</th>\n      <th>v_7</th>\n      <th>v_8</th>\n      <th>v_9</th>\n      <th>v_10</th>\n      <th>v_11</th>\n      <th>v_12</th>\n      <th>v_13</th>\n      <th>v_14</th>\n    </tr>\n  </thead>\n  <tbody>\n    <tr>\n      <th>count</th>\n      <td>150000.000000</td>\n      <td>150000.000000</td>\n      <td>1.500000e+05</td>\n      <td>149999.000000</td>\n      <td>150000.000000</td>\n      <td>145494.000000</td>\n      <td>141320.000000</td>\n      <td>144019.000000</td>\n      <td>150000.000000</td>\n      <td>150000.000000</td>\n      <td>...</td>\n      <td>150000.000000</td>\n      <td>150000.000000</td>\n      <td>150000.000000</td>\n      <td>150000.000000</td>\n      <td>150000.000000</td>\n      <td>150000.000000</td>\n      <td>150000.000000</td>\n      <td>150000.000000</td>\n      <td>150000.000000</td>\n      <td>150000.000000</td>\n    </tr>\n    <tr>\n      <th>mean</th>\n      <td>74999.500000</td>\n      <td>68349.172873</td>\n      <td>2.003417e+07</td>\n      <td>47.129021</td>\n      <td>8.052733</td>\n      <td>1.792369</td>\n      <td>0.375842</td>\n      <td>0.224943</td>\n      <td>119.316547</td>\n      <td>12.597160</td>\n      <td>...</td>\n      <td>0.248204</td>\n      <td>0.044923</td>\n      <td>0.124692</td>\n      <td>0.058144</td>\n      <td>0.061996</td>\n      <td>-0.001000</td>\n      <td>0.009035</td>\n      <td>0.004813</td>\n      <td>0.000313</td>\n      <td>-0.000688</td>\n    </tr>\n    <tr>\n      <th>std</th>\n      <td>43301.414527</td>\n      <td>61103.875095</td>\n      <td>5.364988e+04</td>\n      <td>49.536040</td>\n      <td>7.864956</td>\n      <td>1.760640</td>\n      <td>0.548677</td>\n      <td>0.417546</td>\n      <td>177.168419</td>\n      <td>3.919576</td>\n      <td>...</td>\n      <td>0.045804</td>\n      <td>0.051743</td>\n      <td>0.201410</td>\n      <td>0.029186</td>\n      <td>0.035692</td>\n      <td>3.772386</td>\n      <td>3.286071</td>\n      <td>2.517478</td>\n      <td>1.288988</td>\n      <td>1.038685</td>\n    </tr>\n    <tr>\n      <th>min</th>\n      <td>0.000000</td>\n      <td>0.000000</td>\n      <td>1.991000e+07</td>\n      <td>0.000000</td>\n      <td>0.000000</td>\n      <td>0.000000</td>\n      <td>0.000000</td>\n      <td>0.000000</td>\n      <td>0.000000</td>\n      <td>0.500000</td>\n      <td>...</td>\n      <td>0.000000</td>\n      <td>0.000000</td>\n      <td>0.000000</td>\n      <td>0.000000</td>\n      <td>0.000000</td>\n      <td>-9.168192</td>\n      <td>-5.558207</td>\n      <td>-9.639552</td>\n      <td>-4.153899</td>\n      <td>-6.546556</td>\n    </tr>\n    <tr>\n      <th>25%</th>\n      <td>37499.750000</td>\n      <td>11156.000000</td>\n      <td>1.999091e+07</td>\n      <td>10.000000</td>\n      <td>1.000000</td>\n      <td>0.000000</td>\n      <td>0.000000</td>\n      <td>0.000000</td>\n      <td>75.000000</td>\n      <td>12.500000</td>\n      <td>...</td>\n      <td>0.243615</td>\n      <td>0.000038</td>\n      <td>0.062474</td>\n      <td>0.035334</td>\n      <td>0.033930</td>\n      <td>-3.722303</td>\n      <td>-1.951543</td>\n      <td>-1.871846</td>\n      <td>-1.057789</td>\n      <td>-0.437034</td>\n    </tr>\n    <tr>\n      <th>50%</th>\n      <td>74999.500000</td>\n      <td>51638.000000</td>\n      <td>2.003091e+07</td>\n      <td>30.000000</td>\n      <td>6.000000</td>\n      <td>1.000000</td>\n      <td>0.000000</td>\n      <td>0.000000</td>\n      <td>110.000000</td>\n      <td>15.000000</td>\n      <td>...</td>\n      <td>0.257798</td>\n      <td>0.000812</td>\n      <td>0.095866</td>\n      <td>0.057014</td>\n      <td>0.058484</td>\n      <td>1.624076</td>\n      <td>-0.358053</td>\n      <td>-0.130753</td>\n      <td>-0.036245</td>\n      <td>0.141246</td>\n    </tr>\n    <tr>\n      <th>75%</th>\n      <td>112499.250000</td>\n      <td>118841.250000</td>\n      <td>2.007111e+07</td>\n      <td>66.000000</td>\n      <td>13.000000</td>\n      <td>3.000000</td>\n      <td>1.000000</td>\n      <td>0.000000</td>\n      <td>150.000000</td>\n      <td>15.000000</td>\n      <td>...</td>\n      <td>0.265297</td>\n      <td>0.102009</td>\n      <td>0.125243</td>\n      <td>0.079382</td>\n      <td>0.087491</td>\n      <td>2.844357</td>\n      <td>1.255022</td>\n      <td>1.776933</td>\n      <td>0.942813</td>\n      <td>0.680378</td>\n    </tr>\n    <tr>\n      <th>max</th>\n      <td>149999.000000</td>\n      <td>196812.000000</td>\n      <td>2.015121e+07</td>\n      <td>247.000000</td>\n      <td>39.000000</td>\n      <td>7.000000</td>\n      <td>6.000000</td>\n      <td>1.000000</td>\n      <td>19312.000000</td>\n      <td>15.000000</td>\n      <td>...</td>\n      <td>0.291838</td>\n      <td>0.151420</td>\n      <td>1.404936</td>\n      <td>0.160791</td>\n      <td>0.222787</td>\n      <td>12.357011</td>\n      <td>18.819042</td>\n      <td>13.847792</td>\n      <td>11.147669</td>\n      <td>8.658418</td>\n    </tr>\n  </tbody>\n</table>\n<p>8 rows × 30 columns</p>\n</div>"
          },
          "metadata": {}
        }
      ],
      "execution_count": 12,
      "metadata": {
        "gather": {
          "logged": 1618220503592
        }
      }
    },
    {
      "cell_type": "code",
      "source": [
        "TestA_data.describe()"
      ],
      "outputs": [
        {
          "output_type": "execute_result",
          "execution_count": 13,
          "data": {
            "text/plain": "              SaleID           name       regDate        model         brand  \\\ncount   50000.000000   50000.000000  5.000000e+04  50000.00000  50000.000000   \nmean   224999.500000   68505.606100  2.003401e+07     47.64948      8.087140   \nstd     14433.901067   61032.124271  5.351615e+04     49.90741      7.899648   \nmin    200000.000000       1.000000  1.991000e+07      0.00000      0.000000   \n25%    212499.750000   11315.000000  1.999100e+07     11.00000      1.000000   \n50%    224999.500000   52215.000000  2.003091e+07     30.00000      6.000000   \n75%    237499.250000  118710.750000  2.007110e+07     66.00000     13.000000   \nmax    249999.000000  196808.000000  2.015121e+07    246.00000     39.000000   \n\n           bodyType      fuelType       gearbox         power     kilometer  \\\ncount  48496.000000  47076.000000  48032.000000  50000.000000  50000.000000   \nmean       1.793736      0.376498      0.226953    119.766960     12.598260   \nstd        1.764970      0.549281      0.418866    206.313348      3.912519   \nmin        0.000000      0.000000      0.000000      0.000000      0.500000   \n25%        0.000000      0.000000      0.000000     75.000000     12.500000   \n50%        1.000000      0.000000      0.000000    110.000000     15.000000   \n75%        3.000000      1.000000      0.000000    150.000000     15.000000   \nmax        7.000000      6.000000      1.000000  19211.000000     15.000000   \n\n       ...           v_5           v_6           v_7           v_8  \\\ncount  ...  50000.000000  50000.000000  50000.000000  50000.000000   \nmean   ...      0.248147      0.044624      0.124693      0.058198   \nstd    ...      0.045836      0.051664      0.201440      0.029171   \nmin    ...      0.000000      0.000000      0.000000      0.000000   \n25%    ...      0.243436      0.000035      0.062519      0.035413   \n50%    ...      0.257818      0.000801      0.095880      0.056804   \n75%    ...      0.265263      0.101654      0.125470      0.079387   \nmax    ...      0.291176      0.153403      1.411559      0.157458   \n\n                v_9          v_10          v_11          v_12          v_13  \\\ncount  50000.000000  50000.000000  50000.000000  50000.000000  50000.000000   \nmean       0.062113      0.019633      0.002759      0.004342      0.004570   \nstd        0.035723      3.764095      3.289523      2.515912      1.287194   \nmin        0.000000     -9.119719     -5.662163     -8.291868     -4.157649   \n25%        0.033880     -3.675196     -1.963928     -1.865406     -1.048722   \n50%        0.058749      1.632134     -0.375537     -0.138943     -0.036352   \n75%        0.087624      2.846205      1.263451      1.775632      0.945239   \nmax        0.211304     12.177864     18.789496     13.384828      5.635374   \n\n               v_14  \ncount  50000.000000  \nmean      -0.007209  \nstd        1.044718  \nmin       -6.098192  \n25%       -0.440706  \n50%        0.136849  \n75%        0.685555  \nmax        2.649768  \n\n[8 rows x 29 columns]",
            "text/html": "<div>\n<style scoped>\n    .dataframe tbody tr th:only-of-type {\n        vertical-align: middle;\n    }\n\n    .dataframe tbody tr th {\n        vertical-align: top;\n    }\n\n    .dataframe thead th {\n        text-align: right;\n    }\n</style>\n<table border=\"1\" class=\"dataframe\">\n  <thead>\n    <tr style=\"text-align: right;\">\n      <th></th>\n      <th>SaleID</th>\n      <th>name</th>\n      <th>regDate</th>\n      <th>model</th>\n      <th>brand</th>\n      <th>bodyType</th>\n      <th>fuelType</th>\n      <th>gearbox</th>\n      <th>power</th>\n      <th>kilometer</th>\n      <th>...</th>\n      <th>v_5</th>\n      <th>v_6</th>\n      <th>v_7</th>\n      <th>v_8</th>\n      <th>v_9</th>\n      <th>v_10</th>\n      <th>v_11</th>\n      <th>v_12</th>\n      <th>v_13</th>\n      <th>v_14</th>\n    </tr>\n  </thead>\n  <tbody>\n    <tr>\n      <th>count</th>\n      <td>50000.000000</td>\n      <td>50000.000000</td>\n      <td>5.000000e+04</td>\n      <td>50000.00000</td>\n      <td>50000.000000</td>\n      <td>48496.000000</td>\n      <td>47076.000000</td>\n      <td>48032.000000</td>\n      <td>50000.000000</td>\n      <td>50000.000000</td>\n      <td>...</td>\n      <td>50000.000000</td>\n      <td>50000.000000</td>\n      <td>50000.000000</td>\n      <td>50000.000000</td>\n      <td>50000.000000</td>\n      <td>50000.000000</td>\n      <td>50000.000000</td>\n      <td>50000.000000</td>\n      <td>50000.000000</td>\n      <td>50000.000000</td>\n    </tr>\n    <tr>\n      <th>mean</th>\n      <td>224999.500000</td>\n      <td>68505.606100</td>\n      <td>2.003401e+07</td>\n      <td>47.64948</td>\n      <td>8.087140</td>\n      <td>1.793736</td>\n      <td>0.376498</td>\n      <td>0.226953</td>\n      <td>119.766960</td>\n      <td>12.598260</td>\n      <td>...</td>\n      <td>0.248147</td>\n      <td>0.044624</td>\n      <td>0.124693</td>\n      <td>0.058198</td>\n      <td>0.062113</td>\n      <td>0.019633</td>\n      <td>0.002759</td>\n      <td>0.004342</td>\n      <td>0.004570</td>\n      <td>-0.007209</td>\n    </tr>\n    <tr>\n      <th>std</th>\n      <td>14433.901067</td>\n      <td>61032.124271</td>\n      <td>5.351615e+04</td>\n      <td>49.90741</td>\n      <td>7.899648</td>\n      <td>1.764970</td>\n      <td>0.549281</td>\n      <td>0.418866</td>\n      <td>206.313348</td>\n      <td>3.912519</td>\n      <td>...</td>\n      <td>0.045836</td>\n      <td>0.051664</td>\n      <td>0.201440</td>\n      <td>0.029171</td>\n      <td>0.035723</td>\n      <td>3.764095</td>\n      <td>3.289523</td>\n      <td>2.515912</td>\n      <td>1.287194</td>\n      <td>1.044718</td>\n    </tr>\n    <tr>\n      <th>min</th>\n      <td>200000.000000</td>\n      <td>1.000000</td>\n      <td>1.991000e+07</td>\n      <td>0.00000</td>\n      <td>0.000000</td>\n      <td>0.000000</td>\n      <td>0.000000</td>\n      <td>0.000000</td>\n      <td>0.000000</td>\n      <td>0.500000</td>\n      <td>...</td>\n      <td>0.000000</td>\n      <td>0.000000</td>\n      <td>0.000000</td>\n      <td>0.000000</td>\n      <td>0.000000</td>\n      <td>-9.119719</td>\n      <td>-5.662163</td>\n      <td>-8.291868</td>\n      <td>-4.157649</td>\n      <td>-6.098192</td>\n    </tr>\n    <tr>\n      <th>25%</th>\n      <td>212499.750000</td>\n      <td>11315.000000</td>\n      <td>1.999100e+07</td>\n      <td>11.00000</td>\n      <td>1.000000</td>\n      <td>0.000000</td>\n      <td>0.000000</td>\n      <td>0.000000</td>\n      <td>75.000000</td>\n      <td>12.500000</td>\n      <td>...</td>\n      <td>0.243436</td>\n      <td>0.000035</td>\n      <td>0.062519</td>\n      <td>0.035413</td>\n      <td>0.033880</td>\n      <td>-3.675196</td>\n      <td>-1.963928</td>\n      <td>-1.865406</td>\n      <td>-1.048722</td>\n      <td>-0.440706</td>\n    </tr>\n    <tr>\n      <th>50%</th>\n      <td>224999.500000</td>\n      <td>52215.000000</td>\n      <td>2.003091e+07</td>\n      <td>30.00000</td>\n      <td>6.000000</td>\n      <td>1.000000</td>\n      <td>0.000000</td>\n      <td>0.000000</td>\n      <td>110.000000</td>\n      <td>15.000000</td>\n      <td>...</td>\n      <td>0.257818</td>\n      <td>0.000801</td>\n      <td>0.095880</td>\n      <td>0.056804</td>\n      <td>0.058749</td>\n      <td>1.632134</td>\n      <td>-0.375537</td>\n      <td>-0.138943</td>\n      <td>-0.036352</td>\n      <td>0.136849</td>\n    </tr>\n    <tr>\n      <th>75%</th>\n      <td>237499.250000</td>\n      <td>118710.750000</td>\n      <td>2.007110e+07</td>\n      <td>66.00000</td>\n      <td>13.000000</td>\n      <td>3.000000</td>\n      <td>1.000000</td>\n      <td>0.000000</td>\n      <td>150.000000</td>\n      <td>15.000000</td>\n      <td>...</td>\n      <td>0.265263</td>\n      <td>0.101654</td>\n      <td>0.125470</td>\n      <td>0.079387</td>\n      <td>0.087624</td>\n      <td>2.846205</td>\n      <td>1.263451</td>\n      <td>1.775632</td>\n      <td>0.945239</td>\n      <td>0.685555</td>\n    </tr>\n    <tr>\n      <th>max</th>\n      <td>249999.000000</td>\n      <td>196808.000000</td>\n      <td>2.015121e+07</td>\n      <td>246.00000</td>\n      <td>39.000000</td>\n      <td>7.000000</td>\n      <td>6.000000</td>\n      <td>1.000000</td>\n      <td>19211.000000</td>\n      <td>15.000000</td>\n      <td>...</td>\n      <td>0.291176</td>\n      <td>0.153403</td>\n      <td>1.411559</td>\n      <td>0.157458</td>\n      <td>0.211304</td>\n      <td>12.177864</td>\n      <td>18.789496</td>\n      <td>13.384828</td>\n      <td>5.635374</td>\n      <td>2.649768</td>\n    </tr>\n  </tbody>\n</table>\n<p>8 rows × 29 columns</p>\n</div>"
          },
          "metadata": {}
        }
      ],
      "execution_count": 13,
      "metadata": {
        "gather": {
          "logged": 1618220509560
        }
      }
    },
    {
      "cell_type": "markdown",
      "source": [
        "### Step 3:特征与标签构建"
      ],
      "metadata": {}
    },
    {
      "cell_type": "markdown",
      "source": [
        "#### 1) 提取数值类型特征列名"
      ],
      "metadata": {}
    },
    {
      "cell_type": "code",
      "source": [
        "numerical_cols = Train_data.select_dtypes(exclude = 'object').columns\n",
        "print(numerical_cols)"
      ],
      "outputs": [
        {
          "output_type": "stream",
          "name": "stdout",
          "text": [
            "Index(['SaleID', 'name', 'regDate', 'model', 'brand', 'bodyType', 'fuelType',\n",
            "       'gearbox', 'power', 'kilometer', 'regionCode', 'seller', 'offerType',\n",
            "       'creatDate', 'price', 'v_0', 'v_1', 'v_2', 'v_3', 'v_4', 'v_5', 'v_6',\n",
            "       'v_7', 'v_8', 'v_9', 'v_10', 'v_11', 'v_12', 'v_13', 'v_14'],\n",
            "      dtype='object')\n"
          ]
        }
      ],
      "execution_count": 14,
      "metadata": {
        "gather": {
          "logged": 1618220518631
        }
      }
    },
    {
      "cell_type": "code",
      "source": [
        "categorical_cols = Train_data.select_dtypes(include = 'object').columns\n",
        "print(categorical_cols)"
      ],
      "outputs": [
        {
          "output_type": "stream",
          "name": "stdout",
          "text": [
            "Index(['notRepairedDamage'], dtype='object')\n"
          ]
        }
      ],
      "execution_count": 15,
      "metadata": {
        "gather": {
          "logged": 1618220524010
        }
      }
    },
    {
      "cell_type": "markdown",
      "source": [
        "#### 2) 构建训练和测试样本"
      ],
      "metadata": {}
    },
    {
      "cell_type": "code",
      "source": [
        "## 选择特征列\n",
        "feature_cols = [col for col in numerical_cols if col not in ['SaleID','name','regDate','creatDate','price','model','brand','regionCode','seller']]\n",
        "feature_cols = [col for col in feature_cols if 'Type' not in col]\n",
        "\n",
        "## 提前特征列，标签列构造训练样本和测试样本\n",
        "X_data = Train_data[feature_cols]\n",
        "Y_data = Train_data['price']\n",
        "\n",
        "X_test  = TestA_data[feature_cols]\n",
        "\n",
        "print('X train shape:',X_data.shape)\n",
        "print('X test shape:',X_test.shape)"
      ],
      "outputs": [
        {
          "output_type": "stream",
          "name": "stdout",
          "text": [
            "X train shape: (150000, 18)\n",
            "X test shape: (50000, 18)\n"
          ]
        }
      ],
      "execution_count": 16,
      "metadata": {
        "gather": {
          "logged": 1618220533675
        }
      }
    },
    {
      "cell_type": "code",
      "source": [
        "## 定义了一个统计函数，方便后续信息统计\n",
        "def Sta_inf(data):\n",
        "    print('_min',np.min(data))\n",
        "    print('_max:',np.max(data))\n",
        "    print('_mean',np.mean(data))\n",
        "    print('_ptp',np.ptp(data))\n",
        "    print('_std',np.std(data))\n",
        "    print('_var',np.var(data))"
      ],
      "outputs": [],
      "execution_count": 17,
      "metadata": {
        "gather": {
          "logged": 1618220562695
        }
      }
    },
    {
      "cell_type": "markdown",
      "source": [
        "#### 3) 统计标签的基本分布信息"
      ],
      "metadata": {}
    },
    {
      "cell_type": "code",
      "source": [
        "print('Sta of label:')\n",
        "Sta_inf(Y_data)"
      ],
      "outputs": [
        {
          "output_type": "stream",
          "name": "stdout",
          "text": [
            "Sta of label:\n",
            "_min 11\n",
            "_max: 99999\n",
            "_mean 5923.327333333334\n",
            "_ptp 99988\n",
            "_std 7501.973469876438\n",
            "_var 56279605.94272992\n"
          ]
        }
      ],
      "execution_count": 18,
      "metadata": {
        "gather": {
          "logged": 1618220565901
        }
      }
    },
    {
      "cell_type": "code",
      "source": [
        "## 绘制标签的统计图，查看标签分布\n",
        "plt.hist(Y_data)\n",
        "plt.show()\n",
        "plt.close()"
      ],
      "outputs": [
        {
          "output_type": "display_data",
          "data": {
            "text/plain": "<Figure size 432x288 with 1 Axes>",
            "image/png": "[encoded data removed]"
          },
          "metadata": {
            "needs_background": "light"
          }
        }
      ],
      "execution_count": 19,
      "metadata": {
        "gather": {
          "logged": 1618220569475
        }
      }
    },
    {
      "cell_type": "markdown",
      "source": [
        "#### 4) 缺省值用-1填补"
      ],
      "metadata": {}
    },
    {
      "cell_type": "code",
      "source": [
        "X_data = X_data.fillna(-1)\n",
        "X_test = X_test.fillna(-1)"
      ],
      "outputs": [],
      "execution_count": 20,
      "metadata": {
        "gather": {
          "logged": 1618220594250
        }
      }
    },
    {
      "cell_type": "markdown",
      "source": [
        "### Step 4:模型训练与预测"
      ],
      "metadata": {}
    },
    {
      "cell_type": "markdown",
      "source": [
        "#### 1) 利用xgb进行五折交叉验证查看模型的参数效果"
      ],
      "metadata": {}
    },
    {
      "cell_type": "code",
      "source": [
        "## xgb-Model\n",
        "xgr = xgb.XGBRegressor(n_estimators=120, learning_rate=0.1, gamma=0, subsample=0.8,\\\n",
        "        colsample_bytree=0.9, max_depth=7) #,objective ='reg:squarederror'\n",
        "\n",
        "scores_train = []\n",
        "scores = []\n",
        "\n",
        "## 5折交叉验证方式\n",
        "sk=StratifiedKFold(n_splits=5,shuffle=True,random_state=0)\n",
        "for train_ind,val_ind in sk.split(X_data,Y_data):\n",
        "    \n",
        "    train_x=X_data.iloc[train_ind].values\n",
        "    train_y=Y_data.iloc[train_ind]\n",
        "    val_x=X_data.iloc[val_ind].values\n",
        "    val_y=Y_data.iloc[val_ind]\n",
        "    \n",
        "    xgr.fit(train_x,train_y)\n",
        "    pred_train_xgb=xgr.predict(train_x)\n",
        "    pred_xgb=xgr.predict(val_x)\n",
        "    \n",
        "    score_train = mean_absolute_error(train_y,pred_train_xgb)\n",
        "    scores_train.append(score_train)\n",
        "    score = mean_absolute_error(val_y,pred_xgb)\n",
        "    scores.append(score)\n",
        "\n",
        "print('Train mae:',np.mean(score_train))\n",
        "print('Val mae',np.mean(scores))"
      ],
      "outputs": [
        {
          "output_type": "stream",
          "name": "stdout",
          "text": [
            "[09:45:23] WARNING: /workspace/src/objective/regression_obj.cu:152: reg:linear is now deprecated in favor of reg:squarederror.\n",
            "[09:46:08] WARNING: /workspace/src/objective/regression_obj.cu:152: reg:linear is now deprecated in favor of reg:squarederror.\n",
            "[09:46:46] WARNING: /workspace/src/objective/regression_obj.cu:152: reg:linear is now deprecated in favor of reg:squarederror.\n",
            "[09:47:26] WARNING: /workspace/src/objective/regression_obj.cu:152: reg:linear is now deprecated in favor of reg:squarederror.\n",
            "[09:48:05] WARNING: /workspace/src/objective/regression_obj.cu:152: reg:linear is now deprecated in favor of reg:squarederror.\n",
            "Train mae: 621.8412587378155\n",
            "Val mae 714.2722671070576\n"
          ]
        }
      ],
      "execution_count": 21,
      "metadata": {
        "gather": {
          "logged": 1618220924820
        }
      }
    },
    {
      "cell_type": "markdown",
      "source": [
        "#### 2） 定义xgb和lgb模型函数"
      ],
      "metadata": {}
    },
    {
      "cell_type": "code",
      "source": [
        "def build_model_xgb(x_train,y_train):\n",
        "    model = xgb.XGBRegressor(n_estimators=150, learning_rate=0.1, gamma=0, subsample=0.8,\\\n",
        "        colsample_bytree=0.9, max_depth=7) #, objective ='reg:squarederror'\n",
        "    model.fit(x_train, y_train)\n",
        "    return model\n",
        "\n",
        "def build_model_lgb(x_train,y_train):\n",
        "    estimator = lgb.LGBMRegressor(num_leaves=127,n_estimators = 150)\n",
        "    param_grid = {\n",
        "        'learning_rate': [0.01, 0.05, 0.1, 0.2],\n",
        "    }\n",
        "    gbm = GridSearchCV(estimator, param_grid)\n",
        "    gbm.fit(x_train, y_train)\n",
        "    return gbm"
      ],
      "outputs": [],
      "execution_count": 22,
      "metadata": {
        "gather": {
          "logged": 1618220947338
        }
      }
    },
    {
      "cell_type": "markdown",
      "source": [
        "#### 3）切分数据集（Train,Val）进行模型训练，评价和预测"
      ],
      "metadata": {}
    },
    {
      "cell_type": "code",
      "source": [
        "## Split data with val\n",
        "x_train,x_val,y_train,y_val = train_test_split(X_data,Y_data,test_size=0.3)"
      ],
      "outputs": [],
      "execution_count": 23,
      "metadata": {
        "gather": {
          "logged": 1618220957676
        }
      }
    },
    {
      "cell_type": "code",
      "source": [
        "print('Train lgb...')\n",
        "model_lgb = build_model_lgb(x_train,y_train)\n",
        "val_lgb = model_lgb.predict(x_val)\n",
        "MAE_lgb = mean_absolute_error(y_val,val_lgb)\n",
        "print('MAE of val with lgb:',MAE_lgb)\n",
        "\n",
        "print('Predict lgb...')\n",
        "model_lgb_pre = build_model_lgb(X_data,Y_data)\n",
        "subA_lgb = model_lgb_pre.predict(X_test)\n",
        "print('Sta of Predict lgb:')\n",
        "Sta_inf(subA_lgb)"
      ],
      "outputs": [
        {
          "output_type": "stream",
          "name": "stdout",
          "text": [
            "Train lgb...\n",
            "MAE of val with lgb: 696.5734915136836\n",
            "Predict lgb...\n",
            "Sta of Predict lgb:\n",
            "_min -589.8793550785414\n",
            "_max: 90760.26063584947\n",
            "_mean 5906.935218383807\n",
            "_ptp 91350.13999092802\n",
            "_std 7344.644970956768\n",
            "_var 53943809.749400534\n"
          ]
        }
      ],
      "execution_count": 24,
      "metadata": {
        "gather": {
          "logged": 1618221135552
        }
      }
    },
    {
      "cell_type": "code",
      "source": [
        "print('Train xgb...')\n",
        "model_xgb = build_model_xgb(x_train,y_train)\n",
        "val_xgb = model_xgb.predict(x_val)\n",
        "MAE_xgb = mean_absolute_error(y_val,val_xgb)\n",
        "print('MAE of val with xgb:',MAE_xgb)\n",
        "\n",
        "print('Predict xgb...')\n",
        "model_xgb_pre = build_model_xgb(X_data,Y_data)\n",
        "subA_xgb = model_xgb_pre.predict(X_test)\n",
        "print('Sta of Predict xgb:')\n",
        "Sta_inf(subA_xgb)"
      ],
      "outputs": [
        {
          "output_type": "stream",
          "name": "stdout",
          "text": [
            "Train xgb...\n",
            "[09:55:22] WARNING: /workspace/src/objective/regression_obj.cu:152: reg:linear is now deprecated in favor of reg:squarederror.\n",
            "MAE of val with xgb: 718.7488604203025\n",
            "Predict xgb...\n",
            "[09:56:03] WARNING: /workspace/src/objective/regression_obj.cu:152: reg:linear is now deprecated in favor of reg:squarederror.\n",
            "Sta of Predict xgb:\n",
            "_min -284.1213\n",
            "_max: 89791.23\n",
            "_mean 5903.454\n",
            "_ptp 90075.35\n",
            "_std 7321.2134\n",
            "_var 53600164.0\n"
          ]
        }
      ],
      "execution_count": 25,
      "metadata": {
        "gather": {
          "logged": 1618221423934
        }
      }
    },
    {
      "cell_type": "markdown",
      "source": [
        "#### 4）进行两模型的结果加权融合"
      ],
      "metadata": {}
    },
    {
      "cell_type": "code",
      "source": [
        "## 这里我们采取了简单的加权融合的方式\n",
        "val_Weighted = (1-MAE_lgb/(MAE_xgb+MAE_lgb))*val_lgb+(1-MAE_xgb/(MAE_xgb+MAE_lgb))*val_xgb\n",
        "val_Weighted[val_Weighted<0]=10 # 由于我们发现预测的最小值有负数，而真实情况下，price为负是不存在的，由此我们进行对应的后修正\n",
        "print('MAE of val with Weighted ensemble:',mean_absolute_error(y_val,val_Weighted))"
      ],
      "outputs": [
        {
          "output_type": "stream",
          "name": "stdout",
          "text": [
            "MAE of val with Weighted ensemble: 693.2041484461511\n"
          ]
        }
      ],
      "execution_count": 26,
      "metadata": {
        "gather": {
          "logged": 1618221455581
        }
      }
    },
    {
      "cell_type": "code",
      "source": [
        "sub_Weighted = (1-MAE_lgb/(MAE_xgb+MAE_lgb))*subA_lgb+(1-MAE_xgb/(MAE_xgb+MAE_lgb))*subA_xgb\n",
        "\n",
        "## 查看预测值的统计进行\n",
        "plt.hist(Y_data)\n",
        "plt.show()\n",
        "plt.close()"
      ],
      "outputs": [
        {
          "output_type": "display_data",
          "data": {
            "text/plain": "<Figure size 432x288 with 1 Axes>",
            "image/png": "[encoded data removed]"
          },
          "metadata": {
            "needs_background": "light"
          }
        }
      ],
      "execution_count": 27,
      "metadata": {
        "gather": {
          "logged": 1618221533126
        }
      }
    },
    {
      "cell_type": "markdown",
      "source": [
        "#### 5）输出结果"
      ],
      "metadata": {}
    },
    {
      "cell_type": "code",
      "source": [
        "sub = pd.DataFrame()\n",
        "sub['SaleID'] = TestA_data.SaleID\n",
        "sub['price'] = sub_Weighted\n",
        "sub.to_csv('./sub_Weighted.csv',index=False)"
      ],
      "outputs": [],
      "execution_count": 28,
      "metadata": {
        "gather": {
          "logged": 1618221631652
        }
      }
    },
    {
      "cell_type": "code",
      "source": [
        "sub.head()"
      ],
      "outputs": [
        {
          "output_type": "execute_result",
          "execution_count": 29,
          "data": {
            "text/plain": "   SaleID        price\n0  200000  1162.072662\n1  200001  1763.388353\n2  200002  8420.342580\n3  200003  1319.790260\n4  200004  2156.838497",
            "text/html": "<div>\n<style scoped>\n    .dataframe tbody tr th:only-of-type {\n        vertical-align: middle;\n    }\n\n    .dataframe tbody tr th {\n        vertical-align: top;\n    }\n\n    .dataframe thead th {\n        text-align: right;\n    }\n</style>\n<table border=\"1\" class=\"dataframe\">\n  <thead>\n    <tr style=\"text-align: right;\">\n      <th></th>\n      <th>SaleID</th>\n      <th>price</th>\n    </tr>\n  </thead>\n  <tbody>\n    <tr>\n      <th>0</th>\n      <td>200000</td>\n      <td>1162.072662</td>\n    </tr>\n    <tr>\n      <th>1</th>\n      <td>200001</td>\n      <td>1763.388353</td>\n    </tr>\n    <tr>\n      <th>2</th>\n      <td>200002</td>\n      <td>8420.342580</td>\n    </tr>\n    <tr>\n      <th>3</th>\n      <td>200003</td>\n      <td>1319.790260</td>\n    </tr>\n    <tr>\n      <th>4</th>\n      <td>200004</td>\n      <td>2156.838497</td>\n    </tr>\n  </tbody>\n</table>\n</div>"
          },
          "metadata": {}
        }
      ],
      "execution_count": 29,
      "metadata": {
        "gather": {
          "logged": 1618221636109
        }
      }
    },
    {
      "cell_type": "markdown",
      "source": [
        "**Baseline END.**\n",
        "\n",
        "--- By: ML67 \n",
        "\n",
        "        Email: maolinw67@163.com\n",
        "        PS: 华中科技大学研究生, 长期混迹Tianchi等，希望和大家多多交流。\n",
        "        github: https://github.com/mlw67 （近期会做一些书籍推导和代码的整理）\n",
        "\n",
        "--- By: AI蜗牛车\n",
        "\n",
        "        PS：东南大学研究生，研究方向主要是时空序列预测和时间序列数据挖掘\n",
        "        公众号： AI蜗牛车\n",
        "        知乎： https://www.zhihu.com/people/seu-aigua-niu-che\n",
        "        github: https://github.com/chehongshu\n",
        "        \n",
        "--- By:  阿泽\n",
        " \n",
        "        PS：复旦大学计算机研究生\n",
        "        知乎：阿泽 https://www.zhihu.com/people/is-aze（主要面向初学者的知识整理）\n",
        "\n",
        "--- By: 小雨姑娘\n",
        "\n",
        "        PS：数据挖掘爱好者，多次获得比赛TOP名次。\n",
        "        知乎：小雨姑娘的机器学习笔记：https://zhuanlan.zhihu.com/mlbasic"
      ],
      "metadata": {}
    },
    {
      "cell_type": "markdown",
      "source": [
        "**关于Datawhale：**\n",
        "\n",
        "> Datawhale是一个专注于数据科学与AI领域的开源组织，汇集了众多领域院校和知名企业的优秀学习者，聚合了一群有开源精神和探索精神的团队成员。Datawhale 以“for the learner，和学习者一起成长”为愿景，鼓励真实地展现自我、开放包容、互信互助、敢于试错和勇于担当。同时 Datawhale 用开源的理念去探索开源内容、开源学习和开源方案，赋能人才培养，助力人才成长，建立起人与人，人与知识，人与企业和人与未来的联结。\n",
        "\n",
        "本次数据挖掘路径学习，专题知识将在天池分享，详情可关注Datawhale：\n",
        "\n",
        "![](http://jupter-oss.oss-cn-hangzhou.aliyuncs.com/public/files/image/2326541042/1584426326920_9FOUExG2be.jpg)\n",
        "\n"
      ],
      "metadata": {}
    }
  ],
  "metadata": {
    "kernelspec": {
      "name": "python3",
      "language": "python",
      "display_name": "Python 3"
    },
    "language_info": {
      "name": "python",
      "version": "3.6.9",
      "mimetype": "text/x-python",
      "codemirror_mode": {
        "name": "ipython",
        "version": 3
      },
      "pygments_lexer": "ipython3",
      "nbconvert_exporter": "python",
      "file_extension": ".py"
    },
    "tianchi_metadata": {
      "competitions": [],
      "datasets": [
        {
          "id": "55214",
          "title": "零基础入门数据挖掘 - 二手车交易价格预测"
        }
      ],
      "description": "",
      "notebookId": "186006",
      "source": "dsw"
    },
    "kernel_info": {
      "name": "python3"
    },
    "microsoft": {
      "host": {
        "AzureML": {
          "notebookHasBeenCompleted": true
        }
      }
    },
    "nteract": {
      "version": "nteract-front-end@1.0.0"
    }
  },
  "nbformat": 4,
  "nbformat_minor": 4
}