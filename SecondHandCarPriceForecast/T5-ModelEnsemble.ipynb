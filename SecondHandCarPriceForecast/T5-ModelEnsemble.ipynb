{
  "cells": [
    {
      "cell_type": "markdown",
      "source": [
        "### 回归 分类概率-融合：###"
      ],
      "metadata": {
        "nteract": {
          "transient": {
            "deleting": false
          }
        }
      }
    },
    {
      "cell_type": "code",
      "source": [
        "## 1）简单加权平均，结果直接融合\r\n",
        "\r\n",
        "## 生成一些简单的样本数据，test_prei 代表第i个模型的预测值\r\n",
        "test_pre1 = [1.2, 3.2, 2.1, 6.2]\r\n",
        "test_pre2 = [0.9, 3.1, 2.0, 5.9]\r\n",
        "test_pre3 = [1.1, 2.9, 2.2, 6.0]\r\n",
        "\r\n",
        "# y_test_true 代表第模型的真实值\r\n",
        "y_test_true = [1, 3, 2, 6] \r\n"
      ],
      "outputs": [],
      "execution_count": 1,
      "metadata": {
        "gather": {
          "logged": 1619240870705
        }
      }
    },
    {
      "cell_type": "code",
      "source": [
        "import numpy as np\r\n",
        "import pandas as pd\r\n",
        "\r\n",
        "## 定义结果的加权平均函数\r\n",
        "def Weighted_method(test_pre1,test_pre2,test_pre3,w=[1/3,1/3,1/3]):\r\n",
        "    Weighted_result = w[0]*pd.Series(test_pre1)+w[1]*pd.Series(test_pre2)+w[2]*pd.Series(test_pre3)\r\n",
        "    return Weighted_result"
      ],
      "outputs": [],
      "execution_count": 3,
      "metadata": {
        "collapsed": true,
        "jupyter": {
          "source_hidden": false,
          "outputs_hidden": false
        },
        "nteract": {
          "transient": {
            "deleting": false
          }
        },
        "gather": {
          "logged": 1619255900106
        }
      }
    },
    {
      "cell_type": "code",
      "source": [
        "from sklearn import metrics\r\n",
        "# 各模型的预测结果计算MAE\r\n",
        "print('Pred1 MAE:',metrics.mean_absolute_error(y_test_true, test_pre1))\r\n",
        "print('Pred2 MAE:',metrics.mean_absolute_error(y_test_true, test_pre2))\r\n",
        "print('Pred3 MAE:',metrics.mean_absolute_error(y_test_true, test_pre3))"
      ],
      "outputs": [
        {
          "output_type": "stream",
          "name": "stdout",
          "text": [
            "Pred1 MAE: 0.1750000000000001\n",
            "Pred2 MAE: 0.07499999999999993\n",
            "Pred3 MAE: 0.10000000000000009\n"
          ]
        }
      ],
      "execution_count": 5,
      "metadata": {
        "collapsed": true,
        "jupyter": {
          "source_hidden": false,
          "outputs_hidden": false
        },
        "nteract": {
          "transient": {
            "deleting": false
          }
        },
        "gather": {
          "logged": 1619255934905
        }
      }
    },
    {
      "cell_type": "code",
      "source": [
        "## 根据加权计算MAE\r\n",
        "w = [0.3,0.4,0.3] # 定义比重权值\r\n",
        "Weighted_pre = Weighted_method(test_pre1,test_pre2,test_pre3,w)\r\n",
        "print('Weighted_pre MAE:',metrics.mean_absolute_error(y_test_true, Weighted_pre))"
      ],
      "outputs": [
        {
          "output_type": "stream",
          "name": "stdout",
          "text": [
            "Weighted_pre MAE: 0.05750000000000027\n"
          ]
        }
      ],
      "execution_count": 5,
      "metadata": {
        "collapsed": true,
        "jupyter": {
          "source_hidden": false,
          "outputs_hidden": false
        },
        "nteract": {
          "transient": {
            "deleting": false
          }
        },
        "gather": {
          "logged": 1619241041656
        }
      }
    },
    {
      "cell_type": "code",
      "source": [
        "## 定义结果的加权平均函数\r\n",
        "def Mean_method(test_pre1,test_pre2,test_pre3):\r\n",
        "    Mean_result = pd.concat([pd.Series(test_pre1),pd.Series(test_pre2),pd.Series(test_pre3)],axis=1).mean(axis=1)\r\n",
        "    return Mean_result"
      ],
      "outputs": [],
      "execution_count": 6,
      "metadata": {
        "collapsed": true,
        "jupyter": {
          "source_hidden": false,
          "outputs_hidden": false
        },
        "nteract": {
          "transient": {
            "deleting": false
          }
        },
        "gather": {
          "logged": 1619241115277
        }
      }
    },
    {
      "cell_type": "code",
      "source": [
        "Mean_pre = Mean_method(test_pre1,test_pre2,test_pre3)\r\n",
        "print('Mean_pre MAE:',metrics.mean_absolute_error(y_test_true, Mean_pre))"
      ],
      "outputs": [
        {
          "output_type": "stream",
          "name": "stdout",
          "text": [
            "Mean_pre MAE: 0.06666666666666693\n"
          ]
        }
      ],
      "execution_count": 7,
      "metadata": {
        "collapsed": true,
        "jupyter": {
          "source_hidden": false,
          "outputs_hidden": false
        },
        "nteract": {
          "transient": {
            "deleting": false
          }
        },
        "gather": {
          "logged": 1619241130420
        }
      }
    },
    {
      "cell_type": "code",
      "source": [
        "## 定义结果的加权平均函数\r\n",
        "def Median_method(test_pre1,test_pre2,test_pre3):\r\n",
        "    Median_result = pd.concat([pd.Series(test_pre1),pd.Series(test_pre2),pd.Series(test_pre3)],axis=1).median(axis=1)\r\n",
        "    return Median_result"
      ],
      "outputs": [],
      "execution_count": 8,
      "metadata": {
        "collapsed": true,
        "jupyter": {
          "source_hidden": false,
          "outputs_hidden": false
        },
        "nteract": {
          "transient": {
            "deleting": false
          }
        },
        "gather": {
          "logged": 1619241142399
        }
      }
    },
    {
      "cell_type": "code",
      "source": [
        "Median_pre = Median_method(test_pre1,test_pre2,test_pre3)\r\n",
        "print('Median_pre MAE:',metrics.mean_absolute_error(y_test_true, Median_pre))"
      ],
      "outputs": [
        {
          "output_type": "stream",
          "name": "stdout",
          "text": [
            "Median_pre MAE: 0.07500000000000007\n"
          ]
        }
      ],
      "execution_count": 9,
      "metadata": {
        "collapsed": true,
        "jupyter": {
          "source_hidden": false,
          "outputs_hidden": false
        },
        "nteract": {
          "transient": {
            "deleting": false
          }
        },
        "gather": {
          "logged": 1619241151969
        }
      }
    },
    {
      "cell_type": "code",
      "source": [
        "# Stacking融合(回归)：\r\n",
        "\r\n",
        "from sklearn import linear_model\r\n",
        "\r\n",
        "def Stacking_method(train_reg1,train_reg2,train_reg3,y_train_true,test_pre1,test_pre2,test_pre3,model_L2= linear_model.LinearRegression()):\r\n",
        "    model_L2.fit(pd.concat([pd.Series(train_reg1),pd.Series(train_reg2),pd.Series(train_reg3)],axis=1).values,y_train_true)\r\n",
        "    Stacking_result = model_L2.predict(pd.concat([pd.Series(test_pre1),pd.Series(test_pre2),pd.Series(test_pre3)],axis=1).values)\r\n",
        "    return Stacking_result"
      ],
      "outputs": [],
      "execution_count": 1,
      "metadata": {
        "collapsed": true,
        "jupyter": {
          "source_hidden": false,
          "outputs_hidden": false
        },
        "nteract": {
          "transient": {
            "deleting": false
          }
        },
        "gather": {
          "logged": 1619255825967
        }
      }
    },
    {
      "cell_type": "code",
      "source": [
        "## 生成一些简单的样本数据，test_prei 代表第i个模型的预测值\r\n",
        "train_reg1 = [3.2, 8.2, 9.1, 5.2]\r\n",
        "train_reg2 = [2.9, 8.1, 9.0, 4.9]\r\n",
        "train_reg3 = [3.1, 7.9, 9.2, 5.0]\r\n",
        "# y_test_true 代表第模型的真实值\r\n",
        "y_train_true = [3, 8, 9, 5] \r\n",
        "\r\n",
        "test_pre1 = [1.2, 3.2, 2.1, 6.2]\r\n",
        "test_pre2 = [0.9, 3.1, 2.0, 5.9]\r\n",
        "test_pre3 = [1.1, 2.9, 2.2, 6.0]\r\n",
        "\r\n",
        "# y_test_true 代表第模型的真实值\r\n",
        "y_test_true = [1, 3, 2, 6] \r\n",
        "\r\n",
        "model_L2= linear_model.LinearRegression()\r\n",
        "Stacking_pre = Stacking_method(train_reg1,train_reg2,train_reg3,y_train_true,\r\n",
        "                               test_pre1,test_pre2,test_pre3,model_L2)\r\n",
        "print('Stacking_pre MAE:',metrics.mean_absolute_error(y_test_true, Stacking_pre))\r\n",
        "\r\n"
      ],
      "outputs": [
        {
          "output_type": "stream",
          "name": "stdout",
          "text": [
            "Stacking_pre MAE: 0.042134831460675204\n"
          ]
        }
      ],
      "execution_count": 6,
      "metadata": {
        "collapsed": true,
        "jupyter": {
          "source_hidden": false,
          "outputs_hidden": false
        },
        "nteract": {
          "transient": {
            "deleting": false
          }
        },
        "gather": {
          "logged": 1619255939751
        }
      }
    },
    {
      "cell_type": "markdown",
      "source": [
        "#### 可以发现模型结果相对于之前有进一步的提升，这是我们需要注意的一点是，对于第二层Stacking的模型不宜选取的过于复杂，这样会导致模型在训练集上过拟合，从而使得在测试集上并不能达到很好的效果。####"
      ],
      "metadata": {
        "nteract": {
          "transient": {
            "deleting": false
          }
        }
      }
    },
    {
      "cell_type": "code",
      "source": [
        "#分类模型融合：\r\n",
        "\r\n",
        "#对于分类，同样的可以使用融合方法，比如简单投票，Stacking..."
      ],
      "outputs": [],
      "execution_count": null,
      "metadata": {
        "collapsed": true,
        "jupyter": {
          "source_hidden": false,
          "outputs_hidden": false
        },
        "nteract": {
          "transient": {
            "deleting": false
          }
        }
      }
    },
    {
      "cell_type": "code",
      "source": [
        "from sklearn.datasets import make_blobs\r\n",
        "from sklearn import datasets\r\n",
        "from sklearn.tree import DecisionTreeClassifier\r\n",
        "import numpy as np\r\n",
        "from sklearn.ensemble import RandomForestClassifier\r\n",
        "from sklearn.ensemble import VotingClassifier\r\n",
        "from xgboost import XGBClassifier\r\n",
        "from sklearn.linear_model import LogisticRegression\r\n",
        "from sklearn.svm import SVC\r\n",
        "from sklearn.model_selection import train_test_split\r\n",
        "from sklearn.datasets import make_moons\r\n",
        "from sklearn.metrics import accuracy_score,roc_auc_score\r\n",
        "from sklearn.model_selection import cross_val_score\r\n",
        "from sklearn.model_selection import StratifiedKFold"
      ],
      "outputs": [],
      "execution_count": 7,
      "metadata": {
        "collapsed": true,
        "jupyter": {
          "source_hidden": false,
          "outputs_hidden": false
        },
        "nteract": {
          "transient": {
            "deleting": false
          }
        },
        "gather": {
          "logged": 1619256040941
        }
      }
    },
    {
      "cell_type": "markdown",
      "source": [
        "#### 1）Voting投票机制：Voting即投票机制，分为软投票和硬投票两种，其原理采用少数服从多数的思想。 ####"
      ],
      "metadata": {
        "nteract": {
          "transient": {
            "deleting": false
          }
        }
      }
    },
    {
      "cell_type": "code",
      "source": [
        "'''\r\n",
        "硬投票：对多个模型直接进行投票，不区分模型结果的相对重要度，最终投票数最多的类为最终被预测的类。\r\n",
        "'''\r\n",
        "iris = datasets.load_iris()\r\n",
        "\r\n",
        "x=iris.data\r\n",
        "y=iris.target\r\n",
        "x_train,x_test,y_train,y_test=train_test_split(x,y,test_size=0.3)\r\n",
        "\r\n",
        "clf1 = XGBClassifier(learning_rate=0.1, n_estimators=150, max_depth=3, min_child_weight=2, subsample=0.7,\r\n",
        "                     colsample_bytree=0.6, objective='binary:logistic')\r\n",
        "clf2 = RandomForestClassifier(n_estimators=50, max_depth=1, min_samples_split=4,\r\n",
        "                              min_samples_leaf=63,oob_score=True)\r\n",
        "clf3 = SVC(C=0.1)\r\n",
        "\r\n",
        "# 硬投票\r\n",
        "eclf = VotingClassifier(estimators=[('xgb', clf1), ('rf', clf2), ('svc', clf3)], voting='hard')\r\n",
        "for clf, label in zip([clf1, clf2, clf3, eclf], ['XGBBoosting', 'Random Forest', 'SVM', 'Ensemble']):\r\n",
        "    scores = cross_val_score(clf, x, y, cv=5, scoring='accuracy')\r\n",
        "    print(\"Accuracy: %0.2f (+/- %0.2f) [%s]\" % (scores.mean(), scores.std(), label))"
      ],
      "outputs": [
        {
          "output_type": "stream",
          "name": "stdout",
          "text": [
            "Accuracy: 0.95 (+/- 0.03) [XGBBoosting]\n",
            "Accuracy: 0.33 (+/- 0.00) [Random Forest]\n",
            "Accuracy: 0.92 (+/- 0.03) [SVM]\n",
            "Accuracy: 0.91 (+/- 0.04) [Ensemble]\n"
          ]
        }
      ],
      "execution_count": 8,
      "metadata": {
        "collapsed": true,
        "jupyter": {
          "source_hidden": false,
          "outputs_hidden": false
        },
        "nteract": {
          "transient": {
            "deleting": false
          }
        },
        "gather": {
          "logged": 1619256098442
        }
      }
    },
    {
      "cell_type": "code",
      "source": [
        "'''\r\n",
        "软投票：和硬投票原理相同，增加了设置权重的功能，可以为不同模型设置不同权重，进而区别模型不同的重要度。\r\n",
        "'''\r\n",
        "x=iris.data\r\n",
        "y=iris.target\r\n",
        "x_train,x_test,y_train,y_test=train_test_split(x,y,test_size=0.3)\r\n",
        "\r\n",
        "clf1 = XGBClassifier(learning_rate=0.1, n_estimators=150, max_depth=3, min_child_weight=2, subsample=0.8,\r\n",
        "                     colsample_bytree=0.8, objective='binary:logistic')\r\n",
        "clf2 = RandomForestClassifier(n_estimators=50, max_depth=1, min_samples_split=4,\r\n",
        "                              min_samples_leaf=63,oob_score=True)\r\n",
        "clf3 = SVC(C=0.1, probability=True)\r\n",
        "\r\n",
        "# 软投票\r\n",
        "eclf = VotingClassifier(estimators=[('xgb', clf1), ('rf', clf2), ('svc', clf3)], voting='soft', weights=[2, 1, 1])\r\n",
        "clf1.fit(x_train, y_train)\r\n",
        "\r\n",
        "for clf, label in zip([clf1, clf2, clf3, eclf], ['XGBBoosting', 'Random Forest', 'SVM', 'Ensemble']):\r\n",
        "    scores = cross_val_score(clf, x, y, cv=5, scoring='accuracy')\r\n",
        "    print(\"Accuracy: %0.2f (+/- %0.2f) [%s]\" % (scores.mean(), scores.std(), label))"
      ],
      "outputs": [
        {
          "output_type": "stream",
          "name": "stdout",
          "text": [
            "Accuracy: 0.96 (+/- 0.02) [XGBBoosting]\n",
            "Accuracy: 0.33 (+/- 0.00) [Random Forest]\n",
            "Accuracy: 0.92 (+/- 0.03) [SVM]\n",
            "Accuracy: 0.96 (+/- 0.02) [Ensemble]\n"
          ]
        }
      ],
      "execution_count": 9,
      "metadata": {
        "collapsed": true,
        "jupyter": {
          "source_hidden": false,
          "outputs_hidden": false
        },
        "nteract": {
          "transient": {
            "deleting": false
          }
        },
        "gather": {
          "logged": 1619256145532
        }
      }
    },
    {
      "cell_type": "markdown",
      "source": [
        "#### 2）分类的Stacking\\Blending融合：stacking是一种分层模型集成框架。以两层为例，第一层由多个基学习器组成，其输入为原始训练集，第二层的模型则是以第一层基学习器的输出作为训练集进行再训练，从而得到完整的stacking模型, stacking两层模型都使用了全部的训练数据。 ####"
      ],
      "metadata": {
        "nteract": {
          "transient": {
            "deleting": false
          }
        }
      }
    },
    {
      "cell_type": "code",
      "source": [
        "'''\r\n",
        "5-Fold Stacking\r\n",
        "'''\r\n",
        "from sklearn.ensemble import RandomForestClassifier\r\n",
        "from sklearn.ensemble import ExtraTreesClassifier,GradientBoostingClassifier\r\n",
        "import pandas as pd\r\n",
        "#创建训练的数据集\r\n",
        "data_0 = iris.data\r\n",
        "data = data_0[:100,:]\r\n",
        "\r\n",
        "target_0 = iris.target\r\n",
        "target = target_0[:100]\r\n",
        "\r\n",
        "#模型融合中使用到的各个单模型\r\n",
        "clfs = [LogisticRegression(solver='lbfgs'),\r\n",
        "        RandomForestClassifier(n_estimators=5, n_jobs=-1, criterion='gini'),\r\n",
        "        ExtraTreesClassifier(n_estimators=5, n_jobs=-1, criterion='gini'),\r\n",
        "        ExtraTreesClassifier(n_estimators=5, n_jobs=-1, criterion='entropy'),\r\n",
        "        GradientBoostingClassifier(learning_rate=0.05, subsample=0.5, max_depth=6, n_estimators=5)]\r\n",
        " \r\n",
        "#切分一部分数据作为测试集\r\n",
        "X, X_predict, y, y_predict = train_test_split(data, target, test_size=0.3, random_state=2020)\r\n",
        "\r\n",
        "dataset_blend_train = np.zeros((X.shape[0], len(clfs)))\r\n",
        "dataset_blend_test = np.zeros((X_predict.shape[0], len(clfs)))\r\n",
        "\r\n",
        "#5折stacking\r\n",
        "n_splits = 5\r\n",
        "skf = StratifiedKFold(n_splits)\r\n",
        "skf = skf.split(X, y)\r\n",
        "\r\n",
        "for j, clf in enumerate(clfs):\r\n",
        "    #依次训练各个单模型\r\n",
        "    dataset_blend_test_j = np.zeros((X_predict.shape[0], 5))\r\n",
        "    for i, (train, test) in enumerate(skf):\r\n",
        "        #5-Fold交叉训练，使用第i个部分作为预测，剩余的部分来训练模型，获得其预测的输出作为第i部分的新特征。\r\n",
        "        X_train, y_train, X_test, y_test = X[train], y[train], X[test], y[test]\r\n",
        "        clf.fit(X_train, y_train)\r\n",
        "        y_submission = clf.predict_proba(X_test)[:, 1]\r\n",
        "        dataset_blend_train[test, j] = y_submission\r\n",
        "        dataset_blend_test_j[:, i] = clf.predict_proba(X_predict)[:, 1]\r\n",
        "    #对于测试集，直接用这k个模型的预测值均值作为新的特征。\r\n",
        "    dataset_blend_test[:, j] = dataset_blend_test_j.mean(1)\r\n",
        "    print(\"val auc Score: %f\" % roc_auc_score(y_predict, dataset_blend_test[:, j]))\r\n",
        "\r\n",
        "clf = LogisticRegression(solver='lbfgs')\r\n",
        "clf.fit(dataset_blend_train, y)\r\n",
        "y_submission = clf.predict_proba(dataset_blend_test)[:, 1]\r\n",
        "\r\n",
        "print(\"Val auc Score of Stacking: %f\" % (roc_auc_score(y_predict, y_submission)))"
      ],
      "outputs": [
        {
          "output_type": "stream",
          "name": "stdout",
          "text": [
            "val auc Score: 1.000000\n",
            "val auc Score: 0.500000\n",
            "val auc Score: 0.500000\n",
            "val auc Score: 0.500000\n",
            "val auc Score: 0.500000\n",
            "Val auc Score of Stacking: 1.000000\n"
          ]
        }
      ],
      "execution_count": 10,
      "metadata": {
        "collapsed": true,
        "jupyter": {
          "source_hidden": false,
          "outputs_hidden": false
        },
        "nteract": {
          "transient": {
            "deleting": false
          }
        },
        "gather": {
          "logged": 1619256294405
        }
      }
    },
    {
      "cell_type": "markdown",
      "source": [
        "#### Blending，其实和Stacking是一种类似的多层模型融合的形式 ####\r\n",
        "\r\n",
        "其主要思路是把原始的训练集先分成两部分，比如70%的数据作为新的训练集，剩下30%的数据作为测试集。\r\n",
        "\r\n",
        "在第一层，我们在这70%的数据上训练多个模型，然后去预测那30%数据的label，同时也预测test集的label。\r\n",
        "\r\n",
        "在第二层，我们就直接用这30%数据在第一层预测的结果做为新特征继续训练，然后用test集第一层预测的label做特征，用第二层训练的模型做进一步预测\r\n",
        "\r\n",
        "其优点在于：\r\n",
        "\r\n",
        "1.比stacking简单（因为不用进行k次的交叉验证来获得stacker feature）\r\n",
        "\r\n",
        "2.避开了一个信息泄露问题：generlizers和stacker使用了不一样的数据集\r\n",
        "\r\n",
        "缺点在于：\r\n",
        "\r\n",
        "1.使用了很少的数据（第二阶段的blender只使用training set10%的量）\r\n",
        "\r\n",
        "2.blender可能会过拟合\r\n",
        "\r\n",
        "3.stacking使用多次的交叉验证会比较稳健 '''"
      ],
      "metadata": {
        "nteract": {
          "transient": {
            "deleting": false
          }
        }
      }
    },
    {
      "cell_type": "code",
      "source": [
        "'''\r\n",
        "Blending\r\n",
        "'''\r\n",
        " \r\n",
        "#创建训练的数据集\r\n",
        "data_0 = iris.data\r\n",
        "data = data_0[:100,:]\r\n",
        "\r\n",
        "target_0 = iris.target\r\n",
        "target = target_0[:100]\r\n",
        " \r\n",
        "#模型融合中使用到的各个单模型\r\n",
        "clfs = [LogisticRegression(solver='lbfgs'),\r\n",
        "        RandomForestClassifier(n_estimators=5, n_jobs=-1, criterion='gini'),\r\n",
        "        RandomForestClassifier(n_estimators=5, n_jobs=-1, criterion='entropy'),\r\n",
        "        ExtraTreesClassifier(n_estimators=5, n_jobs=-1, criterion='gini'),\r\n",
        "        #ExtraTreesClassifier(n_estimators=5, n_jobs=-1, criterion='entropy'),\r\n",
        "        GradientBoostingClassifier(learning_rate=0.05, subsample=0.5, max_depth=6, n_estimators=5)]\r\n",
        " \r\n",
        "#切分一部分数据作为测试集\r\n",
        "X, X_predict, y, y_predict = train_test_split(data, target, test_size=0.3, random_state=2020)\r\n",
        "\r\n",
        "#切分训练数据集为d1,d2两部分\r\n",
        "X_d1, X_d2, y_d1, y_d2 = train_test_split(X, y, test_size=0.5, random_state=2020)\r\n",
        "dataset_d1 = np.zeros((X_d2.shape[0], len(clfs)))\r\n",
        "dataset_d2 = np.zeros((X_predict.shape[0], len(clfs)))\r\n",
        " \r\n",
        "for j, clf in enumerate(clfs):\r\n",
        "    #依次训练各个单模型\r\n",
        "    clf.fit(X_d1, y_d1)\r\n",
        "    y_submission = clf.predict_proba(X_d2)[:, 1]\r\n",
        "    dataset_d1[:, j] = y_submission\r\n",
        "    #对于测试集，直接用这k个模型的预测值作为新的特征。\r\n",
        "    dataset_d2[:, j] = clf.predict_proba(X_predict)[:, 1]\r\n",
        "    print(\"val auc Score: %f\" % roc_auc_score(y_predict, dataset_d2[:, j]))\r\n",
        "\r\n",
        "#融合使用的模型\r\n",
        "clf = GradientBoostingClassifier(learning_rate=0.02, subsample=0.5, max_depth=6, n_estimators=30)\r\n",
        "clf.fit(dataset_d1, y_d2)\r\n",
        "y_submission = clf.predict_proba(dataset_d2)[:, 1]\r\n",
        "print(\"Val auc Score of Blending: %f\" % (roc_auc_score(y_predict, y_submission)))"
      ],
      "outputs": [
        {
          "output_type": "stream",
          "name": "stdout",
          "text": [
            "val auc Score: 1.000000\n",
            "val auc Score: 1.000000\n",
            "val auc Score: 1.000000\n",
            "val auc Score: 1.000000\n",
            "val auc Score: 1.000000\n",
            "Val auc Score of Blending: 1.000000\n"
          ]
        }
      ],
      "execution_count": 11,
      "metadata": {
        "collapsed": true,
        "jupyter": {
          "source_hidden": false,
          "outputs_hidden": false
        },
        "nteract": {
          "transient": {
            "deleting": false
          }
        },
        "gather": {
          "logged": 1619256577024
        }
      }
    },
    {
      "cell_type": "code",
      "source": [
        "##3）分类的Stacking融合(利用mlxtend)：\r\n",
        "\r\n",
        "!pip install mlxtend\r\n",
        "\r\n",
        "import warnings\r\n",
        "warnings.filterwarnings('ignore')\r\n",
        "import itertools\r\n",
        "import numpy as np\r\n",
        "import seaborn as sns\r\n",
        "import matplotlib.pyplot as plt\r\n",
        "import matplotlib.gridspec as gridspec\r\n",
        "\r\n",
        "from sklearn import datasets\r\n",
        "from sklearn.linear_model import LogisticRegression\r\n",
        "from sklearn.neighbors import KNeighborsClassifier\r\n",
        "from sklearn.naive_bayes import GaussianNB \r\n",
        "from sklearn.ensemble import RandomForestClassifier\r\n",
        "from mlxtend.classifier import StackingClassifier\r\n",
        "\r\n",
        "from sklearn.model_selection import cross_val_score\r\n",
        "from mlxtend.plotting import plot_learning_curves\r\n",
        "from mlxtend.plotting import plot_decision_regions\r\n",
        "\r\n",
        "# 以python自带的鸢尾花数据集为例\r\n",
        "iris = datasets.load_iris()\r\n",
        "X, y = iris.data[:, 1:3], iris.target\r\n",
        "\r\n",
        "clf1 = KNeighborsClassifier(n_neighbors=1)\r\n",
        "clf2 = RandomForestClassifier(random_state=1)\r\n",
        "clf3 = GaussianNB()\r\n",
        "lr = LogisticRegression()\r\n",
        "sclf = StackingClassifier(classifiers=[clf1, clf2, clf3], \r\n",
        "                          meta_classifier=lr)\r\n",
        "\r\n",
        "label = ['KNN', 'Random Forest', 'Naive Bayes', 'Stacking Classifier']\r\n",
        "clf_list = [clf1, clf2, clf3, sclf]\r\n",
        "\r\n",
        "fig = plt.figure(figsize=(10,8))\r\n",
        "gs = gridspec.GridSpec(2, 2)\r\n",
        "grid = itertools.product([0,1],repeat=2)\r\n",
        "\r\n",
        "clf_cv_mean = []\r\n",
        "clf_cv_std = []\r\n",
        "for clf, label, grd in zip(clf_list, label, grid):\r\n",
        "        \r\n",
        "    scores = cross_val_score(clf, X, y, cv=3, scoring='accuracy')\r\n",
        "    print(\"Accuracy: %.2f (+/- %.2f) [%s]\" %(scores.mean(), scores.std(), label))\r\n",
        "    clf_cv_mean.append(scores.mean())\r\n",
        "    clf_cv_std.append(scores.std())\r\n",
        "        \r\n",
        "    clf.fit(X, y)\r\n",
        "    ax = plt.subplot(gs[grd[0], grd[1]])\r\n",
        "    fig = plot_decision_regions(X=X, y=y, clf=clf)\r\n",
        "    plt.title(label)\r\n",
        "\r\n",
        "plt.show()"
      ],
      "outputs": [
        {
          "output_type": "stream",
          "name": "stdout",
          "text": [
            "Requirement already satisfied: mlxtend in /anaconda/envs/azureml_py36/lib/python3.6/site-packages (0.18.0)\n",
            "Requirement already satisfied: scipy>=1.2.1 in /anaconda/envs/azureml_py36/lib/python3.6/site-packages (from mlxtend) (1.5.2)\n",
            "Requirement already satisfied: scikit-learn>=0.20.3 in /anaconda/envs/azureml_py36/lib/python3.6/site-packages (from mlxtend) (0.22.2.post1)\n",
            "Requirement already satisfied: numpy>=1.16.2 in /anaconda/envs/azureml_py36/lib/python3.6/site-packages (from mlxtend) (1.18.5)\n",
            "Requirement already satisfied: setuptools in /anaconda/envs/azureml_py36/lib/python3.6/site-packages (from mlxtend) (50.3.0)\n",
            "Requirement already satisfied: pandas>=0.24.2 in /anaconda/envs/azureml_py36/lib/python3.6/site-packages (from mlxtend) (0.25.3)\n",
            "Requirement already satisfied: matplotlib>=3.0.0 in /anaconda/envs/azureml_py36/lib/python3.6/site-packages (from mlxtend) (3.2.1)\n",
            "Requirement already satisfied: joblib>=0.13.2 in /anaconda/envs/azureml_py36/lib/python3.6/site-packages (from mlxtend) (0.14.1)\n",
            "Requirement already satisfied: pytz>=2017.2 in /anaconda/envs/azureml_py36/lib/python3.6/site-packages (from pandas>=0.24.2->mlxtend) (2021.1)\n",
            "Requirement already satisfied: python-dateutil>=2.6.1 in /anaconda/envs/azureml_py36/lib/python3.6/site-packages (from pandas>=0.24.2->mlxtend) (2.8.1)\n",
            "Requirement already satisfied: pyparsing!=2.0.4,!=2.1.2,!=2.1.6,>=2.0.1 in /anaconda/envs/azureml_py36/lib/python3.6/site-packages (from matplotlib>=3.0.0->mlxtend) (2.4.7)\n",
            "Requirement already satisfied: kiwisolver>=1.0.1 in /anaconda/envs/azureml_py36/lib/python3.6/site-packages (from matplotlib>=3.0.0->mlxtend) (1.3.1)\n",
            "Requirement already satisfied: cycler>=0.10 in /anaconda/envs/azureml_py36/lib/python3.6/site-packages (from matplotlib>=3.0.0->mlxtend) (0.10.0)\n",
            "Requirement already satisfied: six>=1.5 in /anaconda/envs/azureml_py36/lib/python3.6/site-packages (from python-dateutil>=2.6.1->pandas>=0.24.2->mlxtend) (1.15.0)\n",
            "Accuracy: 0.91 (+/- 0.01) [KNN]\n",
            "Accuracy: 0.95 (+/- 0.01) [Random Forest]\n",
            "Accuracy: 0.91 (+/- 0.02) [Naive Bayes]\n",
            "Accuracy: 0.95 (+/- 0.02) [Stacking Classifier]\n"
          ]
        },
        {
          "output_type": "display_data",
          "data": {
            "text/plain": "<Figure size 720x576 with 4 Axes>",
            "image/png": "[encoded data removed]"
          },
          "metadata": {
            "needs_background": "light"
          }
        }
      ],
      "execution_count": 12,
      "metadata": {
        "collapsed": true,
        "jupyter": {
          "source_hidden": false,
          "outputs_hidden": false
        },
        "nteract": {
          "transient": {
            "deleting": false
          }
        },
        "gather": {
          "logged": 1619256784888
        }
      }
    },
    {
      "cell_type": "code",
      "source": [
        "可以发现 基模型 用 'KNN', 'Random Forest', 'Naive Bayes' 然后再这基础上 次级模型加一个 'LogisticRegression'，模型测试效果有着很好的提升。"
      ],
      "outputs": [],
      "execution_count": null,
      "metadata": {
        "collapsed": true,
        "jupyter": {
          "source_hidden": false,
          "outputs_hidden": false
        },
        "nteract": {
          "transient": {
            "deleting": false
          }
        }
      }
    },
    {
      "cell_type": "code",
      "source": [
        "#一些其它方法\r\n",
        "#将特征放进模型中预测，并将预测结果变换并作为新的特征加入原有特征中再经过模型预测结果 （Stacking变化）\r\n",
        "#（可以反复预测多次将结果加入最后的特征中）\r\n",
        "\r\n",
        "def Ensemble_add_feature(train,test,target,clfs):\r\n",
        "    \r\n",
        "    # n_flods = 5\r\n",
        "    # skf = list(StratifiedKFold(y, n_folds=n_flods))\r\n",
        "\r\n",
        "    train_ = np.zeros((train.shape[0],len(clfs*2)))\r\n",
        "    test_ = np.zeros((test.shape[0],len(clfs*2)))\r\n",
        "\r\n",
        "    for j,clf in enumerate(clfs):\r\n",
        "        '''依次训练各个单模型'''\r\n",
        "        # print(j, clf)\r\n",
        "        '''使用第1个部分作为预测，第2部分来训练模型，获得其预测的输出作为第2部分的新特征。'''\r\n",
        "        # X_train, y_train, X_test, y_test = X[train], y[train], X[test], y[test]\r\n",
        "\r\n",
        "        clf.fit(train,target)\r\n",
        "        y_train = clf.predict(train)\r\n",
        "        y_test = clf.predict(test)\r\n",
        "\r\n",
        "        ## 新特征生成\r\n",
        "        train_[:,j*2] = y_train**2\r\n",
        "        test_[:,j*2] = y_test**2\r\n",
        "        train_[:, j+1] = np.exp(y_train)\r\n",
        "        test_[:, j+1] = np.exp(y_test)\r\n",
        "        # print(\"val auc Score: %f\" % r2_score(y_predict, dataset_d2[:, j]))\r\n",
        "        print('Method ',j)\r\n",
        "    \r\n",
        "    train_ = pd.DataFrame(train_)\r\n",
        "    test_ = pd.DataFrame(test_)\r\n",
        "    return train_,test_\r\n"
      ],
      "outputs": [],
      "execution_count": 13,
      "metadata": {
        "collapsed": true,
        "jupyter": {
          "source_hidden": false,
          "outputs_hidden": false
        },
        "nteract": {
          "transient": {
            "deleting": false
          }
        },
        "gather": {
          "logged": 1619257454787
        }
      }
    },
    {
      "cell_type": "code",
      "source": [
        "from sklearn.model_selection import cross_val_score, train_test_split\r\n",
        "from sklearn.linear_model import LogisticRegression\r\n",
        "clf = LogisticRegression()\r\n",
        "\r\n",
        "data_0 = iris.data\r\n",
        "data = data_0[:100,:]\r\n",
        "\r\n",
        "target_0 = iris.target\r\n",
        "target = target_0[:100]\r\n",
        "\r\n",
        "x_train,x_test,y_train,y_test=train_test_split(data,target,test_size=0.3)\r\n",
        "x_train = pd.DataFrame(x_train) ; x_test = pd.DataFrame(x_test)\r\n",
        "\r\n",
        "#模型融合中使用到的各个单模型\r\n",
        "clfs = [LogisticRegression(),\r\n",
        "        RandomForestClassifier(n_estimators=5, n_jobs=-1, criterion='gini'),\r\n",
        "        ExtraTreesClassifier(n_estimators=5, n_jobs=-1, criterion='gini'),\r\n",
        "        ExtraTreesClassifier(n_estimators=5, n_jobs=-1, criterion='entropy'),\r\n",
        "        GradientBoostingClassifier(learning_rate=0.05, subsample=0.5, max_depth=6, n_estimators=5)]\r\n",
        "\r\n",
        "New_train,New_test = Ensemble_add_feature(x_train,x_test,y_train,clfs)\r\n",
        "\r\n",
        "clf = LogisticRegression()\r\n",
        "# clf = GradientBoostingClassifier(learning_rate=0.02, subsample=0.5, max_depth=6, n_estimators=30)\r\n",
        "clf.fit(New_train, y_train)\r\n",
        "y_emb = clf.predict_proba(New_test)[:, 1]\r\n",
        "\r\n",
        "print(\"Val auc Score of stacking: %f\" % (roc_auc_score(y_test, y_emb)))"
      ],
      "outputs": [
        {
          "output_type": "stream",
          "name": "stdout",
          "text": [
            "Method  0\n",
            "Method  1\n",
            "Method  2\n",
            "Method  3\n",
            "Method  4\n",
            "Val auc Score of stacking: 1.000000\n"
          ]
        }
      ],
      "execution_count": 14,
      "metadata": {
        "collapsed": true,
        "jupyter": {
          "source_hidden": false,
          "outputs_hidden": false
        },
        "nteract": {
          "transient": {
            "deleting": false
          }
        },
        "gather": {
          "logged": 1619257489718
        }
      }
    },
    {
      "cell_type": "markdown",
      "source": [
        "#### 本赛题示例 ####"
      ],
      "metadata": {
        "nteract": {
          "transient": {
            "deleting": false
          }
        }
      }
    },
    {
      "cell_type": "code",
      "source": [
        "import pandas as pd\r\n",
        "import numpy as np\r\n",
        "import warnings\r\n",
        "import matplotlib\r\n",
        "import matplotlib.pyplot as plt\r\n",
        "import seaborn as sns\r\n",
        "\r\n",
        "warnings.filterwarnings('ignore')\r\n",
        "%matplotlib inline\r\n",
        "\r\n",
        "import itertools\r\n",
        "import matplotlib.gridspec as gridspec\r\n",
        "from sklearn import datasets\r\n",
        "from sklearn.linear_model import LogisticRegression\r\n",
        "from sklearn.neighbors import KNeighborsClassifier\r\n",
        "from sklearn.naive_bayes import GaussianNB \r\n",
        "from sklearn.ensemble import RandomForestClassifier\r\n",
        "# from mlxtend.classifier import StackingClassifier\r\n",
        "from sklearn.model_selection import cross_val_score, train_test_split\r\n",
        "# from mlxtend.plotting import plot_learning_curves\r\n",
        "# from mlxtend.plotting import plot_decision_regions\r\n",
        "\r\n",
        "from sklearn.model_selection import StratifiedKFold\r\n",
        "from sklearn.model_selection import train_test_split\r\n",
        "\r\n",
        "from sklearn import linear_model\r\n",
        "from sklearn import preprocessing\r\n",
        "from sklearn.svm import SVR\r\n",
        "from sklearn.decomposition import PCA,FastICA,FactorAnalysis,SparsePCA\r\n",
        "\r\n",
        "import lightgbm as lgb\r\n",
        "import xgboost as xgb\r\n",
        "from sklearn.model_selection import GridSearchCV,cross_val_score\r\n",
        "from sklearn.ensemble import RandomForestRegressor,GradientBoostingRegressor\r\n",
        "\r\n",
        "from sklearn.metrics import mean_squared_error, mean_absolute_error"
      ],
      "outputs": [],
      "execution_count": 15,
      "metadata": {
        "collapsed": true,
        "jupyter": {
          "source_hidden": false,
          "outputs_hidden": false
        },
        "nteract": {
          "transient": {
            "deleting": false
          }
        },
        "gather": {
          "logged": 1619257561297
        }
      }
    },
    {
      "cell_type": "code",
      "source": [
        "## 数据读取\r\n",
        "\r\n",
        "\r\n",
        "Train_data = pd.read_csv('./data/used_car_train_20200313.csv', sep=' ')\r\n",
        "TestA_data = pd.read_csv('./data/used_car_testB_20200421.csv', sep=' ')\r\n",
        "\r\n",
        "print(Train_data.shape)\r\n",
        "print(TestA_data.shape)"
      ],
      "outputs": [
        {
          "output_type": "stream",
          "name": "stdout",
          "text": [
            "(150000, 31)\n",
            "(50000, 30)\n"
          ]
        }
      ],
      "execution_count": 16,
      "metadata": {
        "collapsed": true,
        "jupyter": {
          "source_hidden": false,
          "outputs_hidden": false
        },
        "nteract": {
          "transient": {
            "deleting": false
          }
        },
        "gather": {
          "logged": 1619257613069
        }
      }
    },
    {
      "cell_type": "code",
      "source": [
        "Train_data.head()"
      ],
      "outputs": [
        {
          "output_type": "execute_result",
          "execution_count": 17,
          "data": {
            "text/plain": "   SaleID    name   regDate  model  brand  bodyType  fuelType  gearbox  power  \\\n0       0     736  20040402   30.0      6       1.0       0.0      0.0     60   \n1       1    2262  20030301   40.0      1       2.0       0.0      0.0      0   \n2       2   14874  20040403  115.0     15       1.0       0.0      0.0    163   \n3       3   71865  19960908  109.0     10       0.0       0.0      1.0    193   \n4       4  111080  20120103  110.0      5       1.0       0.0      0.0     68   \n\n   kilometer  ...       v_5       v_6       v_7       v_8       v_9      v_10  \\\n0       12.5  ...  0.235676  0.101988  0.129549  0.022816  0.097462 -2.881803   \n1       15.0  ...  0.264777  0.121004  0.135731  0.026597  0.020582 -4.900482   \n2       12.5  ...  0.251410  0.114912  0.165147  0.062173  0.027075 -4.846749   \n3       15.0  ...  0.274293  0.110300  0.121964  0.033395  0.000000 -4.509599   \n4        5.0  ...  0.228036  0.073205  0.091880  0.078819  0.121534 -1.896240   \n\n       v_11      v_12      v_13      v_14  \n0  2.804097 -2.420821  0.795292  0.914762  \n1  2.096338 -1.030483 -1.722674  0.245522  \n2  1.803559  1.565330 -0.832687 -0.229963  \n3  1.285940 -0.501868 -2.438353 -0.478699  \n4  0.910783  0.931110  2.834518  1.923482  \n\n[5 rows x 31 columns]",
            "text/html": "<div>\n<style scoped>\n    .dataframe tbody tr th:only-of-type {\n        vertical-align: middle;\n    }\n\n    .dataframe tbody tr th {\n        vertical-align: top;\n    }\n\n    .dataframe thead th {\n        text-align: right;\n    }\n</style>\n<table border=\"1\" class=\"dataframe\">\n  <thead>\n    <tr style=\"text-align: right;\">\n      <th></th>\n      <th>SaleID</th>\n      <th>name</th>\n      <th>regDate</th>\n      <th>model</th>\n      <th>brand</th>\n      <th>bodyType</th>\n      <th>fuelType</th>\n      <th>gearbox</th>\n      <th>power</th>\n      <th>kilometer</th>\n      <th>...</th>\n      <th>v_5</th>\n      <th>v_6</th>\n      <th>v_7</th>\n      <th>v_8</th>\n      <th>v_9</th>\n      <th>v_10</th>\n      <th>v_11</th>\n      <th>v_12</th>\n      <th>v_13</th>\n      <th>v_14</th>\n    </tr>\n  </thead>\n  <tbody>\n    <tr>\n      <th>0</th>\n      <td>0</td>\n      <td>736</td>\n      <td>20040402</td>\n      <td>30.0</td>\n      <td>6</td>\n      <td>1.0</td>\n      <td>0.0</td>\n      <td>0.0</td>\n      <td>60</td>\n      <td>12.5</td>\n      <td>...</td>\n      <td>0.235676</td>\n      <td>0.101988</td>\n      <td>0.129549</td>\n      <td>0.022816</td>\n      <td>0.097462</td>\n      <td>-2.881803</td>\n      <td>2.804097</td>\n      <td>-2.420821</td>\n      <td>0.795292</td>\n      <td>0.914762</td>\n    </tr>\n    <tr>\n      <th>1</th>\n      <td>1</td>\n      <td>2262</td>\n      <td>20030301</td>\n      <td>40.0</td>\n      <td>1</td>\n      <td>2.0</td>\n      <td>0.0</td>\n      <td>0.0</td>\n      <td>0</td>\n      <td>15.0</td>\n      <td>...</td>\n      <td>0.264777</td>\n      <td>0.121004</td>\n      <td>0.135731</td>\n      <td>0.026597</td>\n      <td>0.020582</td>\n      <td>-4.900482</td>\n      <td>2.096338</td>\n      <td>-1.030483</td>\n      <td>-1.722674</td>\n      <td>0.245522</td>\n    </tr>\n    <tr>\n      <th>2</th>\n      <td>2</td>\n      <td>14874</td>\n      <td>20040403</td>\n      <td>115.0</td>\n      <td>15</td>\n      <td>1.0</td>\n      <td>0.0</td>\n      <td>0.0</td>\n      <td>163</td>\n      <td>12.5</td>\n      <td>...</td>\n      <td>0.251410</td>\n      <td>0.114912</td>\n      <td>0.165147</td>\n      <td>0.062173</td>\n      <td>0.027075</td>\n      <td>-4.846749</td>\n      <td>1.803559</td>\n      <td>1.565330</td>\n      <td>-0.832687</td>\n      <td>-0.229963</td>\n    </tr>\n    <tr>\n      <th>3</th>\n      <td>3</td>\n      <td>71865</td>\n      <td>19960908</td>\n      <td>109.0</td>\n      <td>10</td>\n      <td>0.0</td>\n      <td>0.0</td>\n      <td>1.0</td>\n      <td>193</td>\n      <td>15.0</td>\n      <td>...</td>\n      <td>0.274293</td>\n      <td>0.110300</td>\n      <td>0.121964</td>\n      <td>0.033395</td>\n      <td>0.000000</td>\n      <td>-4.509599</td>\n      <td>1.285940</td>\n      <td>-0.501868</td>\n      <td>-2.438353</td>\n      <td>-0.478699</td>\n    </tr>\n    <tr>\n      <th>4</th>\n      <td>4</td>\n      <td>111080</td>\n      <td>20120103</td>\n      <td>110.0</td>\n      <td>5</td>\n      <td>1.0</td>\n      <td>0.0</td>\n      <td>0.0</td>\n      <td>68</td>\n      <td>5.0</td>\n      <td>...</td>\n      <td>0.228036</td>\n      <td>0.073205</td>\n      <td>0.091880</td>\n      <td>0.078819</td>\n      <td>0.121534</td>\n      <td>-1.896240</td>\n      <td>0.910783</td>\n      <td>0.931110</td>\n      <td>2.834518</td>\n      <td>1.923482</td>\n    </tr>\n  </tbody>\n</table>\n<p>5 rows × 31 columns</p>\n</div>"
          },
          "metadata": {}
        }
      ],
      "execution_count": 17,
      "metadata": {
        "collapsed": true,
        "jupyter": {
          "source_hidden": false,
          "outputs_hidden": false
        },
        "nteract": {
          "transient": {
            "deleting": false
          }
        },
        "gather": {
          "logged": 1619257624219
        }
      }
    },
    {
      "cell_type": "code",
      "source": [
        "numerical_cols = Train_data.select_dtypes(exclude = 'object').columns\r\n",
        "print(numerical_cols)"
      ],
      "outputs": [
        {
          "output_type": "stream",
          "name": "stdout",
          "text": [
            "Index(['SaleID', 'name', 'regDate', 'model', 'brand', 'bodyType', 'fuelType',\n",
            "       'gearbox', 'power', 'kilometer', 'regionCode', 'seller', 'offerType',\n",
            "       'creatDate', 'price', 'v_0', 'v_1', 'v_2', 'v_3', 'v_4', 'v_5', 'v_6',\n",
            "       'v_7', 'v_8', 'v_9', 'v_10', 'v_11', 'v_12', 'v_13', 'v_14'],\n",
            "      dtype='object')\n"
          ]
        }
      ],
      "execution_count": 18,
      "metadata": {
        "collapsed": true,
        "jupyter": {
          "source_hidden": false,
          "outputs_hidden": false
        },
        "nteract": {
          "transient": {
            "deleting": false
          }
        },
        "gather": {
          "logged": 1619257636677
        }
      }
    },
    {
      "cell_type": "code",
      "source": [
        "feature_cols = [col for col in numerical_cols if col not in ['SaleID','name','regDate','price']]"
      ],
      "outputs": [],
      "execution_count": 19,
      "metadata": {
        "collapsed": true,
        "jupyter": {
          "source_hidden": false,
          "outputs_hidden": false
        },
        "nteract": {
          "transient": {
            "deleting": false
          }
        },
        "gather": {
          "logged": 1619257652853
        }
      }
    },
    {
      "cell_type": "code",
      "source": [
        "X_data = Train_data[feature_cols]\r\n",
        "Y_data = Train_data['price']\r\n",
        "\r\n",
        "X_test  = TestA_data[feature_cols]\r\n",
        "\r\n",
        "print('X train shape:',X_data.shape)\r\n",
        "print('X test shape:',X_test.shape)"
      ],
      "outputs": [
        {
          "output_type": "stream",
          "name": "stdout",
          "text": [
            "X train shape: (150000, 26)\n",
            "X test shape: (50000, 26)\n"
          ]
        }
      ],
      "execution_count": 20,
      "metadata": {
        "collapsed": true,
        "jupyter": {
          "source_hidden": false,
          "outputs_hidden": false
        },
        "nteract": {
          "transient": {
            "deleting": false
          }
        },
        "gather": {
          "logged": 1619257662120
        }
      }
    },
    {
      "cell_type": "code",
      "source": [
        "def Sta_inf(data):\r\n",
        "    print('_min',np.min(data))\r\n",
        "    print('_max:',np.max(data))\r\n",
        "    print('_mean',np.mean(data))\r\n",
        "    print('_ptp',np.ptp(data))\r\n",
        "    print('_std',np.std(data))\r\n",
        "    print('_var',np.var(data))"
      ],
      "outputs": [],
      "execution_count": 21,
      "metadata": {
        "collapsed": true,
        "jupyter": {
          "source_hidden": false,
          "outputs_hidden": false
        },
        "nteract": {
          "transient": {
            "deleting": false
          }
        },
        "gather": {
          "logged": 1619257712580
        }
      }
    },
    {
      "cell_type": "code",
      "source": [
        "print('Sta of label:')\r\n",
        "Sta_inf(Y_data)"
      ],
      "outputs": [
        {
          "output_type": "stream",
          "name": "stdout",
          "text": [
            "Sta of label:\n",
            "_min 11\n",
            "_max: 99999\n",
            "_mean 5923.327333333334\n",
            "_ptp 99988\n",
            "_std 7501.973469876438\n",
            "_var 56279605.94272992\n"
          ]
        }
      ],
      "execution_count": 22,
      "metadata": {
        "collapsed": true,
        "jupyter": {
          "source_hidden": false,
          "outputs_hidden": false
        },
        "nteract": {
          "transient": {
            "deleting": false
          }
        },
        "gather": {
          "logged": 1619257723063
        }
      }
    },
    {
      "cell_type": "code",
      "source": [
        "X_data = X_data.fillna(-1)\r\n",
        "X_test = X_test.fillna(-1)"
      ],
      "outputs": [],
      "execution_count": 23,
      "metadata": {
        "collapsed": true,
        "jupyter": {
          "source_hidden": false,
          "outputs_hidden": false
        },
        "nteract": {
          "transient": {
            "deleting": false
          }
        },
        "gather": {
          "logged": 1619257737938
        }
      }
    },
    {
      "cell_type": "code",
      "source": [
        "def build_model_lr(x_train,y_train):\r\n",
        "    reg_model = linear_model.LinearRegression()\r\n",
        "    reg_model.fit(x_train,y_train)\r\n",
        "    return reg_model\r\n",
        "\r\n",
        "def build_model_ridge(x_train,y_train):\r\n",
        "    reg_model = linear_model.Ridge(alpha=0.8)#alphas=range(1,100,5)\r\n",
        "    reg_model.fit(x_train,y_train)\r\n",
        "    return reg_model\r\n",
        "\r\n",
        "def build_model_lasso(x_train,y_train):\r\n",
        "    reg_model = linear_model.LassoCV()\r\n",
        "    reg_model.fit(x_train,y_train)\r\n",
        "    return reg_model\r\n",
        "\r\n",
        "def build_model_gbdt(x_train,y_train):\r\n",
        "    estimator =GradientBoostingRegressor(loss='ls',subsample= 0.85,max_depth= 5,n_estimators = 100)\r\n",
        "    param_grid = { \r\n",
        "            'learning_rate': [0.05,0.08,0.1,0.2],\r\n",
        "            }\r\n",
        "    gbdt = GridSearchCV(estimator, param_grid,cv=3)\r\n",
        "    gbdt.fit(x_train,y_train)\r\n",
        "    print(gbdt.best_params_)\r\n",
        "    # print(gbdt.best_estimator_ )\r\n",
        "    return gbdt\r\n",
        "\r\n",
        "def build_model_xgb(x_train,y_train):\r\n",
        "    model = xgb.XGBRegressor(n_estimators=120, learning_rate=0.08, gamma=0, subsample=0.8,\\\r\n",
        "        colsample_bytree=0.9, max_depth=5) #, objective ='reg:squarederror'\r\n",
        "    model.fit(x_train, y_train)\r\n",
        "    return model\r\n",
        "\r\n",
        "def build_model_lgb(x_train,y_train):\r\n",
        "    estimator = lgb.LGBMRegressor(num_leaves=63,n_estimators = 100)\r\n",
        "    param_grid = {\r\n",
        "        'learning_rate': [0.01, 0.05, 0.1],\r\n",
        "    }\r\n",
        "    gbm = GridSearchCV(estimator, param_grid)\r\n",
        "    gbm.fit(x_train, y_train)\r\n",
        "    return gbm"
      ],
      "outputs": [],
      "execution_count": 24,
      "metadata": {
        "collapsed": true,
        "jupyter": {
          "source_hidden": false,
          "outputs_hidden": false
        },
        "nteract": {
          "transient": {
            "deleting": false
          }
        },
        "gather": {
          "logged": 1619257751947
        }
      }
    },
    {
      "cell_type": "code",
      "source": [
        "# XGBoost的五折交叉回归验证实现\r\n",
        "\r\n",
        "## xgb\r\n",
        "xgr = xgb.XGBRegressor(n_estimators=120, learning_rate=0.1, subsample=0.8,\\\r\n",
        "        colsample_bytree=0.9, max_depth=7) # ,objective ='reg:squarederror'\r\n",
        "\r\n",
        "scores_train = []\r\n",
        "scores = []\r\n",
        "\r\n",
        "## 5折交叉验证方式\r\n",
        "sk=StratifiedKFold(n_splits=5,shuffle=True,random_state=0)\r\n",
        "for train_ind,val_ind in sk.split(X_data,Y_data):\r\n",
        "    \r\n",
        "    train_x=X_data.iloc[train_ind].values\r\n",
        "    train_y=Y_data.iloc[train_ind]\r\n",
        "    val_x=X_data.iloc[val_ind].values\r\n",
        "    val_y=Y_data.iloc[val_ind]\r\n",
        "    \r\n",
        "    xgr.fit(train_x,train_y)\r\n",
        "    pred_train_xgb=xgr.predict(train_x)\r\n",
        "    pred_xgb=xgr.predict(val_x)\r\n",
        "    \r\n",
        "    score_train = mean_absolute_error(train_y,pred_train_xgb)\r\n",
        "    scores_train.append(score_train)\r\n",
        "    score = mean_absolute_error(val_y,pred_xgb)\r\n",
        "    scores.append(score)\r\n",
        "\r\n",
        "print('Train mae:',np.mean(score_train))\r\n",
        "print('Val mae',np.mean(scores))"
      ],
      "outputs": [
        {
          "output_type": "stream",
          "name": "stdout",
          "text": [
            "[09:50:43] WARNING: /workspace/src/objective/regression_obj.cu:152: reg:linear is now deprecated in favor of reg:squarederror.\n",
            "[09:51:31] WARNING: /workspace/src/objective/regression_obj.cu:152: reg:linear is now deprecated in favor of reg:squarederror.\n",
            "[09:52:19] WARNING: /workspace/src/objective/regression_obj.cu:152: reg:linear is now deprecated in favor of reg:squarederror.\n",
            "[09:53:08] WARNING: /workspace/src/objective/regression_obj.cu:152: reg:linear is now deprecated in favor of reg:squarederror.\n",
            "[09:53:56] WARNING: /workspace/src/objective/regression_obj.cu:152: reg:linear is now deprecated in favor of reg:squarederror.\n",
            "Train mae: 594.4890495346745\n",
            "Val mae 694.5823127983205\n"
          ]
        }
      ],
      "execution_count": 25,
      "metadata": {
        "collapsed": true,
        "jupyter": {
          "source_hidden": false,
          "outputs_hidden": false
        },
        "nteract": {
          "transient": {
            "deleting": false
          }
        },
        "gather": {
          "logged": 1619258084320
        }
      }
    },
    {
      "cell_type": "code",
      "source": [
        "#划分数据集，并用多种方法训练和预测\r\n",
        "\r\n",
        "## Split data with val\r\n",
        "x_train,x_val,y_train,y_val = train_test_split(X_data,Y_data,test_size=0.3)\r\n",
        "\r\n",
        "## Train and Predict\r\n",
        "print('Predict LR...')\r\n",
        "model_lr = build_model_lr(x_train,y_train)\r\n",
        "val_lr = model_lr.predict(x_val)\r\n",
        "subA_lr = model_lr.predict(X_test)\r\n",
        "\r\n",
        "print('Predict Ridge...')\r\n",
        "model_ridge = build_model_ridge(x_train,y_train)\r\n",
        "val_ridge = model_ridge.predict(x_val)\r\n",
        "subA_ridge = model_ridge.predict(X_test)\r\n",
        "\r\n",
        "print('Predict Lasso...')\r\n",
        "model_lasso = build_model_lasso(x_train,y_train)\r\n",
        "val_lasso = model_lasso.predict(x_val)\r\n",
        "subA_lasso = model_lasso.predict(X_test)\r\n",
        "\r\n",
        "print('Predict GBDT...')\r\n",
        "model_gbdt = build_model_gbdt(x_train,y_train)\r\n",
        "val_gbdt = model_gbdt.predict(x_val)\r\n",
        "subA_gbdt = model_gbdt.predict(X_test)"
      ],
      "outputs": [
        {
          "output_type": "stream",
          "name": "stdout",
          "text": [
            "Predict LR...\n",
            "Predict Ridge...\n",
            "Predict Lasso...\n",
            "Predict GBDT...\n",
            "{'learning_rate': 0.2}\n"
          ]
        }
      ],
      "execution_count": 27,
      "metadata": {
        "collapsed": true,
        "jupyter": {
          "source_hidden": false,
          "outputs_hidden": false
        },
        "nteract": {
          "transient": {
            "deleting": false
          }
        },
        "gather": {
          "logged": 1619258950660
        }
      }
    },
    {
      "cell_type": "code",
      "source": [
        "# 一般比赛中效果最为显著的两种方法\r\n",
        "\r\n",
        "print('predict XGB...')\r\n",
        "model_xgb = build_model_xgb(x_train,y_train)\r\n",
        "val_xgb = model_xgb.predict(x_val)\r\n",
        "subA_xgb = model_xgb.predict(X_test)\r\n",
        "\r\n",
        "print('predict lgb...')\r\n",
        "model_lgb = build_model_lgb(x_train,y_train)\r\n",
        "val_lgb = model_lgb.predict(x_val)\r\n",
        "subA_lgb = model_lgb.predict(X_test)"
      ],
      "outputs": [
        {
          "output_type": "stream",
          "name": "stdout",
          "text": [
            "predict XGB...\n",
            "[10:09:10] WARNING: /workspace/src/objective/regression_obj.cu:152: reg:linear is now deprecated in favor of reg:squarederror.\n",
            "predict lgb...\n"
          ]
        }
      ],
      "execution_count": 28,
      "metadata": {
        "collapsed": true,
        "jupyter": {
          "source_hidden": false,
          "outputs_hidden": false
        },
        "nteract": {
          "transient": {
            "deleting": false
          }
        },
        "gather": {
          "logged": 1619259016588
        }
      }
    },
    {
      "cell_type": "code",
      "source": [
        "print('Sta inf of lgb:')\r\n",
        "Sta_inf(subA_lgb)"
      ],
      "outputs": [
        {
          "output_type": "stream",
          "name": "stdout",
          "text": [
            "Sta inf of lgb:\n",
            "_min -200.26439750643075\n",
            "_max: 90023.76463744824\n",
            "_mean 5910.283884310833\n",
            "_ptp 90224.02903495467\n",
            "_std 7342.135740261372\n",
            "_var 53906957.22842341\n"
          ]
        }
      ],
      "execution_count": 29,
      "metadata": {
        "collapsed": true,
        "jupyter": {
          "source_hidden": false,
          "outputs_hidden": false
        },
        "nteract": {
          "transient": {
            "deleting": false
          }
        },
        "gather": {
          "logged": 1619259043796
        }
      }
    },
    {
      "cell_type": "code",
      "source": [
        "# 加权融合\r\n",
        "\r\n",
        "def Weighted_method(test_pre1,test_pre2,test_pre3,w=[1/3,1/3,1/3]):\r\n",
        "    Weighted_result = w[0]*pd.Series(test_pre1)+w[1]*pd.Series(test_pre2)+w[2]*pd.Series(test_pre3)\r\n",
        "    return Weighted_result\r\n",
        "\r\n",
        "## Init the Weight\r\n",
        "w = [0.3,0.4,0.3]\r\n",
        "\r\n",
        "## 测试验证集准确度\r\n",
        "val_pre = Weighted_method(val_lgb,val_xgb,val_gbdt,w)\r\n",
        "MAE_Weighted = mean_absolute_error(y_val,val_pre)\r\n",
        "print('MAE of Weighted of val:',MAE_Weighted)\r\n",
        "\r\n",
        "## 预测数据部分\r\n",
        "subA = Weighted_method(subA_lgb,subA_xgb,subA_gbdt,w)\r\n",
        "print('Sta inf:')\r\n",
        "Sta_inf(subA)\r\n",
        "## 生成提交文件\r\n",
        "sub = pd.DataFrame()\r\n",
        "sub['SaleID'] = X_test.index\r\n",
        "sub['price'] = subA\r\n",
        "sub.to_csv('./sub_Weighted.csv',index=False)"
      ],
      "outputs": [
        {
          "output_type": "stream",
          "name": "stdout",
          "text": [
            "MAE of Weighted of val: 721.3695327391271\n",
            "Sta inf:\n",
            "_min -52.09900168247665\n",
            "_max: 90618.27724080338\n",
            "_mean 5910.884971852102\n",
            "_ptp 90670.37624248586\n",
            "_std 7320.015724491596\n",
            "_var 53582630.20680423\n"
          ]
        }
      ],
      "execution_count": 30,
      "metadata": {
        "collapsed": true,
        "jupyter": {
          "source_hidden": false,
          "outputs_hidden": false
        },
        "nteract": {
          "transient": {
            "deleting": false
          }
        },
        "gather": {
          "logged": 1619259049816
        }
      }
    },
    {
      "cell_type": "code",
      "source": [
        "## 与简单的LR（线性回归）进行对比\r\n",
        "val_lr_pred = model_lr.predict(x_val)\r\n",
        "MAE_lr = mean_absolute_error(y_val,val_lr_pred)\r\n",
        "print('MAE of lr:',MAE_lr)"
      ],
      "outputs": [
        {
          "output_type": "stream",
          "name": "stdout",
          "text": [
            "MAE of lr: 2592.0723908589257\n"
          ]
        }
      ],
      "execution_count": 31,
      "metadata": {
        "collapsed": true,
        "jupyter": {
          "source_hidden": false,
          "outputs_hidden": false
        },
        "nteract": {
          "transient": {
            "deleting": false
          }
        },
        "gather": {
          "logged": 1619259057625
        }
      }
    },
    {
      "cell_type": "code",
      "source": [
        "# Stacking融合\r\n",
        "\r\n",
        "## Stacking\r\n",
        "\r\n",
        "## 第一层\r\n",
        "train_lgb_pred = model_lgb.predict(x_train)\r\n",
        "train_xgb_pred = model_xgb.predict(x_train)\r\n",
        "train_gbdt_pred = model_gbdt.predict(x_train)\r\n",
        "\r\n",
        "Stack_X_train = pd.DataFrame()\r\n",
        "Stack_X_train['Method_1'] = train_lgb_pred\r\n",
        "Stack_X_train['Method_2'] = train_xgb_pred\r\n",
        "Stack_X_train['Method_3'] = train_gbdt_pred\r\n",
        "\r\n",
        "Stack_X_val = pd.DataFrame()\r\n",
        "Stack_X_val['Method_1'] = val_lgb\r\n",
        "Stack_X_val['Method_2'] = val_xgb\r\n",
        "Stack_X_val['Method_3'] = val_gbdt\r\n",
        "\r\n",
        "Stack_X_test = pd.DataFrame()\r\n",
        "Stack_X_test['Method_1'] = subA_lgb\r\n",
        "Stack_X_test['Method_2'] = subA_xgb\r\n",
        "Stack_X_test['Method_3'] = subA_gbdt"
      ],
      "outputs": [],
      "execution_count": 32,
      "metadata": {
        "collapsed": true,
        "jupyter": {
          "source_hidden": false,
          "outputs_hidden": false
        },
        "nteract": {
          "transient": {
            "deleting": false
          }
        },
        "gather": {
          "logged": 1619259063013
        }
      }
    },
    {
      "cell_type": "code",
      "source": [
        "## level2-method \r\n",
        "model_lr_Stacking = build_model_lr(Stack_X_train,y_train)\r\n",
        "## 训练集\r\n",
        "train_pre_Stacking = model_lr_Stacking.predict(Stack_X_train)\r\n",
        "print('MAE of Stacking-LR:',mean_absolute_error(y_train,train_pre_Stacking))\r\n",
        "\r\n",
        "## 验证集\r\n",
        "val_pre_Stacking = model_lr_Stacking.predict(Stack_X_val)\r\n",
        "print('MAE of Stacking-LR:',mean_absolute_error(y_val,val_pre_Stacking))\r\n",
        "\r\n",
        "## 预测集\r\n",
        "print('Predict Stacking-LR...')\r\n",
        "subA_Stacking = model_lr_Stacking.predict(Stack_X_test)"
      ],
      "outputs": [
        {
          "output_type": "stream",
          "name": "stdout",
          "text": [
            "MAE of Stacking-LR: 635.0208068447632\n",
            "MAE of Stacking-LR: 713.8166458581238\n",
            "Predict Stacking-LR...\n"
          ]
        }
      ],
      "execution_count": 33,
      "metadata": {
        "collapsed": true,
        "jupyter": {
          "source_hidden": false,
          "outputs_hidden": false
        },
        "nteract": {
          "transient": {
            "deleting": false
          }
        },
        "gather": {
          "logged": 1619259066518
        }
      }
    },
    {
      "cell_type": "code",
      "source": [
        "subA_Stacking[subA_Stacking<10]=10  ## 去除过小的预测值\r\n",
        "\r\n",
        "sub = pd.DataFrame()\r\n",
        "sub['SaleID'] = X_test.index\r\n",
        "sub['price'] = subA_Stacking\r\n",
        "sub.to_csv('./sub_Stacking.csv',index=False)"
      ],
      "outputs": [],
      "execution_count": 34,
      "metadata": {
        "collapsed": true,
        "jupyter": {
          "source_hidden": false,
          "outputs_hidden": false
        },
        "nteract": {
          "transient": {
            "deleting": false
          }
        },
        "gather": {
          "logged": 1619259072463
        }
      }
    },
    {
      "cell_type": "code",
      "source": [
        "print('Sta inf:')\r\n",
        "Sta_inf(subA_Stacking)"
      ],
      "outputs": [
        {
          "output_type": "stream",
          "name": "stdout",
          "text": [
            "Sta inf:\n",
            "_min 10.0\n",
            "_max: 90920.4746348249\n",
            "_mean 5911.663185988326\n",
            "_ptp 90910.4746348249\n",
            "_std 7375.982910177883\n",
            "_var 54405123.89123619\n"
          ]
        }
      ],
      "execution_count": 35,
      "metadata": {
        "collapsed": true,
        "jupyter": {
          "source_hidden": false,
          "outputs_hidden": false
        },
        "nteract": {
          "transient": {
            "deleting": false
          }
        },
        "gather": {
          "logged": 1619259076160
        }
      }
    }
  ],
  "metadata": {
    "kernelspec": {
      "name": "python3-azureml",
      "language": "python",
      "display_name": "Python 3.6 - AzureML"
    },
    "language_info": {
      "name": "python",
      "version": "3.6.9",
      "mimetype": "text/x-python",
      "codemirror_mode": {
        "name": "ipython",
        "version": 3
      },
      "pygments_lexer": "ipython3",
      "nbconvert_exporter": "python",
      "file_extension": ".py"
    },
    "kernel_info": {
      "name": "python3-azureml"
    },
    "microsoft": {
      "host": {
        "AzureML": {
          "notebookHasBeenCompleted": true
        }
      }
    },
    "nteract": {
      "version": "nteract-front-end@1.0.0"
    }
  },
  "nbformat": 4,
  "nbformat_minor": 2
}