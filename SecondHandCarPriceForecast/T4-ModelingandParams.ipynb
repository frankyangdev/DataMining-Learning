{
  "cells": [
    {
      "cell_type": "code",
      "source": [
        "import pandas as pd\r\n",
        "import numpy as np\r\n",
        "import warnings\r\n",
        "warnings.filterwarnings('ignore')"
      ],
      "outputs": [],
      "execution_count": 3,
      "metadata": {
        "gather": {
          "logged": 1619091363565
        }
      }
    },
    {
      "cell_type": "code",
      "source": [
        "def reduce_mem_usage(df):\r\n",
        "    \"\"\" iterate through all the columns of a dataframe and modify the data type\r\n",
        "        to reduce memory usage.        \r\n",
        "    \"\"\"\r\n",
        "    start_mem = df.memory_usage().sum() \r\n",
        "    print('Memory usage of dataframe is {:.2f} MB'.format(start_mem))\r\n",
        "    \r\n",
        "    for col in df.columns:\r\n",
        "        col_type = df[col].dtype\r\n",
        "        \r\n",
        "        if col_type != object:     \r\n",
        "            c_min = df[col].min()\r\n",
        "            c_max = df[col].max()\r\n",
        "            if str(col_type)[:3] == 'int':\r\n",
        "                if c_min > np.iinfo(np.int8).min and c_max < np.iinfo(np.int8).max:\r\n",
        "                    df[col] = df[col].astype(np.int8)\r\n",
        "                elif c_min > np.iinfo(np.int16).min and c_max < np.iinfo(np.int16).max:\r\n",
        "                    df[col] = df[col].astype(np.int16)\r\n",
        "                elif c_min > np.iinfo(np.int32).min and c_max < np.iinfo(np.int32).max:\r\n",
        "                    df[col] = df[col].astype(np.int32)\r\n",
        "                elif c_min > np.iinfo(np.int64).min and c_max < np.iinfo(np.int64).max:\r\n",
        "                    df[col] = df[col].astype(np.int64)  \r\n",
        "            else:\r\n",
        "                if c_min > np.finfo(np.float16).min and c_max < np.finfo(np.float16).max:\r\n",
        "                    df[col] = df[col].astype(np.float16)\r\n",
        "                elif c_min > np.finfo(np.float32).min and c_max < np.finfo(np.float32).max:\r\n",
        "                    df[col] = df[col].astype(np.float32)\r\n",
        "                else:\r\n",
        "                    df[col] = df[col].astype(np.float64)\r\n",
        "        else:\r\n",
        "            df[col] = df[col].astype('category')\r\n",
        "\r\n",
        "    end_mem = df.memory_usage().sum() \r\n",
        "    print('Memory usage after optimization is: {:.2f} MB'.format(end_mem))\r\n",
        "    print('Decreased by {:.1f}%'.format(100 * (start_mem - end_mem) / start_mem))\r\n",
        "    return df"
      ],
      "outputs": [],
      "execution_count": 4,
      "metadata": {
        "collapsed": true,
        "jupyter": {
          "source_hidden": false,
          "outputs_hidden": false
        },
        "nteract": {
          "transient": {
            "deleting": false
          }
        },
        "gather": {
          "logged": 1619091365791
        }
      }
    },
    {
      "cell_type": "code",
      "source": [
        "sample_feature = reduce_mem_usage(pd.read_csv('data_for_tree.csv'))"
      ],
      "outputs": [
        {
          "output_type": "stream",
          "name": "stdout",
          "text": [
            "Memory usage of dataframe is 62400128.00 MB\n",
            "Memory usage after optimization is: 16600232.00 MB\n",
            "Decreased by 73.4%\n"
          ]
        }
      ],
      "execution_count": 5,
      "metadata": {
        "collapsed": true,
        "jupyter": {
          "source_hidden": false,
          "outputs_hidden": false
        },
        "nteract": {
          "transient": {
            "deleting": false
          }
        },
        "gather": {
          "logged": 1619091383268
        }
      }
    },
    {
      "cell_type": "code",
      "source": [
        "sample_feature.head()"
      ],
      "outputs": [
        {
          "output_type": "execute_result",
          "execution_count": 6,
          "data": {
            "text/plain": "   SaleID    name  model  brand  bodyType  fuelType  gearbox  power  \\\n0       0     736   30.0      6       1.0       0.0      0.0     60   \n1       1    2262   40.0      1       2.0       0.0      0.0      0   \n2       2   14874  115.0     15       1.0       0.0      0.0    163   \n3       3   71865  109.0     10       0.0       0.0      1.0    193   \n4       4  111080  110.0      5       1.0       0.0      0.0     68   \n\n   kilometer notRepairedDamage  ...  used_time  city  brand_amount  \\\n0       12.5               0.0  ...     4384.0   1.0       10216.0   \n1       15.0                 -  ...     4756.0   4.0       13792.0   \n2       12.5               0.0  ...     4384.0   2.0        1458.0   \n3       15.0               0.0  ...     7124.0   NaN       14248.0   \n4        5.0               0.0  ...     1531.0   6.0        4664.0   \n\n   brand_price_max  brand_price_median  brand_price_min  brand_price_sum  \\\n0          59900.0              1800.0             13.0       36902172.0   \n1          99900.0              6500.0             15.0      127916064.0   \n2          45000.0              8496.0            100.0       14373814.0   \n3          98000.0              5400.0             15.0      120700488.0   \n4          31500.0              2300.0             20.0       15424120.0   \n\n   brand_price_std  brand_price_average  power_bin  \n0           4680.0               3612.0        5.0  \n1           9368.0               9272.0        NaN  \n2           5424.0               9848.0       16.0  \n3           8992.0               8472.0       19.0  \n4           3344.0               3306.0        6.0  \n\n[5 rows x 39 columns]",
            "text/html": "<div>\n<style scoped>\n    .dataframe tbody tr th:only-of-type {\n        vertical-align: middle;\n    }\n\n    .dataframe tbody tr th {\n        vertical-align: top;\n    }\n\n    .dataframe thead th {\n        text-align: right;\n    }\n</style>\n<table border=\"1\" class=\"dataframe\">\n  <thead>\n    <tr style=\"text-align: right;\">\n      <th></th>\n      <th>SaleID</th>\n      <th>name</th>\n      <th>model</th>\n      <th>brand</th>\n      <th>bodyType</th>\n      <th>fuelType</th>\n      <th>gearbox</th>\n      <th>power</th>\n      <th>kilometer</th>\n      <th>notRepairedDamage</th>\n      <th>...</th>\n      <th>used_time</th>\n      <th>city</th>\n      <th>brand_amount</th>\n      <th>brand_price_max</th>\n      <th>brand_price_median</th>\n      <th>brand_price_min</th>\n      <th>brand_price_sum</th>\n      <th>brand_price_std</th>\n      <th>brand_price_average</th>\n      <th>power_bin</th>\n    </tr>\n  </thead>\n  <tbody>\n    <tr>\n      <th>0</th>\n      <td>0</td>\n      <td>736</td>\n      <td>30.0</td>\n      <td>6</td>\n      <td>1.0</td>\n      <td>0.0</td>\n      <td>0.0</td>\n      <td>60</td>\n      <td>12.5</td>\n      <td>0.0</td>\n      <td>...</td>\n      <td>4384.0</td>\n      <td>1.0</td>\n      <td>10216.0</td>\n      <td>59900.0</td>\n      <td>1800.0</td>\n      <td>13.0</td>\n      <td>36902172.0</td>\n      <td>4680.0</td>\n      <td>3612.0</td>\n      <td>5.0</td>\n    </tr>\n    <tr>\n      <th>1</th>\n      <td>1</td>\n      <td>2262</td>\n      <td>40.0</td>\n      <td>1</td>\n      <td>2.0</td>\n      <td>0.0</td>\n      <td>0.0</td>\n      <td>0</td>\n      <td>15.0</td>\n      <td>-</td>\n      <td>...</td>\n      <td>4756.0</td>\n      <td>4.0</td>\n      <td>13792.0</td>\n      <td>99900.0</td>\n      <td>6500.0</td>\n      <td>15.0</td>\n      <td>127916064.0</td>\n      <td>9368.0</td>\n      <td>9272.0</td>\n      <td>NaN</td>\n    </tr>\n    <tr>\n      <th>2</th>\n      <td>2</td>\n      <td>14874</td>\n      <td>115.0</td>\n      <td>15</td>\n      <td>1.0</td>\n      <td>0.0</td>\n      <td>0.0</td>\n      <td>163</td>\n      <td>12.5</td>\n      <td>0.0</td>\n      <td>...</td>\n      <td>4384.0</td>\n      <td>2.0</td>\n      <td>1458.0</td>\n      <td>45000.0</td>\n      <td>8496.0</td>\n      <td>100.0</td>\n      <td>14373814.0</td>\n      <td>5424.0</td>\n      <td>9848.0</td>\n      <td>16.0</td>\n    </tr>\n    <tr>\n      <th>3</th>\n      <td>3</td>\n      <td>71865</td>\n      <td>109.0</td>\n      <td>10</td>\n      <td>0.0</td>\n      <td>0.0</td>\n      <td>1.0</td>\n      <td>193</td>\n      <td>15.0</td>\n      <td>0.0</td>\n      <td>...</td>\n      <td>7124.0</td>\n      <td>NaN</td>\n      <td>14248.0</td>\n      <td>98000.0</td>\n      <td>5400.0</td>\n      <td>15.0</td>\n      <td>120700488.0</td>\n      <td>8992.0</td>\n      <td>8472.0</td>\n      <td>19.0</td>\n    </tr>\n    <tr>\n      <th>4</th>\n      <td>4</td>\n      <td>111080</td>\n      <td>110.0</td>\n      <td>5</td>\n      <td>1.0</td>\n      <td>0.0</td>\n      <td>0.0</td>\n      <td>68</td>\n      <td>5.0</td>\n      <td>0.0</td>\n      <td>...</td>\n      <td>1531.0</td>\n      <td>6.0</td>\n      <td>4664.0</td>\n      <td>31500.0</td>\n      <td>2300.0</td>\n      <td>20.0</td>\n      <td>15424120.0</td>\n      <td>3344.0</td>\n      <td>3306.0</td>\n      <td>6.0</td>\n    </tr>\n  </tbody>\n</table>\n<p>5 rows × 39 columns</p>\n</div>"
          },
          "metadata": {}
        }
      ],
      "execution_count": 6,
      "metadata": {
        "collapsed": true,
        "jupyter": {
          "source_hidden": false,
          "outputs_hidden": false
        },
        "nteract": {
          "transient": {
            "deleting": false
          }
        },
        "gather": {
          "logged": 1619091384157
        }
      }
    },
    {
      "cell_type": "code",
      "source": [
        "continuous_feature_names = [x for x in sample_feature.columns if x not in ['price','brand','model','brand']]"
      ],
      "outputs": [],
      "execution_count": 7,
      "metadata": {
        "collapsed": true,
        "jupyter": {
          "source_hidden": false,
          "outputs_hidden": false
        },
        "nteract": {
          "transient": {
            "deleting": false
          }
        },
        "gather": {
          "logged": 1619091387413
        }
      }
    },
    {
      "cell_type": "code",
      "source": [
        "sample_feature = sample_feature.dropna().replace('-', 0).reset_index(drop=True)\r\n",
        "sample_feature['notRepairedDamage'] = sample_feature['notRepairedDamage'].astype(np.float32)\r\n",
        "train = sample_feature[continuous_feature_names + ['price']]\r\n",
        "\r\n",
        "train_X = train[continuous_feature_names]\r\n",
        "train_y = train['price']"
      ],
      "outputs": [],
      "execution_count": 8,
      "metadata": {
        "collapsed": true,
        "jupyter": {
          "source_hidden": false,
          "outputs_hidden": false
        },
        "nteract": {
          "transient": {
            "deleting": false
          }
        },
        "gather": {
          "logged": 1619091389895
        }
      }
    },
    {
      "cell_type": "code",
      "source": [
        "train_X.head()"
      ],
      "outputs": [
        {
          "output_type": "execute_result",
          "execution_count": 9,
          "data": {
            "text/plain": "   SaleID    name  bodyType  fuelType  gearbox  power  kilometer  \\\n0       0     736       1.0       0.0      0.0     60       12.5   \n1       2   14874       1.0       0.0      0.0    163       12.5   \n2       4  111080       1.0       0.0      0.0     68        5.0   \n3       5  137642       0.0       1.0      0.0    109       10.0   \n4       6    2402       0.0       0.0      1.0    150       15.0   \n\n   notRepairedDamage  seller  offerType  ...  used_time  city  brand_amount  \\\n0                0.0       0          0  ...     4384.0   1.0       10216.0   \n1                0.0       0          0  ...     4384.0   2.0        1458.0   \n2                0.0       0          0  ...     1531.0   6.0        4664.0   \n3                0.0       0          0  ...     2482.0   3.0       14248.0   \n4                0.0       0          0  ...     6184.0   3.0       16736.0   \n\n   brand_price_max  brand_price_median  brand_price_min  brand_price_sum  \\\n0          59900.0              1800.0             13.0       36902172.0   \n1          45000.0              8496.0            100.0       14373814.0   \n2          31500.0              2300.0             20.0       15424120.0   \n3          98000.0              5400.0             15.0      120700488.0   \n4          99999.0              6000.0             12.0      142913696.0   \n\n   brand_price_std  brand_price_average  power_bin  \n0           4680.0               3612.0        5.0  \n1           5424.0               9848.0       16.0  \n2           3344.0               3306.0        6.0  \n3           8992.0               8472.0       10.0  \n4           8472.0               8536.0       14.0  \n\n[5 rows x 36 columns]",
            "text/html": "<div>\n<style scoped>\n    .dataframe tbody tr th:only-of-type {\n        vertical-align: middle;\n    }\n\n    .dataframe tbody tr th {\n        vertical-align: top;\n    }\n\n    .dataframe thead th {\n        text-align: right;\n    }\n</style>\n<table border=\"1\" class=\"dataframe\">\n  <thead>\n    <tr style=\"text-align: right;\">\n      <th></th>\n      <th>SaleID</th>\n      <th>name</th>\n      <th>bodyType</th>\n      <th>fuelType</th>\n      <th>gearbox</th>\n      <th>power</th>\n      <th>kilometer</th>\n      <th>notRepairedDamage</th>\n      <th>seller</th>\n      <th>offerType</th>\n      <th>...</th>\n      <th>used_time</th>\n      <th>city</th>\n      <th>brand_amount</th>\n      <th>brand_price_max</th>\n      <th>brand_price_median</th>\n      <th>brand_price_min</th>\n      <th>brand_price_sum</th>\n      <th>brand_price_std</th>\n      <th>brand_price_average</th>\n      <th>power_bin</th>\n    </tr>\n  </thead>\n  <tbody>\n    <tr>\n      <th>0</th>\n      <td>0</td>\n      <td>736</td>\n      <td>1.0</td>\n      <td>0.0</td>\n      <td>0.0</td>\n      <td>60</td>\n      <td>12.5</td>\n      <td>0.0</td>\n      <td>0</td>\n      <td>0</td>\n      <td>...</td>\n      <td>4384.0</td>\n      <td>1.0</td>\n      <td>10216.0</td>\n      <td>59900.0</td>\n      <td>1800.0</td>\n      <td>13.0</td>\n      <td>36902172.0</td>\n      <td>4680.0</td>\n      <td>3612.0</td>\n      <td>5.0</td>\n    </tr>\n    <tr>\n      <th>1</th>\n      <td>2</td>\n      <td>14874</td>\n      <td>1.0</td>\n      <td>0.0</td>\n      <td>0.0</td>\n      <td>163</td>\n      <td>12.5</td>\n      <td>0.0</td>\n      <td>0</td>\n      <td>0</td>\n      <td>...</td>\n      <td>4384.0</td>\n      <td>2.0</td>\n      <td>1458.0</td>\n      <td>45000.0</td>\n      <td>8496.0</td>\n      <td>100.0</td>\n      <td>14373814.0</td>\n      <td>5424.0</td>\n      <td>9848.0</td>\n      <td>16.0</td>\n    </tr>\n    <tr>\n      <th>2</th>\n      <td>4</td>\n      <td>111080</td>\n      <td>1.0</td>\n      <td>0.0</td>\n      <td>0.0</td>\n      <td>68</td>\n      <td>5.0</td>\n      <td>0.0</td>\n      <td>0</td>\n      <td>0</td>\n      <td>...</td>\n      <td>1531.0</td>\n      <td>6.0</td>\n      <td>4664.0</td>\n      <td>31500.0</td>\n      <td>2300.0</td>\n      <td>20.0</td>\n      <td>15424120.0</td>\n      <td>3344.0</td>\n      <td>3306.0</td>\n      <td>6.0</td>\n    </tr>\n    <tr>\n      <th>3</th>\n      <td>5</td>\n      <td>137642</td>\n      <td>0.0</td>\n      <td>1.0</td>\n      <td>0.0</td>\n      <td>109</td>\n      <td>10.0</td>\n      <td>0.0</td>\n      <td>0</td>\n      <td>0</td>\n      <td>...</td>\n      <td>2482.0</td>\n      <td>3.0</td>\n      <td>14248.0</td>\n      <td>98000.0</td>\n      <td>5400.0</td>\n      <td>15.0</td>\n      <td>120700488.0</td>\n      <td>8992.0</td>\n      <td>8472.0</td>\n      <td>10.0</td>\n    </tr>\n    <tr>\n      <th>4</th>\n      <td>6</td>\n      <td>2402</td>\n      <td>0.0</td>\n      <td>0.0</td>\n      <td>1.0</td>\n      <td>150</td>\n      <td>15.0</td>\n      <td>0.0</td>\n      <td>0</td>\n      <td>0</td>\n      <td>...</td>\n      <td>6184.0</td>\n      <td>3.0</td>\n      <td>16736.0</td>\n      <td>99999.0</td>\n      <td>6000.0</td>\n      <td>12.0</td>\n      <td>142913696.0</td>\n      <td>8472.0</td>\n      <td>8536.0</td>\n      <td>14.0</td>\n    </tr>\n  </tbody>\n</table>\n<p>5 rows × 36 columns</p>\n</div>"
          },
          "metadata": {}
        }
      ],
      "execution_count": 9,
      "metadata": {
        "collapsed": true,
        "jupyter": {
          "source_hidden": false,
          "outputs_hidden": false
        },
        "nteract": {
          "transient": {
            "deleting": false
          }
        },
        "gather": {
          "logged": 1619091394094
        }
      }
    },
    {
      "cell_type": "code",
      "source": [
        "from sklearn.linear_model import LinearRegression"
      ],
      "outputs": [],
      "execution_count": 10,
      "metadata": {
        "collapsed": true,
        "jupyter": {
          "source_hidden": false,
          "outputs_hidden": false
        },
        "nteract": {
          "transient": {
            "deleting": false
          }
        },
        "gather": {
          "logged": 1619091396812
        }
      }
    },
    {
      "cell_type": "code",
      "source": [
        "model = LinearRegression(normalize=True)"
      ],
      "outputs": [],
      "execution_count": 11,
      "metadata": {
        "collapsed": true,
        "jupyter": {
          "source_hidden": false,
          "outputs_hidden": false
        },
        "nteract": {
          "transient": {
            "deleting": false
          }
        },
        "gather": {
          "logged": 1619091398910
        }
      }
    },
    {
      "cell_type": "code",
      "source": [
        "model"
      ],
      "outputs": [
        {
          "output_type": "execute_result",
          "execution_count": 12,
          "data": {
            "text/plain": "LinearRegression(copy_X=True, fit_intercept=True, n_jobs=None, normalize=True)"
          },
          "metadata": {}
        }
      ],
      "execution_count": 12,
      "metadata": {
        "collapsed": true,
        "jupyter": {
          "source_hidden": false,
          "outputs_hidden": false
        },
        "nteract": {
          "transient": {
            "deleting": false
          }
        },
        "gather": {
          "logged": 1619091402412
        }
      }
    },
    {
      "cell_type": "code",
      "source": [
        "model = model.fit(train_X, train_y)"
      ],
      "outputs": [],
      "execution_count": 14,
      "metadata": {
        "collapsed": true,
        "jupyter": {
          "source_hidden": false,
          "outputs_hidden": false
        },
        "nteract": {
          "transient": {
            "deleting": false
          }
        },
        "gather": {
          "logged": 1619091410030
        }
      }
    },
    {
      "cell_type": "code",
      "source": [
        "model"
      ],
      "outputs": [
        {
          "output_type": "execute_result",
          "execution_count": 15,
          "data": {
            "text/plain": "LinearRegression(copy_X=True, fit_intercept=True, n_jobs=None, normalize=True)"
          },
          "metadata": {}
        }
      ],
      "execution_count": 15,
      "metadata": {
        "collapsed": true,
        "jupyter": {
          "source_hidden": false,
          "outputs_hidden": false
        },
        "nteract": {
          "transient": {
            "deleting": false
          }
        },
        "gather": {
          "logged": 1619091412861
        }
      }
    },
    {
      "cell_type": "code",
      "source": [
        "'intercept:'+ str(model.intercept_)\r\n",
        "\r\n",
        "sorted(dict(zip(continuous_feature_names, model.coef_)).items(), key=lambda x:x[1], reverse=True)"
      ],
      "outputs": [
        {
          "output_type": "execute_result",
          "execution_count": 16,
          "data": {
            "text/plain": "[('v_6', 3372669.643929724),\n ('v_8', 701432.2110340355),\n ('v_9', 169509.4271135992),\n ('v_7', 32757.631350658783),\n ('v_12', 23807.64952958383),\n ('v_3', 19739.21668955329),\n ('v_11', 13163.940983394585),\n ('v_13', 11963.464984653589),\n ('v_10', 3659.7579200214614),\n ('gearbox', 878.4816253884345),\n ('fuelType', 372.24870228828325),\n ('bodyType', 185.91755900288786),\n ('city', 46.982759554224465),\n ('power', 30.88299152156325),\n ('brand_price_median', 0.4612524846595706),\n ('brand_amount', 0.14337558626063468),\n ('brand_price_std', 0.13126146237472724),\n ('brand_price_max', 0.012643738651113092),\n ('used_time', 0.0006779416045813419),\n ('SaleID', 5.0161735988178466e-05),\n ('seller', 3.52377537637949e-06),\n ('train', -2.2351741790771484e-07),\n ('offerType', -1.207110472023487e-06),\n ('brand_price_sum', -1.96981165290243e-05),\n ('name', -0.00024808160266361805),\n ('brand_price_average', -0.22234169615518348),\n ('brand_price_min', -1.9643720816004875),\n ('power_bin', -56.46399500595334),\n ('v_14', -340.80766284221374),\n ('kilometer', -372.8800824482803),\n ('notRepairedDamage', -490.616118156899),\n ('v_0', -2054.722036477407),\n ('v_5', -4343.728645949615),\n ('v_4', -15543.947059985294),\n ('v_2', -29430.036307199905),\n ('v_1', -45074.18455516153)]"
          },
          "metadata": {}
        }
      ],
      "execution_count": 16,
      "metadata": {
        "collapsed": true,
        "jupyter": {
          "source_hidden": false,
          "outputs_hidden": false
        },
        "nteract": {
          "transient": {
            "deleting": false
          }
        },
        "gather": {
          "logged": 1619091415692
        }
      }
    },
    {
      "cell_type": "code",
      "source": [
        "from matplotlib import pyplot as plt"
      ],
      "outputs": [],
      "execution_count": 17,
      "metadata": {
        "collapsed": true,
        "jupyter": {
          "source_hidden": false,
          "outputs_hidden": false
        },
        "nteract": {
          "transient": {
            "deleting": false
          }
        },
        "gather": {
          "logged": 1619091419691
        }
      }
    },
    {
      "cell_type": "code",
      "source": [
        "subsample_index = np.random.randint(low=0, high=len(train_y), size=50)"
      ],
      "outputs": [],
      "execution_count": 18,
      "metadata": {
        "collapsed": true,
        "jupyter": {
          "source_hidden": false,
          "outputs_hidden": false
        },
        "nteract": {
          "transient": {
            "deleting": false
          }
        },
        "gather": {
          "logged": 1619091422391
        }
      }
    },
    {
      "cell_type": "code",
      "source": [
        "subsample_index"
      ],
      "outputs": [
        {
          "output_type": "execute_result",
          "execution_count": 19,
          "data": {
            "text/plain": "array([51922, 32812, 26388, 60403,  3418, 60307, 77700, 58975, 23859,\n       70442, 89430,   642, 58305, 73220,  8800, 61830, 76376, 21470,\n       19224, 20896, 65968, 32209, 40796, 80143, 63550, 54886, 70601,\n        1380, 71885, 63064, 39587, 68435, 20961, 15813, 67221, 30586,\n       80108, 50111, 22439,   477, 76993, 61226, 58294, 15685,  2417,\n       43241, 48746, 57754, 91043, 35712])"
          },
          "metadata": {}
        }
      ],
      "execution_count": 19,
      "metadata": {
        "collapsed": true,
        "jupyter": {
          "source_hidden": false,
          "outputs_hidden": false
        },
        "nteract": {
          "transient": {
            "deleting": false
          }
        },
        "gather": {
          "logged": 1619091425345
        }
      }
    },
    {
      "cell_type": "code",
      "source": [
        "plt.scatter(train_X['v_9'][subsample_index], train_y[subsample_index], color='black')\r\n",
        "plt.scatter(train_X['v_9'][subsample_index], model.predict(train_X.loc[subsample_index]), color='blue')\r\n",
        "plt.xlabel('v_9')\r\n",
        "plt.ylabel('price')\r\n",
        "plt.legend(['True Price','Predicted Price'],loc='upper right')\r\n",
        "print('The predicted price is obvious different from true price')\r\n",
        "plt.show()"
      ],
      "outputs": [
        {
          "output_type": "stream",
          "name": "stdout",
          "text": [
            "The predicted price is obvious different from true price\n"
          ]
        },
        {
          "output_type": "display_data",
          "data": {
            "text/plain": "<Figure size 432x288 with 1 Axes>",
            "image/png": "[encoded data removed]"
          },
          "metadata": {
            "needs_background": "light"
          }
        }
      ],
      "execution_count": 20,
      "metadata": {
        "collapsed": true,
        "jupyter": {
          "source_hidden": false,
          "outputs_hidden": false
        },
        "nteract": {
          "transient": {
            "deleting": false
          }
        },
        "gather": {
          "logged": 1619091429195
        }
      }
    },
    {
      "cell_type": "code",
      "source": [
        "import seaborn as sns\r\n",
        "print('It is clear to see the price shows a typical exponential distribution')\r\n",
        "plt.figure(figsize=(15,5))\r\n",
        "plt.subplot(1,2,1)\r\n",
        "sns.distplot(train_y)\r\n",
        "plt.subplot(1,2,2)\r\n",
        "sns.distplot(train_y[train_y < np.quantile(train_y, 0.9)])"
      ],
      "outputs": [
        {
          "output_type": "stream",
          "name": "stdout",
          "text": [
            "It is clear to see the price shows a typical exponential distribution\n"
          ]
        },
        {
          "output_type": "execute_result",
          "execution_count": 21,
          "data": {
            "text/plain": "<matplotlib.axes._subplots.AxesSubplot at 0x7ff716284a90>"
          },
          "metadata": {}
        },
        {
          "output_type": "display_data",
          "data": {
            "text/plain": "<Figure size 1080x360 with 2 Axes>",
            "image/png": "[encoded data removed]"
          },
          "metadata": {
            "needs_background": "light"
          }
        }
      ],
      "execution_count": 21,
      "metadata": {
        "collapsed": true,
        "jupyter": {
          "source_hidden": false,
          "outputs_hidden": false
        },
        "nteract": {
          "transient": {
            "deleting": false
          }
        },
        "gather": {
          "logged": 1619091434124
        }
      }
    },
    {
      "cell_type": "code",
      "source": [
        "train_y_ln = np.log(train_y + 1)"
      ],
      "outputs": [],
      "execution_count": 22,
      "metadata": {
        "collapsed": true,
        "jupyter": {
          "source_hidden": false,
          "outputs_hidden": false
        },
        "nteract": {
          "transient": {
            "deleting": false
          }
        },
        "gather": {
          "logged": 1619091438432
        }
      }
    },
    {
      "cell_type": "code",
      "source": [
        "import seaborn as sns\r\n",
        "print('The transformed price seems like normal distribution')\r\n",
        "plt.figure(figsize=(15,5))\r\n",
        "plt.subplot(1,2,1)\r\n",
        "sns.distplot(train_y_ln)\r\n",
        "plt.subplot(1,2,2)\r\n",
        "sns.distplot(train_y_ln[train_y_ln < np.quantile(train_y_ln, 0.9)])"
      ],
      "outputs": [
        {
          "output_type": "stream",
          "name": "stdout",
          "text": [
            "The transformed price seems like normal distribution\n"
          ]
        },
        {
          "output_type": "execute_result",
          "execution_count": 23,
          "data": {
            "text/plain": "<matplotlib.axes._subplots.AxesSubplot at 0x7ff71615e470>"
          },
          "metadata": {}
        },
        {
          "output_type": "display_data",
          "data": {
            "text/plain": "<Figure size 1080x360 with 2 Axes>",
            "image/png": "[encoded data removed]"
          },
          "metadata": {
            "needs_background": "light"
          }
        }
      ],
      "execution_count": 23,
      "metadata": {
        "collapsed": true,
        "jupyter": {
          "source_hidden": false,
          "outputs_hidden": false
        },
        "nteract": {
          "transient": {
            "deleting": false
          }
        },
        "gather": {
          "logged": 1619091442654
        }
      }
    },
    {
      "cell_type": "code",
      "source": [
        "model = model.fit(train_X, train_y_ln)\r\n",
        "\r\n",
        "print('intercept:'+ str(model.intercept_))\r\n",
        "sorted(dict(zip(continuous_feature_names, model.coef_)).items(), key=lambda x:x[1], reverse=True)"
      ],
      "outputs": [
        {
          "output_type": "stream",
          "name": "stdout",
          "text": [
            "intercept:17.978210139692006\n"
          ]
        },
        {
          "output_type": "execute_result",
          "execution_count": 24,
          "data": {
            "text/plain": "[('v_9', 8.39808221525217),\n ('v_5', 6.773461979845312),\n ('v_1', 1.4347582189090962),\n ('v_12', 1.0400143656144083),\n ('v_13', 0.9538992907451006),\n ('v_11', 0.8221681353390542),\n ('v_7', 0.8050255883635682),\n ('v_3', 0.4220297606285084),\n ('v_0', 0.02034615798005009),\n ('power_bin', 0.00902544439222797),\n ('gearbox', 0.007465440397442843),\n ('fuelType', 0.006780222729121989),\n ('bodyType', 0.004546057655215402),\n ('power', 0.0006839144329483858),\n ('brand_price_min', 2.793032457556986e-05),\n ('brand_price_std', 2.5048185087837943e-06),\n ('brand_price_median', 2.4342171756623112e-06),\n ('brand_amount', 1.99888493420167e-06),\n ('brand_price_max', 1.3851484742584517e-07),\n ('SaleID', 2.0534796927641105e-08),\n ('seller', 1.4175149942730059e-10),\n ('brand_price_sum', 7.599160264161384e-11),\n ('train', 3.836930773104541e-12),\n ('offerType', -6.09565731224393e-11),\n ('name', -7.041018580462589e-08),\n ('brand_price_average', -1.124232090478459e-06),\n ('used_time', -4.024858559419073e-06),\n ('city', -0.0021811404043817614),\n ('v_14', -0.010511878523579227),\n ('kilometer', -0.013778153677538287),\n ('notRepairedDamage', -0.2705804135250529),\n ('v_2', -0.3065996087989929),\n ('v_4', -0.8647188212106866),\n ('v_10', -1.7715479580067721),\n ('v_8', -40.33749167490058),\n ('v_6', -239.91632837348368)]"
          },
          "metadata": {}
        }
      ],
      "execution_count": 24,
      "metadata": {
        "collapsed": true,
        "jupyter": {
          "source_hidden": false,
          "outputs_hidden": false
        },
        "nteract": {
          "transient": {
            "deleting": false
          }
        },
        "gather": {
          "logged": 1619091447097
        }
      }
    },
    {
      "cell_type": "code",
      "source": [
        "plt.scatter(train_X['v_9'][subsample_index], train_y[subsample_index], color='black')\r\n",
        "plt.scatter(train_X['v_9'][subsample_index], np.exp(model.predict(train_X.loc[subsample_index])), color='blue')\r\n",
        "plt.xlabel('v_9')\r\n",
        "plt.ylabel('price')\r\n",
        "plt.legend(['True Price','Predicted Price'],loc='upper right')\r\n",
        "print('The predicted price seems normal after np.log transforming')\r\n",
        "plt.show()"
      ],
      "outputs": [
        {
          "output_type": "stream",
          "name": "stdout",
          "text": [
            "The predicted price seems normal after np.log transforming\n"
          ]
        },
        {
          "output_type": "display_data",
          "data": {
            "text/plain": "<Figure size 432x288 with 1 Axes>",
            "image/png": "[encoded data removed]"
          },
          "metadata": {
            "needs_background": "light"
          }
        }
      ],
      "execution_count": 25,
      "metadata": {
        "collapsed": true,
        "jupyter": {
          "source_hidden": false,
          "outputs_hidden": false
        },
        "nteract": {
          "transient": {
            "deleting": false
          }
        },
        "gather": {
          "logged": 1619091450662
        }
      }
    },
    {
      "cell_type": "code",
      "source": [
        "from sklearn.model_selection import cross_val_score\r\n",
        "from sklearn.metrics import mean_absolute_error,  make_scorer"
      ],
      "outputs": [],
      "execution_count": 26,
      "metadata": {
        "collapsed": true,
        "jupyter": {
          "source_hidden": false,
          "outputs_hidden": false
        },
        "nteract": {
          "transient": {
            "deleting": false
          }
        },
        "gather": {
          "logged": 1619091454903
        }
      }
    },
    {
      "cell_type": "code",
      "source": [
        "def log_transfer(func):\r\n",
        "    def wrapper(y, yhat):\r\n",
        "        result = func(np.log(y), np.nan_to_num(np.log(yhat)))\r\n",
        "        return result\r\n",
        "    return wrapper"
      ],
      "outputs": [],
      "execution_count": 27,
      "metadata": {
        "collapsed": true,
        "jupyter": {
          "source_hidden": false,
          "outputs_hidden": false
        },
        "nteract": {
          "transient": {
            "deleting": false
          }
        },
        "gather": {
          "logged": 1619091458999
        }
      }
    },
    {
      "cell_type": "code",
      "source": [
        "scores = cross_val_score(model, X=train_X, y=train_y, verbose=1, cv = 5, scoring=make_scorer(log_transfer(mean_absolute_error)))"
      ],
      "outputs": [
        {
          "output_type": "stream",
          "name": "stderr",
          "text": [
            "[Parallel(n_jobs=1)]: Using backend SequentialBackend with 1 concurrent workers.\n",
            "[Parallel(n_jobs=1)]: Done   5 out of   5 | elapsed:    0.5s finished\n"
          ]
        }
      ],
      "execution_count": 28,
      "metadata": {
        "collapsed": true,
        "jupyter": {
          "source_hidden": false,
          "outputs_hidden": false
        },
        "nteract": {
          "transient": {
            "deleting": false
          }
        },
        "gather": {
          "logged": 1619091463099
        }
      }
    },
    {
      "cell_type": "code",
      "source": [
        "print('AVG:', np.mean(scores))"
      ],
      "outputs": [
        {
          "output_type": "stream",
          "name": "stdout",
          "text": [
            "AVG: 1.368495021683191\n"
          ]
        }
      ],
      "execution_count": 29,
      "metadata": {
        "collapsed": true,
        "jupyter": {
          "source_hidden": false,
          "outputs_hidden": false
        },
        "nteract": {
          "transient": {
            "deleting": false
          }
        },
        "gather": {
          "logged": 1619091467429
        }
      }
    },
    {
      "cell_type": "code",
      "source": [
        "scores = cross_val_score(model, X=train_X, y=train_y_ln, verbose=1, cv = 5, scoring=make_scorer(mean_absolute_error))"
      ],
      "outputs": [
        {
          "output_type": "stream",
          "name": "stderr",
          "text": [
            "[Parallel(n_jobs=1)]: Using backend SequentialBackend with 1 concurrent workers.\n",
            "[Parallel(n_jobs=1)]: Done   5 out of   5 | elapsed:    0.4s finished\n"
          ]
        }
      ],
      "execution_count": 30,
      "metadata": {
        "collapsed": true,
        "jupyter": {
          "source_hidden": false,
          "outputs_hidden": false
        },
        "nteract": {
          "transient": {
            "deleting": false
          }
        },
        "gather": {
          "logged": 1619091474156
        }
      }
    },
    {
      "cell_type": "code",
      "source": [
        "print('AVG:', np.mean(scores))"
      ],
      "outputs": [
        {
          "output_type": "stream",
          "name": "stdout",
          "text": [
            "AVG: 0.19331244235782008\n"
          ]
        }
      ],
      "execution_count": 31,
      "metadata": {
        "collapsed": true,
        "jupyter": {
          "source_hidden": false,
          "outputs_hidden": false
        },
        "nteract": {
          "transient": {
            "deleting": false
          }
        },
        "gather": {
          "logged": 1619091477122
        }
      }
    },
    {
      "cell_type": "code",
      "source": [
        "scores = pd.DataFrame(scores.reshape(1,-1))\r\n",
        "scores.columns = ['cv' + str(x) for x in range(1, 6)]\r\n",
        "scores.index = ['MAE']\r\n",
        "scores"
      ],
      "outputs": [
        {
          "output_type": "execute_result",
          "execution_count": 32,
          "data": {
            "text/plain": "          cv1       cv2       cv3       cv4       cv5\nMAE  0.190851  0.193835  0.194196  0.191812  0.195868",
            "text/html": "<div>\n<style scoped>\n    .dataframe tbody tr th:only-of-type {\n        vertical-align: middle;\n    }\n\n    .dataframe tbody tr th {\n        vertical-align: top;\n    }\n\n    .dataframe thead th {\n        text-align: right;\n    }\n</style>\n<table border=\"1\" class=\"dataframe\">\n  <thead>\n    <tr style=\"text-align: right;\">\n      <th></th>\n      <th>cv1</th>\n      <th>cv2</th>\n      <th>cv3</th>\n      <th>cv4</th>\n      <th>cv5</th>\n    </tr>\n  </thead>\n  <tbody>\n    <tr>\n      <th>MAE</th>\n      <td>0.190851</td>\n      <td>0.193835</td>\n      <td>0.194196</td>\n      <td>0.191812</td>\n      <td>0.195868</td>\n    </tr>\n  </tbody>\n</table>\n</div>"
          },
          "metadata": {}
        }
      ],
      "execution_count": 32,
      "metadata": {
        "collapsed": true,
        "jupyter": {
          "source_hidden": false,
          "outputs_hidden": false
        },
        "nteract": {
          "transient": {
            "deleting": false
          }
        },
        "gather": {
          "logged": 1619091479753
        }
      }
    },
    {
      "cell_type": "code",
      "source": [
        "import datetime"
      ],
      "outputs": [],
      "execution_count": 33,
      "metadata": {
        "collapsed": true,
        "jupyter": {
          "source_hidden": false,
          "outputs_hidden": false
        },
        "nteract": {
          "transient": {
            "deleting": false
          }
        },
        "gather": {
          "logged": 1619091482613
        }
      }
    },
    {
      "cell_type": "code",
      "source": [
        "sample_feature = sample_feature.reset_index(drop=True)"
      ],
      "outputs": [],
      "execution_count": 34,
      "metadata": {
        "collapsed": true,
        "jupyter": {
          "source_hidden": false,
          "outputs_hidden": false
        },
        "nteract": {
          "transient": {
            "deleting": false
          }
        },
        "gather": {
          "logged": 1619091485023
        }
      }
    },
    {
      "cell_type": "code",
      "source": [
        "split_point = len(sample_feature) // 5 * 4\r\n"
      ],
      "outputs": [],
      "execution_count": 35,
      "metadata": {
        "collapsed": true,
        "jupyter": {
          "source_hidden": false,
          "outputs_hidden": false
        },
        "nteract": {
          "transient": {
            "deleting": false
          }
        },
        "gather": {
          "logged": 1619091487419
        }
      }
    },
    {
      "cell_type": "code",
      "source": [
        "train = sample_feature.loc[:split_point].dropna()\r\n",
        "val = sample_feature.loc[split_point:].dropna()\r\n",
        "\r\n",
        "train_X = train[continuous_feature_names]\r\n",
        "train_y_ln = np.log(train['price'] + 1)\r\n",
        "val_X = val[continuous_feature_names]\r\n",
        "val_y_ln = np.log(val['price'] + 1)"
      ],
      "outputs": [],
      "execution_count": 36,
      "metadata": {
        "collapsed": true,
        "jupyter": {
          "source_hidden": false,
          "outputs_hidden": false
        },
        "nteract": {
          "transient": {
            "deleting": false
          }
        },
        "gather": {
          "logged": 1619091489872
        }
      }
    },
    {
      "cell_type": "code",
      "source": [
        "model = model.fit(train_X, train_y_ln)"
      ],
      "outputs": [],
      "execution_count": 37,
      "metadata": {
        "collapsed": true,
        "jupyter": {
          "source_hidden": false,
          "outputs_hidden": false
        },
        "nteract": {
          "transient": {
            "deleting": false
          }
        },
        "gather": {
          "logged": 1619091494860
        }
      }
    },
    {
      "cell_type": "code",
      "source": [
        "mean_absolute_error(val_y_ln, model.predict(val_X))"
      ],
      "outputs": [
        {
          "output_type": "execute_result",
          "execution_count": 38,
          "data": {
            "text/plain": "0.19588884366235554"
          },
          "metadata": {}
        }
      ],
      "execution_count": 38,
      "metadata": {
        "collapsed": true,
        "jupyter": {
          "source_hidden": false,
          "outputs_hidden": false
        },
        "nteract": {
          "transient": {
            "deleting": false
          }
        },
        "gather": {
          "logged": 1619091496957
        }
      }
    },
    {
      "cell_type": "code",
      "source": [
        "from sklearn.model_selection import learning_curve, validation_curve\r\n",
        "? learning_curve"
      ],
      "outputs": [],
      "execution_count": 39,
      "metadata": {
        "collapsed": true,
        "jupyter": {
          "source_hidden": false,
          "outputs_hidden": false
        },
        "nteract": {
          "transient": {
            "deleting": false
          }
        },
        "gather": {
          "logged": 1619091499473
        }
      }
    },
    {
      "cell_type": "code",
      "source": [
        "def plot_learning_curve(estimator, title, X, y, ylim=None, cv=None,n_jobs=1, train_size=np.linspace(.1, 1.0, 5 )):  \r\n",
        "    plt.figure()  \r\n",
        "    plt.title(title)  \r\n",
        "    if ylim is not None:  \r\n",
        "        plt.ylim(*ylim)  \r\n",
        "    plt.xlabel('Training example')  \r\n",
        "    plt.ylabel('score')  \r\n",
        "    train_sizes, train_scores, test_scores = learning_curve(estimator, X, y, cv=cv, n_jobs=n_jobs, train_sizes=train_size, scoring = make_scorer(mean_absolute_error))  \r\n",
        "    train_scores_mean = np.mean(train_scores, axis=1)  \r\n",
        "    train_scores_std = np.std(train_scores, axis=1)  \r\n",
        "    test_scores_mean = np.mean(test_scores, axis=1)  \r\n",
        "    test_scores_std = np.std(test_scores, axis=1)  \r\n",
        "    plt.grid()#区域  \r\n",
        "    plt.fill_between(train_sizes, train_scores_mean - train_scores_std,  \r\n",
        "                     train_scores_mean + train_scores_std, alpha=0.1,  \r\n",
        "                     color=\"r\")  \r\n",
        "    plt.fill_between(train_sizes, test_scores_mean - test_scores_std,  \r\n",
        "                     test_scores_mean + test_scores_std, alpha=0.1,  \r\n",
        "                     color=\"g\")  \r\n",
        "    plt.plot(train_sizes, train_scores_mean, 'o-', color='r',  \r\n",
        "             label=\"Training score\")  \r\n",
        "    plt.plot(train_sizes, test_scores_mean,'o-',color=\"g\",  \r\n",
        "             label=\"Cross-validation score\")  \r\n",
        "    plt.legend(loc=\"best\")  \r\n",
        "    return plt  "
      ],
      "outputs": [],
      "execution_count": 40,
      "metadata": {
        "collapsed": true,
        "jupyter": {
          "source_hidden": false,
          "outputs_hidden": false
        },
        "nteract": {
          "transient": {
            "deleting": false
          }
        },
        "gather": {
          "logged": 1619091501579
        }
      }
    },
    {
      "cell_type": "code",
      "source": [
        "plot_learning_curve(LinearRegression(), 'Liner_model', train_X[:1000], train_y_ln[:1000], ylim=(0.0, 0.5), cv=5, n_jobs=1)  "
      ],
      "outputs": [
        {
          "output_type": "execute_result",
          "execution_count": 41,
          "data": {
            "text/plain": "<module 'matplotlib.pyplot' from '/anaconda/envs/azureml_py36/lib/python3.6/site-packages/matplotlib/pyplot.py'>"
          },
          "metadata": {}
        },
        {
          "output_type": "display_data",
          "data": {
            "text/plain": "<Figure size 432x288 with 1 Axes>",
            "image/png": "[encoded data removed]"
          },
          "metadata": {
            "needs_background": "light"
          }
        }
      ],
      "execution_count": 41,
      "metadata": {
        "collapsed": true,
        "jupyter": {
          "source_hidden": false,
          "outputs_hidden": false
        },
        "nteract": {
          "transient": {
            "deleting": false
          }
        },
        "gather": {
          "logged": 1619091509036
        }
      }
    },
    {
      "cell_type": "code",
      "source": [
        "train = sample_feature[continuous_feature_names + ['price']].dropna()\r\n",
        "\r\n",
        "train_X = train[continuous_feature_names]\r\n",
        "train_y = train['price']\r\n",
        "train_y_ln = np.log(train_y + 1)"
      ],
      "outputs": [],
      "execution_count": 42,
      "metadata": {
        "collapsed": true,
        "jupyter": {
          "source_hidden": false,
          "outputs_hidden": false
        },
        "nteract": {
          "transient": {
            "deleting": false
          }
        },
        "gather": {
          "logged": 1619091511189
        }
      }
    },
    {
      "cell_type": "code",
      "source": [
        "from sklearn.linear_model import LinearRegression\r\n",
        "from sklearn.linear_model import Ridge\r\n",
        "from sklearn.linear_model import Lasso"
      ],
      "outputs": [],
      "execution_count": 43,
      "metadata": {
        "collapsed": true,
        "jupyter": {
          "source_hidden": false,
          "outputs_hidden": false
        },
        "nteract": {
          "transient": {
            "deleting": false
          }
        },
        "gather": {
          "logged": 1619091514185
        }
      }
    },
    {
      "cell_type": "code",
      "source": [
        "models = [LinearRegression(),\r\n",
        "          Ridge(),\r\n",
        "          Lasso()]"
      ],
      "outputs": [],
      "execution_count": 44,
      "metadata": {
        "collapsed": true,
        "jupyter": {
          "source_hidden": false,
          "outputs_hidden": false
        },
        "nteract": {
          "transient": {
            "deleting": false
          }
        },
        "gather": {
          "logged": 1619091517106
        }
      }
    },
    {
      "cell_type": "code",
      "source": [
        "result = dict()\r\n",
        "for model in models:\r\n",
        "    model_name = str(model).split('(')[0]\r\n",
        "    scores = cross_val_score(model, X=train_X, y=train_y_ln, verbose=0, cv = 5, scoring=make_scorer(mean_absolute_error))\r\n",
        "    result[model_name] = scores\r\n",
        "    print(model_name + ' is finished')"
      ],
      "outputs": [
        {
          "output_type": "stream",
          "name": "stdout",
          "text": [
            "LinearRegression is finished\n",
            "Ridge is finished\n",
            "Lasso is finished\n"
          ]
        }
      ],
      "execution_count": 45,
      "metadata": {
        "collapsed": true,
        "jupyter": {
          "source_hidden": false,
          "outputs_hidden": false
        },
        "nteract": {
          "transient": {
            "deleting": false
          }
        },
        "gather": {
          "logged": 1619091523344
        }
      }
    },
    {
      "cell_type": "code",
      "source": [
        "result = pd.DataFrame(result)\r\n",
        "result.index = ['cv' + str(x) for x in range(1, 6)]\r\n",
        "result"
      ],
      "outputs": [
        {
          "output_type": "execute_result",
          "execution_count": 46,
          "data": {
            "text/plain": "     LinearRegression     Ridge     Lasso\ncv1          0.190851  0.194948  0.383809\ncv2          0.193835  0.197714  0.382178\ncv3          0.194196  0.198252  0.383611\ncv4          0.191812  0.195694  0.380331\ncv5          0.195868  0.199817  0.383782",
            "text/html": "<div>\n<style scoped>\n    .dataframe tbody tr th:only-of-type {\n        vertical-align: middle;\n    }\n\n    .dataframe tbody tr th {\n        vertical-align: top;\n    }\n\n    .dataframe thead th {\n        text-align: right;\n    }\n</style>\n<table border=\"1\" class=\"dataframe\">\n  <thead>\n    <tr style=\"text-align: right;\">\n      <th></th>\n      <th>LinearRegression</th>\n      <th>Ridge</th>\n      <th>Lasso</th>\n    </tr>\n  </thead>\n  <tbody>\n    <tr>\n      <th>cv1</th>\n      <td>0.190851</td>\n      <td>0.194948</td>\n      <td>0.383809</td>\n    </tr>\n    <tr>\n      <th>cv2</th>\n      <td>0.193835</td>\n      <td>0.197714</td>\n      <td>0.382178</td>\n    </tr>\n    <tr>\n      <th>cv3</th>\n      <td>0.194196</td>\n      <td>0.198252</td>\n      <td>0.383611</td>\n    </tr>\n    <tr>\n      <th>cv4</th>\n      <td>0.191812</td>\n      <td>0.195694</td>\n      <td>0.380331</td>\n    </tr>\n    <tr>\n      <th>cv5</th>\n      <td>0.195868</td>\n      <td>0.199817</td>\n      <td>0.383782</td>\n    </tr>\n  </tbody>\n</table>\n</div>"
          },
          "metadata": {}
        }
      ],
      "execution_count": 46,
      "metadata": {
        "collapsed": true,
        "jupyter": {
          "source_hidden": false,
          "outputs_hidden": false
        },
        "nteract": {
          "transient": {
            "deleting": false
          }
        },
        "gather": {
          "logged": 1619091532997
        }
      }
    },
    {
      "cell_type": "code",
      "source": [
        "model = LinearRegression().fit(train_X, train_y_ln)\r\n",
        "print('intercept:'+ str(model.intercept_))\r\n",
        "sns.barplot(abs(model.coef_), continuous_feature_names)"
      ],
      "outputs": [
        {
          "output_type": "stream",
          "name": "stdout",
          "text": [
            "intercept:17.97821013969179\n"
          ]
        },
        {
          "output_type": "execute_result",
          "execution_count": 47,
          "data": {
            "text/plain": "<matplotlib.axes._subplots.AxesSubplot at 0x7ff712c3ba90>"
          },
          "metadata": {}
        },
        {
          "output_type": "display_data",
          "data": {
            "text/plain": "<Figure size 432x288 with 1 Axes>",
            "image/png": "[encoded data removed]"
          },
          "metadata": {
            "needs_background": "light"
          }
        }
      ],
      "execution_count": 47,
      "metadata": {
        "collapsed": true,
        "jupyter": {
          "source_hidden": false,
          "outputs_hidden": false
        },
        "nteract": {
          "transient": {
            "deleting": false
          }
        },
        "gather": {
          "logged": 1619091536637
        }
      }
    },
    {
      "cell_type": "code",
      "source": [
        "model = Lasso().fit(train_X, train_y_ln)\r\n",
        "print('intercept:'+ str(model.intercept_))\r\n",
        "sns.barplot(abs(model.coef_), continuous_feature_names)"
      ],
      "outputs": [
        {
          "output_type": "stream",
          "name": "stdout",
          "text": [
            "intercept:8.761375614245509\n"
          ]
        },
        {
          "output_type": "execute_result",
          "execution_count": 48,
          "data": {
            "text/plain": "<matplotlib.axes._subplots.AxesSubplot at 0x7ff712a5d748>"
          },
          "metadata": {}
        },
        {
          "output_type": "display_data",
          "data": {
            "text/plain": "<Figure size 432x288 with 1 Axes>",
            "image/png": "[encoded data removed]"
          },
          "metadata": {
            "needs_background": "light"
          }
        }
      ],
      "execution_count": 48,
      "metadata": {
        "collapsed": true,
        "jupyter": {
          "source_hidden": false,
          "outputs_hidden": false
        },
        "nteract": {
          "transient": {
            "deleting": false
          }
        },
        "gather": {
          "logged": 1619091540103
        }
      }
    },
    {
      "cell_type": "code",
      "source": [
        "from sklearn.linear_model import LinearRegression\r\n",
        "from sklearn.svm import SVC\r\n",
        "from sklearn.tree import DecisionTreeRegressor\r\n",
        "from sklearn.ensemble import RandomForestRegressor\r\n",
        "from sklearn.ensemble import GradientBoostingRegressor\r\n",
        "from sklearn.neural_network import MLPRegressor\r\n",
        "from xgboost.sklearn import XGBRegressor\r\n",
        "from lightgbm.sklearn import LGBMRegressor"
      ],
      "outputs": [],
      "execution_count": 49,
      "metadata": {
        "collapsed": true,
        "jupyter": {
          "source_hidden": false,
          "outputs_hidden": false
        },
        "nteract": {
          "transient": {
            "deleting": false
          }
        },
        "gather": {
          "logged": 1619091544758
        }
      }
    },
    {
      "cell_type": "code",
      "source": [
        "models = [LinearRegression(),\r\n",
        "          DecisionTreeRegressor(),\r\n",
        "          RandomForestRegressor(),\r\n",
        "          GradientBoostingRegressor(),\r\n",
        "          MLPRegressor(solver='lbfgs', max_iter=100), \r\n",
        "          XGBRegressor(n_estimators = 100, objective='reg:squarederror'), \r\n",
        "          LGBMRegressor(n_estimators = 100)]"
      ],
      "outputs": [],
      "execution_count": 50,
      "metadata": {
        "collapsed": true,
        "jupyter": {
          "source_hidden": false,
          "outputs_hidden": false
        },
        "nteract": {
          "transient": {
            "deleting": false
          }
        },
        "gather": {
          "logged": 1619091546990
        }
      }
    },
    {
      "cell_type": "code",
      "source": [
        "result = dict()\r\n",
        "for model in models:\r\n",
        "    model_name = str(model).split('(')[0]\r\n",
        "    scores = cross_val_score(model, X=train_X, y=train_y_ln, verbose=0, cv = 5, scoring=make_scorer(mean_absolute_error))\r\n",
        "    result[model_name] = scores\r\n",
        "    print(model_name + ' is finished')"
      ],
      "outputs": [
        {
          "output_type": "stream",
          "name": "stdout",
          "text": [
            "LinearRegression is finished\n",
            "DecisionTreeRegressor is finished\n",
            "RandomForestRegressor is finished\n",
            "GradientBoostingRegressor is finished\n",
            "MLPRegressor is finished\n",
            "XGBRegressor is finished\n",
            "LGBMRegressor is finished\n"
          ]
        }
      ],
      "execution_count": 51,
      "metadata": {
        "collapsed": true,
        "jupyter": {
          "source_hidden": false,
          "outputs_hidden": false
        },
        "nteract": {
          "transient": {
            "deleting": false
          }
        },
        "gather": {
          "logged": 1619092645633
        }
      }
    },
    {
      "cell_type": "code",
      "source": [
        "result = pd.DataFrame(result)\r\n",
        "result.index = ['cv' + str(x) for x in range(1, 6)]\r\n",
        "result"
      ],
      "outputs": [
        {
          "output_type": "execute_result",
          "execution_count": 52,
          "data": {
            "text/plain": "     LinearRegression  DecisionTreeRegressor  RandomForestRegressor  \\\ncv1          0.190851               0.198633               0.133028   \ncv2          0.193835               0.193157               0.134395   \ncv3          0.194196               0.189671               0.133586   \ncv4          0.191812               0.189852               0.132533   \ncv5          0.195868               0.205469               0.137349   \n\n     GradientBoostingRegressor  MLPRegressor  XGBRegressor  LGBMRegressor  \ncv1                   0.169333    862.751230      0.169845       0.141224  \ncv2                   0.172461    344.487597      0.171185       0.145021  \ncv3                   0.170967    323.759715      0.171709       0.143510  \ncv4                   0.168597    225.612596      0.168846       0.142374  \ncv5                   0.173282     94.571730      0.173618       0.145046  ",
            "text/html": "<div>\n<style scoped>\n    .dataframe tbody tr th:only-of-type {\n        vertical-align: middle;\n    }\n\n    .dataframe tbody tr th {\n        vertical-align: top;\n    }\n\n    .dataframe thead th {\n        text-align: right;\n    }\n</style>\n<table border=\"1\" class=\"dataframe\">\n  <thead>\n    <tr style=\"text-align: right;\">\n      <th></th>\n      <th>LinearRegression</th>\n      <th>DecisionTreeRegressor</th>\n      <th>RandomForestRegressor</th>\n      <th>GradientBoostingRegressor</th>\n      <th>MLPRegressor</th>\n      <th>XGBRegressor</th>\n      <th>LGBMRegressor</th>\n    </tr>\n  </thead>\n  <tbody>\n    <tr>\n      <th>cv1</th>\n      <td>0.190851</td>\n      <td>0.198633</td>\n      <td>0.133028</td>\n      <td>0.169333</td>\n      <td>862.751230</td>\n      <td>0.169845</td>\n      <td>0.141224</td>\n    </tr>\n    <tr>\n      <th>cv2</th>\n      <td>0.193835</td>\n      <td>0.193157</td>\n      <td>0.134395</td>\n      <td>0.172461</td>\n      <td>344.487597</td>\n      <td>0.171185</td>\n      <td>0.145021</td>\n    </tr>\n    <tr>\n      <th>cv3</th>\n      <td>0.194196</td>\n      <td>0.189671</td>\n      <td>0.133586</td>\n      <td>0.170967</td>\n      <td>323.759715</td>\n      <td>0.171709</td>\n      <td>0.143510</td>\n    </tr>\n    <tr>\n      <th>cv4</th>\n      <td>0.191812</td>\n      <td>0.189852</td>\n      <td>0.132533</td>\n      <td>0.168597</td>\n      <td>225.612596</td>\n      <td>0.168846</td>\n      <td>0.142374</td>\n    </tr>\n    <tr>\n      <th>cv5</th>\n      <td>0.195868</td>\n      <td>0.205469</td>\n      <td>0.137349</td>\n      <td>0.173282</td>\n      <td>94.571730</td>\n      <td>0.173618</td>\n      <td>0.145046</td>\n    </tr>\n  </tbody>\n</table>\n</div>"
          },
          "metadata": {}
        }
      ],
      "execution_count": 52,
      "metadata": {
        "collapsed": true,
        "jupyter": {
          "source_hidden": false,
          "outputs_hidden": false
        },
        "nteract": {
          "transient": {
            "deleting": false
          }
        },
        "gather": {
          "logged": 1619092723048
        }
      }
    },
    {
      "cell_type": "code",
      "source": [
        "objective = ['regression', 'regression_l1', 'mape', 'huber', 'fair']\r\n",
        "\r\n",
        "num_leaves = [3,5,10,15,20,40, 55]\r\n",
        "max_depth = [3,5,10,15,20,40, 55]\r\n",
        "bagging_fraction = []\r\n",
        "feature_fraction = []\r\n",
        "drop_rate = []\r\n"
      ],
      "outputs": [],
      "execution_count": 53,
      "metadata": {
        "collapsed": true,
        "jupyter": {
          "source_hidden": false,
          "outputs_hidden": false
        },
        "nteract": {
          "transient": {
            "deleting": false
          }
        },
        "gather": {
          "logged": 1619092728382
        }
      }
    },
    {
      "cell_type": "code",
      "source": [
        "best_obj = dict()\r\n",
        "for obj in objective:\r\n",
        "    model = LGBMRegressor(objective=obj)\r\n",
        "    score = np.mean(cross_val_score(model, X=train_X, y=train_y_ln, verbose=0, cv = 5, scoring=make_scorer(mean_absolute_error)))\r\n",
        "    best_obj[obj] = score\r\n",
        "    \r\n",
        "best_leaves = dict()\r\n",
        "for leaves in num_leaves:\r\n",
        "    model = LGBMRegressor(objective=min(best_obj.items(), key=lambda x:x[1])[0], num_leaves=leaves)\r\n",
        "    score = np.mean(cross_val_score(model, X=train_X, y=train_y_ln, verbose=0, cv = 5, scoring=make_scorer(mean_absolute_error)))\r\n",
        "    best_leaves[leaves] = score\r\n",
        "    \r\n",
        "best_depth = dict()\r\n",
        "for depth in max_depth:\r\n",
        "    model = LGBMRegressor(objective=min(best_obj.items(), key=lambda x:x[1])[0],\r\n",
        "                          num_leaves=min(best_leaves.items(), key=lambda x:x[1])[0],\r\n",
        "                          max_depth=depth)\r\n",
        "    score = np.mean(cross_val_score(model, X=train_X, y=train_y_ln, verbose=0, cv = 5, scoring=make_scorer(mean_absolute_error)))\r\n",
        "    best_depth[depth] = score"
      ],
      "outputs": [],
      "execution_count": 54,
      "metadata": {
        "collapsed": true,
        "jupyter": {
          "source_hidden": false,
          "outputs_hidden": false
        },
        "nteract": {
          "transient": {
            "deleting": false
          }
        },
        "gather": {
          "logged": 1619092972268
        }
      }
    },
    {
      "cell_type": "code",
      "source": [
        "sns.lineplot(x=['0_initial','1_turning_obj','2_turning_leaves','3_turning_depth'], y=[0.143 ,min(best_obj.values()), min(best_leaves.values()), min(best_depth.values())])"
      ],
      "outputs": [
        {
          "output_type": "execute_result",
          "execution_count": 55,
          "data": {
            "text/plain": "<matplotlib.axes._subplots.AxesSubplot at 0x7ff74c9a7e80>"
          },
          "metadata": {}
        },
        {
          "output_type": "display_data",
          "data": {
            "text/plain": "<Figure size 432x288 with 1 Axes>",
            "image/png": "[encoded data removed]"
          },
          "metadata": {
            "needs_background": "light"
          }
        }
      ],
      "execution_count": 55,
      "metadata": {
        "collapsed": true,
        "jupyter": {
          "source_hidden": false,
          "outputs_hidden": false
        },
        "nteract": {
          "transient": {
            "deleting": false
          }
        },
        "gather": {
          "logged": 1619093059671
        }
      }
    },
    {
      "cell_type": "code",
      "source": [
        "from sklearn.model_selection import GridSearchCV"
      ],
      "outputs": [],
      "execution_count": 56,
      "metadata": {
        "collapsed": true,
        "jupyter": {
          "source_hidden": false,
          "outputs_hidden": false
        },
        "nteract": {
          "transient": {
            "deleting": false
          }
        },
        "gather": {
          "logged": 1619093065753
        }
      }
    },
    {
      "cell_type": "code",
      "source": [
        "parameters = {'objective': objective , 'num_leaves': num_leaves, 'max_depth': max_depth}\r\n",
        "model = LGBMRegressor()\r\n",
        "clf = GridSearchCV(model, parameters, cv=5)\r\n",
        "clf = clf.fit(train_X, train_y)"
      ],
      "outputs": [],
      "execution_count": null,
      "metadata": {
        "collapsed": true,
        "jupyter": {
          "source_hidden": false,
          "outputs_hidden": false
        },
        "nteract": {
          "transient": {
            "deleting": false
          }
        }
      }
    },
    {
      "cell_type": "code",
      "source": [
        "clf.best_params_"
      ],
      "outputs": [],
      "execution_count": null,
      "metadata": {
        "collapsed": true,
        "jupyter": {
          "source_hidden": false,
          "outputs_hidden": false
        },
        "nteract": {
          "transient": {
            "deleting": false
          }
        }
      }
    },
    {
      "cell_type": "code",
      "source": [
        "model = LGBMRegressor(objective='regression',\r\n",
        "                          num_leaves=55,\r\n",
        "                          max_depth=15)"
      ],
      "outputs": [],
      "execution_count": null,
      "metadata": {
        "collapsed": true,
        "jupyter": {
          "source_hidden": false,
          "outputs_hidden": false
        },
        "nteract": {
          "transient": {
            "deleting": false
          }
        }
      }
    },
    {
      "cell_type": "code",
      "source": [
        "np.mean(cross_val_score(model, X=train_X, y=train_y_ln, verbose=0, cv = 5, scoring=make_scorer(mean_absolute_error)))"
      ],
      "outputs": [],
      "execution_count": null,
      "metadata": {
        "collapsed": true,
        "jupyter": {
          "source_hidden": false,
          "outputs_hidden": false
        },
        "nteract": {
          "transient": {
            "deleting": false
          }
        }
      }
    },
    {
      "cell_type": "code",
      "source": [
        "from bayes_opt import BayesianOptimization"
      ],
      "outputs": [],
      "execution_count": null,
      "metadata": {
        "collapsed": true,
        "jupyter": {
          "source_hidden": false,
          "outputs_hidden": false
        },
        "nteract": {
          "transient": {
            "deleting": false
          }
        }
      }
    },
    {
      "cell_type": "code",
      "source": [
        "def rf_cv(num_leaves, max_depth, subsample, min_child_samples):\r\n",
        "    val = cross_val_score(\r\n",
        "        LGBMRegressor(objective = 'regression_l1',\r\n",
        "            num_leaves=int(num_leaves),\r\n",
        "            max_depth=int(max_depth),\r\n",
        "            subsample = subsample,\r\n",
        "            min_child_samples = int(min_child_samples)\r\n",
        "        ),\r\n",
        "        X=train_X, y=train_y_ln, verbose=0, cv = 5, scoring=make_scorer(mean_absolute_error)\r\n",
        "    ).mean()\r\n",
        "    return 1 - val"
      ],
      "outputs": [],
      "execution_count": null,
      "metadata": {
        "collapsed": true,
        "jupyter": {
          "source_hidden": false,
          "outputs_hidden": false
        },
        "nteract": {
          "transient": {
            "deleting": false
          }
        }
      }
    },
    {
      "cell_type": "code",
      "source": [
        "rf_bo = BayesianOptimization(\r\n",
        "    rf_cv,\r\n",
        "    {\r\n",
        "    'num_leaves': (2, 100),\r\n",
        "    'max_depth': (2, 100),\r\n",
        "    'subsample': (0.1, 1),\r\n",
        "    'min_child_samples' : (2, 100)\r\n",
        "    }\r\n",
        ")"
      ],
      "outputs": [],
      "execution_count": null,
      "metadata": {
        "collapsed": true,
        "jupyter": {
          "source_hidden": false,
          "outputs_hidden": false
        },
        "nteract": {
          "transient": {
            "deleting": false
          }
        }
      }
    },
    {
      "cell_type": "code",
      "source": [
        "rf_bo.maximize()"
      ],
      "outputs": [],
      "execution_count": null,
      "metadata": {
        "collapsed": true,
        "jupyter": {
          "source_hidden": false,
          "outputs_hidden": false
        },
        "nteract": {
          "transient": {
            "deleting": false
          }
        }
      }
    },
    {
      "cell_type": "code",
      "source": [
        "1 - rf_bo.max['target']"
      ],
      "outputs": [],
      "execution_count": null,
      "metadata": {
        "collapsed": true,
        "jupyter": {
          "source_hidden": false,
          "outputs_hidden": false
        },
        "nteract": {
          "transient": {
            "deleting": false
          }
        }
      }
    },
    {
      "cell_type": "code",
      "source": [
        "plt.figure(figsize=(13,5))\r\n",
        "sns.lineplot(x=['0_origin','1_log_transfer','2_L1_&_L2','3_change_model','4_parameter_turning'], y=[1.36 ,0.19, 0.19, 0.14, 0.13])"
      ],
      "outputs": [],
      "execution_count": null,
      "metadata": {
        "collapsed": true,
        "jupyter": {
          "source_hidden": false,
          "outputs_hidden": false
        },
        "nteract": {
          "transient": {
            "deleting": false
          }
        }
      }
    }
  ],
  "metadata": {
    "kernelspec": {
      "name": "python3-azureml",
      "language": "python",
      "display_name": "Python 3.6 - AzureML"
    },
    "language_info": {
      "name": "python",
      "version": "3.6.9",
      "mimetype": "text/x-python",
      "codemirror_mode": {
        "name": "ipython",
        "version": 3
      },
      "pygments_lexer": "ipython3",
      "nbconvert_exporter": "python",
      "file_extension": ".py"
    },
    "kernel_info": {
      "name": "python3-azureml"
    },
    "nteract": {
      "version": "nteract-front-end@1.0.0"
    }
  },
  "nbformat": 4,
  "nbformat_minor": 2
}