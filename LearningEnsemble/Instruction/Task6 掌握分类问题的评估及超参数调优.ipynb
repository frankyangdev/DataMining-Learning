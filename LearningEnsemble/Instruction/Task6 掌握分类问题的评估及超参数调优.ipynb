{
 "cells": [
  {
   "cell_type": "markdown",
   "metadata": {},
   "source": [
    "**写在前面**：本节内容是 [Datawhale三月的组队学习 - 集成学习（上）- CH2-机器学习基础模型回顾 -【Task6 掌握分类问题的评估及超参数调优】](https://github.com/datawhalechina/team-learning-data-mining/blob/master/EnsembleLearning/CH2-%E6%9C%BA%E5%99%A8%E5%AD%A6%E4%B9%A0%E5%9F%BA%E7%A1%80%E6%A8%A1%E5%9E%8B%E5%9B%9E%E9%A1%BE/%E7%AC%AC%E4%BA%8C%E7%AB%A0%EF%BC%9A%E6%9C%BA%E5%99%A8%E5%AD%A6%E4%B9%A0%E5%9F%BA%E7%A1%80.ipynb) 的学习笔记，对应notebook的2.2（4）节，学习周期2天"
   ]
  },
  {
   "cell_type": "markdown",
   "metadata": {},
   "source": [
    "## 导入库和数据"
   ]
  },
  {
   "cell_type": "code",
   "execution_count": 32,
   "metadata": {
    "ExecuteTime": {
     "end_time": "2021-03-29T13:48:03.567590Z",
     "start_time": "2021-03-29T13:48:03.563564Z"
    }
   },
   "outputs": [],
   "source": [
    "import pandas as pd\n",
    "import numpy as np\n",
    "import matplotlib.pyplot as plt\n",
    "from sklearn import datasets\n",
    "from sklearn.model_selection  import train_test_split\n",
    "from sklearn.metrics import mean_squared_error as MSE\n",
    "from sklearn.preprocessing import StandardScaler # 标准化\n",
    "from sklearn.pipeline import Pipeline\n",
    "from sklearn.model_selection import GridSearchCV, RandomizedSearchCV\n",
    "from scipy.stats import uniform  # 引入均匀分布设置参数\n",
    "from sklearn.decomposition import PCA\n",
    "from sklearn.svm import SVC"
   ]
  },
  {
   "cell_type": "markdown",
   "metadata": {},
   "source": [
    "### 练习"
   ]
  },
  {
   "cell_type": "code",
   "execution_count": 5,
   "metadata": {
    "ExecuteTime": {
     "end_time": "2021-03-29T13:39:04.940376Z",
     "start_time": "2021-03-29T13:38:58.111548Z"
    }
   },
   "outputs": [],
   "source": [
    "# 读入数据\n",
    "lfw_dataset = datasets.fetch_lfw_people(min_faces_per_person=70)\n",
    "lfw_data = lfw_dataset['data']\n",
    "lfw_image = lfw_dataset['images']\n",
    "lfw_target = lfw_dataset['target']\n",
    "lfw_targetName = lfw_dataset['target_names']"
   ]
  },
  {
   "cell_type": "code",
   "execution_count": 6,
   "metadata": {
    "ExecuteTime": {
     "end_time": "2021-03-29T13:39:07.438734Z",
     "start_time": "2021-03-29T13:39:07.430784Z"
    }
   },
   "outputs": [
    {
     "data": {
      "text/plain": [
       "(1288, 2914)"
      ]
     },
     "execution_count": 6,
     "metadata": {},
     "output_type": "execute_result"
    }
   ],
   "source": [
    "lfw_data.shape\n",
    "# 维度太大了，先做降维再建模"
   ]
  },
  {
   "cell_type": "code",
   "execution_count": 19,
   "metadata": {
    "ExecuteTime": {
     "end_time": "2021-03-29T13:42:11.372903Z",
     "start_time": "2021-03-29T13:42:11.364924Z"
    }
   },
   "outputs": [],
   "source": [
    "# 划分训练集和测试集\n",
    "X_train, X_test, y_train, y_test = train_test_split(lfw_data, lfw_target, test_size=0.25, random_state=328)"
   ]
  },
  {
   "cell_type": "code",
   "execution_count": 23,
   "metadata": {
    "ExecuteTime": {
     "end_time": "2021-03-29T13:42:45.372173Z",
     "start_time": "2021-03-29T13:42:44.979813Z"
    }
   },
   "outputs": [],
   "source": [
    "# 降维\n",
    "pca = PCA(n_components=150, random_state=328).fit(X_train)\n",
    "X_train_pca = pca.transform(X_train)\n",
    "X_test_pca = pca.transform(X_test)"
   ]
  },
  {
   "cell_type": "code",
   "execution_count": 37,
   "metadata": {
    "ExecuteTime": {
     "end_time": "2021-03-29T13:54:42.983839Z",
     "start_time": "2021-03-29T13:53:16.308705Z"
    }
   },
   "outputs": [
    {
     "name": "stdout",
     "output_type": "stream",
     "text": [
      "0.8187929553264605\n",
      "{'svc__C': 10.0, 'svc__gamma': 0.001, 'svc__kernel': 'rbf'}\n",
      "MSE: 1.0372670807453417\n"
     ]
    }
   ],
   "source": [
    "# 训练并网格搜索调参\n",
    "pipe_svc = Pipeline([(\"StandardScaler\",StandardScaler()), (\"svc\",SVC(random_state=328))])\n",
    "param_range = [0.0001,0.001,0.01,0.1,1.0,10.0,100.0,1000.0]\n",
    "param_grid = [{'svc__C':param_range,'svc__kernel':['linear']},\n",
    "              {'svc__C':param_range,'svc__gamma':param_range,'svc__kernel':['rbf']}]\n",
    "gs = GridSearchCV(pipe_svc, \n",
    "                  param_grid,\n",
    "                  scoring='accuracy', \n",
    "                  cv=10)\n",
    "gs = gs.fit(X_train_pca, y_train)\n",
    "print(gs.best_score_)\n",
    "print(gs.best_params_)\n",
    "# 预测与评分\n",
    "y_pred = gs.predict(X_test_pca)\n",
    "print('MSE:', MSE(y_test, y_pred))"
   ]
  },
  {
   "cell_type": "code",
   "execution_count": 39,
   "metadata": {
    "ExecuteTime": {
     "end_time": "2021-03-29T13:56:30.529085Z",
     "start_time": "2021-03-29T13:56:20.128898Z"
    }
   },
   "outputs": [
    {
     "name": "stdout",
     "output_type": "stream",
     "text": [
      "0.7732817869415807\n",
      "{'svc__C': 71.62932046579327, 'svc__kernel': 'linear'}\n",
      "MSE: 1.186335403726708\n"
     ]
    }
   ],
   "source": [
    "# 训练并随机搜索调参\n",
    "pipe_svc = Pipeline([(\"StandardScaler\",StandardScaler()), (\"svc\",SVC(random_state=328))])\n",
    "param_range = uniform(loc=0, scale=100)\n",
    "param_grid = [{'svc__C':param_range,'svc__kernel':['linear']},\n",
    "              {'svc__C':param_range,'svc__gamma':param_range,'svc__kernel':['rbf']}]\n",
    "rs = RandomizedSearchCV(pipe_svc, \n",
    "                        param_grid,\n",
    "                        cv=10)\n",
    "rs = rs.fit(X_train_pca, y_train)\n",
    "print(rs.best_score_)\n",
    "print(rs.best_params_)\n",
    "# 预测与评分\n",
    "y_pred = rs.predict(X_test_pca)\n",
    "print('MSE:', MSE(y_test, y_pred))"
   ]
  },
  {
   "cell_type": "code",
   "execution_count": null,
   "metadata": {},
   "outputs": [],
   "source": []
  }
 ],
 "metadata": {
  "kernelspec": {
   "display_name": "Python 3",
   "language": "python",
   "name": "python3"
  },
  "language_info": {
   "codemirror_mode": {
    "name": "ipython",
    "version": 3
   },
   "file_extension": ".py",
   "mimetype": "text/x-python",
   "name": "python",
   "nbconvert_exporter": "python",
   "pygments_lexer": "ipython3",
   "version": "3.7.0"
  },
  "nbTranslate": {
   "displayLangs": [
    "*"
   ],
   "hotkey": "alt-t",
   "langInMainMenu": true,
   "sourceLang": "en",
   "targetLang": "fr",
   "useGoogleTranslate": true
  },
  "toc": {
   "base_numbering": 1,
   "nav_menu": {},
   "number_sections": true,
   "sideBar": true,
   "skip_h1_title": false,
   "title_cell": "Table of Contents",
   "title_sidebar": "Contents",
   "toc_cell": false,
   "toc_position": {},
   "toc_section_display": true,
   "toc_window_display": false
  },
  "varInspector": {
   "cols": {
    "lenName": 16,
    "lenType": 16,
    "lenVar": 40
   },
   "kernels_config": {
    "python": {
     "delete_cmd_postfix": "",
     "delete_cmd_prefix": "del ",
     "library": "var_list.py",
     "varRefreshCmd": "print(var_dic_list())"
    },
    "r": {
     "delete_cmd_postfix": ") ",
     "delete_cmd_prefix": "rm(",
     "library": "var_list.r",
     "varRefreshCmd": "cat(var_dic_list()) "
    }
   },
   "types_to_exclude": [
    "module",
    "function",
    "builtin_function_or_method",
    "instance",
    "_Feature"
   ],
   "window_display": false
  }
 },
 "nbformat": 4,
 "nbformat_minor": 2
}
