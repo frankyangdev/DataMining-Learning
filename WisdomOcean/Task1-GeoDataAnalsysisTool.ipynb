{
  "cells": [
    {
      "cell_type": "markdown",
      "source": [
        "# Datawhale 智慧海洋建设-Task1 地理数据分析常用工具"
      ],
      "metadata": {}
    },
    {
      "cell_type": "markdown",
      "source": [
        "在地理空间数据分析中，常会用到许多地理分析的工具，在本模块中主要是针对常用的shapely、geopandas、folium、kepler.gl、geohash等工具进行简单介绍。其中shapely和geopandas是做地理空间数据的分析很好的工具，而folium和kepler.gl是进行地理数据可视化的工具，geohash是将经纬度坐标进行数据编码的方式。通过了解不同的方法将有助于我们去思考如何在现有的工具下去做数据的分析和特征的提取功能"
      ],
      "metadata": {}
    },
    {
      "cell_type": "markdown",
      "source": [
        "## 学习目标"
      ],
      "metadata": {
        "hide_input": false
      }
    },
    {
      "cell_type": "markdown",
      "source": [
        "1.了解和学习shapely和geopandas的基本功能，掌握用python中的这两个库实现几何对象之间的空间操作方法。  \n",
        "2.掌握folium和kepler.gl的数据可视化工具的使用。  \n",
        "3.学习与掌握geohash编码方法。"
      ],
      "metadata": {}
    },
    {
      "cell_type": "markdown",
      "source": [
        "## 内容介绍"
      ],
      "metadata": {}
    },
    {
      "cell_type": "markdown",
      "source": [
        "1. shapely\n",
        "    - 空间数据模型\n",
        "    - 几何对象的一些功能特性\n",
        "    - Point\n",
        "    - LineStrings\n",
        "    - LineRings\n",
        "    - Polygon\n",
        "    - 几何对象之间的关系\n",
        "2. geopandas\n",
        "3. Folium\n",
        "4. Kepler.gl\n",
        "5. GeoHash\n",
        " - 注意事项\n"
      ],
      "metadata": {}
    },
    {
      "cell_type": "markdown",
      "source": [
        "## [shapely](https://shapely.readthedocs.io/en/stable/project.html)"
      ],
      "metadata": {}
    },
    {
      "cell_type": "markdown",
      "source": [
        "[参考资料](https://mp.weixin.qq.com/s/DvTxxRGpA2JF9OdGdsYphw)  \n",
        "[官方资料](https://shapely.readthedocs.io/en/stable/project.html)"
      ],
      "metadata": {}
    },
    {
      "cell_type": "markdown",
      "source": [
        "Shapely是python中开源的空间几何对象库，支持Point、Curve和Surface等基本几何对象类型以及相关空间操作。另外，几何对象类型的特征分别有interior、boundary和exterior。"
      ],
      "metadata": {}
    },
    {
      "cell_type": "markdown",
      "source": [
        "#### 空间数据模型  \n",
        "1.point类型对应的方法在Point类中。curve类型对应的方法在LineString和LinearRing类中。surface类型对应的方法在Polygon类中。\n",
        "2.point集合对应的方法在MultiPoint类中，curves集合对应的反方在MultiLineString类中，surface集合对应的方法在MultiPolygon类中。\n",
        "\n",
        "#### 几何对象的一些功能特性\n",
        "Point、LineString和LinearRing有一些功能非常有用。\n",
        "- 几何对象可以和numpy.array互相转换。\n",
        "\n",
        "- 可以求线的长度(length)，面的面积（area)，对象之间的距离(distance),最小最大距离(hausdorff_distance),对象的bounds数组(minx, miny, maxx, maxy)\n",
        "\n",
        "- 可以求几何对象之间的关系：相交(intersect)，包含(contain)，求相交区域(intersection)等。\n",
        "\n",
        "- 可以对几何对象求几何中心(centroid),缓冲区(buffer),最小旋转外接矩形(minimum_rotated_rectangle)等。\n",
        "\n",
        "- 可以求线的插值点(interpolate),可以求点投影到线的距离(project),可以求几何对象之间对应的最近点(nearestPoint)\n",
        "\n",
        "- 可以对几何对象进行旋转(rotate)和缩放(scale)"
      ],
      "metadata": {}
    },
    {
      "cell_type": "code",
      "source": [
        "!pip3 install shapely"
      ],
      "outputs": [
        {
          "output_type": "stream",
          "name": "stdout",
          "text": [
            "Requirement already satisfied: shapely in /anaconda/envs/azureml_py36/lib/python3.6/site-packages (1.7.1)\r\n"
          ]
        }
      ],
      "execution_count": 1,
      "metadata": {
        "collapsed": true,
        "jupyter": {
          "outputs_hidden": false,
          "source_hidden": false
        },
        "nteract": {
          "transient": {
            "deleting": false
          }
        }
      }
    },
    {
      "cell_type": "code",
      "source": [
        "!pip3 install geopandas"
      ],
      "outputs": [
        {
          "output_type": "stream",
          "name": "stdout",
          "text": [
            "Requirement already satisfied: geopandas in /anaconda/envs/azureml_py36/lib/python3.6/site-packages (0.9.0)\n",
            "Requirement already satisfied: pyproj>=2.2.0 in /anaconda/envs/azureml_py36/lib/python3.6/site-packages (from geopandas) (3.0.1)\n",
            "Requirement already satisfied: fiona>=1.8 in /anaconda/envs/azureml_py36/lib/python3.6/site-packages (from geopandas) (1.8.19)\n",
            "Requirement already satisfied: pandas>=0.24.0 in /anaconda/envs/azureml_py36/lib/python3.6/site-packages (from geopandas) (0.25.3)\n",
            "Requirement already satisfied: shapely>=1.6 in /anaconda/envs/azureml_py36/lib/python3.6/site-packages (from geopandas) (1.7.1)\n",
            "Requirement already satisfied: certifi in /anaconda/envs/azureml_py36/lib/python3.6/site-packages (from pyproj>=2.2.0->geopandas) (2020.12.5)\n",
            "Requirement already satisfied: six>=1.7 in /anaconda/envs/azureml_py36/lib/python3.6/site-packages (from fiona>=1.8->geopandas) (1.15.0)\n",
            "Requirement already satisfied: attrs>=17 in /anaconda/envs/azureml_py36/lib/python3.6/site-packages (from fiona>=1.8->geopandas) (20.3.0)\n",
            "Requirement already satisfied: click<8,>=4.0 in /anaconda/envs/azureml_py36/lib/python3.6/site-packages (from fiona>=1.8->geopandas) (7.1.2)\n",
            "Requirement already satisfied: munch in /anaconda/envs/azureml_py36/lib/python3.6/site-packages (from fiona>=1.8->geopandas) (2.5.0)\n",
            "Requirement already satisfied: click-plugins>=1.0 in /anaconda/envs/azureml_py36/lib/python3.6/site-packages (from fiona>=1.8->geopandas) (1.1.1)\n",
            "Requirement already satisfied: cligj>=0.5 in /anaconda/envs/azureml_py36/lib/python3.6/site-packages (from fiona>=1.8->geopandas) (0.7.1)\n",
            "Requirement already satisfied: python-dateutil>=2.6.1 in /anaconda/envs/azureml_py36/lib/python3.6/site-packages (from pandas>=0.24.0->geopandas) (2.8.1)\n",
            "Requirement already satisfied: numpy>=1.13.3 in /anaconda/envs/azureml_py36/lib/python3.6/site-packages (from pandas>=0.24.0->geopandas) (1.18.5)\n",
            "Requirement already satisfied: pytz>=2017.2 in /anaconda/envs/azureml_py36/lib/python3.6/site-packages (from pandas>=0.24.0->geopandas) (2021.1)\n"
          ]
        }
      ],
      "execution_count": 2,
      "metadata": {
        "collapsed": true,
        "jupyter": {
          "outputs_hidden": false,
          "source_hidden": false
        },
        "nteract": {
          "transient": {
            "deleting": false
          }
        }
      }
    },
    {
      "cell_type": "code",
      "source": [
        "from shapely import geometry as geo\n",
        "from shapely import wkt \n",
        "from shapely import ops\n",
        "import numpy as np "
      ],
      "outputs": [],
      "execution_count": 1,
      "metadata": {
        "gather": {
          "logged": 1618316318224
        }
      }
    },
    {
      "cell_type": "markdown",
      "source": [
        "#### Point \n",
        "class Point(coordinates)"
      ],
      "metadata": {}
    },
    {
      "cell_type": "code",
      "source": [
        "# point有三种赋值方式，具体如下\n",
        "point = geo.Point(0.5,0.5)  \n",
        "point_2 = geo.Point((0,0))  \n",
        "point_3 = geo.Point(point)\n",
        "# 其坐标可以通过coords或x，y，z得到\n",
        "print(list(point_3.coords))\n",
        "print(point_3.x)\n",
        "print(point_3.y)\n",
        "#批量进行可视化\n",
        "geo.GeometryCollection([point,point_2])\n",
        "print(np.array(point))#可以和np.array进行互相转换"
      ],
      "outputs": [
        {
          "output_type": "stream",
          "name": "stdout",
          "text": [
            "[(0.5, 0.5)]\n",
            "0.5\n",
            "0.5\n",
            "[0.5 0.5]\n"
          ]
        }
      ],
      "execution_count": 4,
      "metadata": {
        "gather": {
          "logged": 1618316325287
        }
      }
    },
    {
      "cell_type": "markdown",
      "source": [
        "#### LineStrings  \n",
        "class LineString(coordinates)  \n",
        "LineStrings构造函数传入参数是2个或多个点元组"
      ],
      "metadata": {}
    },
    {
      "cell_type": "code",
      "source": [
        "#代码示例\n",
        "arr=np.array([(0,0), (1,1), (1,0)])\n",
        "line = geo.LineString(arr) #等同于 line = geo.LineString([(0,0), (1,1), (1,0)]) \n",
        "\n",
        "print ('两个几何对象之间的距离:'+str(geo.Point(2,2).distance(line)))#该方法即可求线线距离也可以求线点距离\n",
        "print ('两个几何对象之间的hausdorff_distance距离:'+str(geo.Point(2,2).hausdorff_distance(line)))#该方法求得是点与线的最长距离\n",
        "print('该几何对象的面积:'+str(line.area))\n",
        "print('该几何对象的坐标范围:'+str(line.bounds))\n",
        "print('该几何对象的长度:'+str(line.length))\n",
        "print('该几何对象的几何类型:'+str(line.geom_type))  \n",
        "print('该几何对象的坐标系:'+str(list(line.coords)))\n",
        "center = line.centroid #几何中心\n",
        "geo.GeometryCollection([line,center])"
      ],
      "outputs": [
        {
          "output_type": "stream",
          "name": "stdout",
          "text": [
            "两个几何对象之间的距离:1.4142135623730951\n",
            "两个几何对象之间的hausdorff_distance距离:2.8284271247461903\n",
            "该几何对象的面积:0.0\n",
            "该几何对象的坐标范围:(0.0, 0.0, 1.0, 1.0)\n",
            "该几何对象的长度:2.414213562373095\n",
            "该几何对象的几何类型:LineString\n",
            "该几何对象的坐标系:[(0.0, 0.0), (1.0, 1.0), (1.0, 0.0)]\n"
          ]
        },
        {
          "output_type": "execute_result",
          "execution_count": 5,
          "data": {
            "image/svg+xml": "<svg xmlns=\"http://www.w3.org/2000/svg\" xmlns:xlink=\"http://www.w3.org/1999/xlink\" width=\"100.0\" height=\"100.0\" viewBox=\"-0.04 -0.04 1.08 1.08\" preserveAspectRatio=\"xMinYMin meet\"><g transform=\"matrix(1,0,0,-1,0,1.0)\"><g><polyline fill=\"none\" stroke=\"#66cc99\" stroke-width=\"0.0216\" points=\"0.0,0.0 1.0,1.0 1.0,0.0\" opacity=\"0.8\" /><circle cx=\"0.7071067811865476\" cy=\"0.5\" r=\"0.0324\" stroke=\"#555555\" stroke-width=\"0.0108\" fill=\"#66cc99\" opacity=\"0.6\" /></g></g></svg>",
            "text/plain": "<shapely.geometry.collection.GeometryCollection at 0x7f4291afbf98>"
          },
          "metadata": {}
        }
      ],
      "execution_count": 5,
      "metadata": {
        "gather": {
          "logged": 1618316329761
        }
      }
    },
    {
      "cell_type": "code",
      "source": [
        "bbox = line.envelope #envelope可以求几何对象的最小外接矩形\n",
        "geo.GeometryCollection([line,bbox]) "
      ],
      "outputs": [
        {
          "output_type": "execute_result",
          "execution_count": 6,
          "data": {
            "image/svg+xml": "<svg xmlns=\"http://www.w3.org/2000/svg\" xmlns:xlink=\"http://www.w3.org/1999/xlink\" width=\"100.0\" height=\"100.0\" viewBox=\"-0.04 -0.04 1.08 1.08\" preserveAspectRatio=\"xMinYMin meet\"><g transform=\"matrix(1,0,0,-1,0,1.0)\"><g><polyline fill=\"none\" stroke=\"#66cc99\" stroke-width=\"0.0216\" points=\"0.0,0.0 1.0,1.0 1.0,0.0\" opacity=\"0.8\" /><path fill-rule=\"evenodd\" fill=\"#66cc99\" stroke=\"#555555\" stroke-width=\"0.0216\" opacity=\"0.6\" d=\"M 0.0,0.0 L 1.0,0.0 L 1.0,1.0 L 0.0,1.0 L 0.0,0.0 z\" /></g></g></svg>",
            "text/plain": "<shapely.geometry.collection.GeometryCollection at 0x7f4291b6ffd0>"
          },
          "metadata": {}
        }
      ],
      "execution_count": 6,
      "metadata": {
        "gather": {
          "logged": 1618316335774
        }
      }
    },
    {
      "cell_type": "code",
      "source": [
        "rect = line.minimum_rotated_rectangle #最小旋转外接矩形\n",
        "geo.GeometryCollection([line,rect])"
      ],
      "outputs": [
        {
          "output_type": "execute_result",
          "execution_count": 7,
          "data": {
            "image/svg+xml": "<svg xmlns=\"http://www.w3.org/2000/svg\" xmlns:xlink=\"http://www.w3.org/1999/xlink\" width=\"100.0\" height=\"100.0\" viewBox=\"-0.06 -0.5599999999999998 1.6199999999999997 1.6199999999999999\" preserveAspectRatio=\"xMinYMin meet\"><g transform=\"matrix(1,0,0,-1,0,0.5000000000000002)\"><g><polyline fill=\"none\" stroke=\"#66cc99\" stroke-width=\"0.0324\" points=\"0.0,0.0 1.0,1.0 1.0,0.0\" opacity=\"0.8\" /><path fill-rule=\"evenodd\" fill=\"#66cc99\" stroke=\"#555555\" stroke-width=\"0.0324\" opacity=\"0.6\" d=\"M 0.4999999999999999,-0.4999999999999999 L 1.4999999999999996,0.4999999999999999 L 0.9999999999999998,0.9999999999999998 L 0.0,0.0 L 0.4999999999999999,-0.4999999999999999 z\" /></g></g></svg>",
            "text/plain": "<shapely.geometry.collection.GeometryCollection at 0x7f4291b6fc88>"
          },
          "metadata": {}
        }
      ],
      "execution_count": 7,
      "metadata": {
        "gather": {
          "logged": 1618316338795
        }
      }
    },
    {
      "cell_type": "code",
      "source": [
        "pt_half = line.interpolate(0.5,normalized=True) #插值\n",
        "geo.GeometryCollection([line,pt_half])"
      ],
      "outputs": [
        {
          "output_type": "execute_result",
          "execution_count": 8,
          "data": {
            "image/svg+xml": "<svg xmlns=\"http://www.w3.org/2000/svg\" xmlns:xlink=\"http://www.w3.org/1999/xlink\" width=\"100.0\" height=\"100.0\" viewBox=\"-0.04 -0.04 1.08 1.08\" preserveAspectRatio=\"xMinYMin meet\"><g transform=\"matrix(1,0,0,-1,0,1.0)\"><g><polyline fill=\"none\" stroke=\"#66cc99\" stroke-width=\"0.0216\" points=\"0.0,0.0 1.0,1.0 1.0,0.0\" opacity=\"0.8\" /><circle cx=\"0.8535533905932736\" cy=\"0.8535533905932736\" r=\"0.0324\" stroke=\"#555555\" stroke-width=\"0.0108\" fill=\"#66cc99\" opacity=\"0.6\" /></g></g></svg>",
            "text/plain": "<shapely.geometry.collection.GeometryCollection at 0x7f4267355dd8>"
          },
          "metadata": {}
        }
      ],
      "execution_count": 8,
      "metadata": {
        "gather": {
          "logged": 1618316341985
        }
      }
    },
    {
      "cell_type": "code",
      "source": [
        "ratio = line.project(pt_half,normalized=True) # project()方法是和interpolate方法互逆的\n",
        "print(ratio)"
      ],
      "outputs": [
        {
          "output_type": "stream",
          "name": "stdout",
          "text": [
            "0.5\n"
          ]
        }
      ],
      "execution_count": 9,
      "metadata": {
        "gather": {
          "logged": 1618316345639
        }
      }
    },
    {
      "cell_type": "markdown",
      "source": [
        "下面这个是DouglasPucker算法的应用，在轨迹分析中经常会用得到"
      ],
      "metadata": {}
    },
    {
      "cell_type": "code",
      "source": [
        "line1 = geo.LineString([(0,0),(1,-0.2),(2,0.3),(3,-0.5),(5,0.2),(7,0)])\n",
        "line1_simplify = line1.simplify(0.4, preserve_topology=False)  #Douglas-Pucker算法\n",
        "print(line1)\n",
        "print(line1_simplify)\n",
        "line1_simplify"
      ],
      "outputs": [
        {
          "output_type": "stream",
          "name": "stdout",
          "text": [
            "LINESTRING (0 0, 1 -0.2, 2 0.3, 3 -0.5, 5 0.2, 7 0)\n",
            "LINESTRING (0 0, 2 0.3, 3 -0.5, 5 0.2, 7 0)\n"
          ]
        },
        {
          "output_type": "execute_result",
          "execution_count": 10,
          "data": {
            "image/svg+xml": "<svg xmlns=\"http://www.w3.org/2000/svg\" xmlns:xlink=\"http://www.w3.org/1999/xlink\" width=\"100.0\" height=\"100.0\" viewBox=\"-0.28 -0.78 7.5600000000000005 1.36\" preserveAspectRatio=\"xMinYMin meet\"><g transform=\"matrix(1,0,0,-1,0,-0.19999999999999996)\"><polyline fill=\"none\" stroke=\"#66cc99\" stroke-width=\"0.1512\" points=\"0.0,0.0 2.0,0.3 3.0,-0.5 5.0,0.2 7.0,0.0\" opacity=\"0.8\" /></g></svg>",
            "text/plain": "<shapely.geometry.linestring.LineString at 0x7f4291afb668>"
          },
          "metadata": {}
        }
      ],
      "execution_count": 10,
      "metadata": {
        "gather": {
          "logged": 1618316349182
        }
      }
    },
    {
      "cell_type": "code",
      "source": [
        "buffer_with_circle = line1.buffer(0.2)  #端点按照半圆扩展\n",
        "geo.GeometryCollection([line1,buffer_with_circle])"
      ],
      "outputs": [
        {
          "output_type": "execute_result",
          "execution_count": 11,
          "data": {
            "image/svg+xml": "<svg xmlns=\"http://www.w3.org/2000/svg\" xmlns:xlink=\"http://www.w3.org/1999/xlink\" width=\"100.0\" height=\"100.0\" viewBox=\"-0.49599987728107964 -0.995889440027441 7.991999640809404 1.7918780185546874\" preserveAspectRatio=\"xMinYMin meet\"><g transform=\"matrix(1,0,0,-1,0,-0.19990086150019448)\"><g><polyline fill=\"none\" stroke=\"#66cc99\" stroke-width=\"0.15983999281618808\" points=\"0.0,0.0 1.0,-0.2 2.0,0.3 3.0,-0.5 5.0,0.2 7.0,0.0\" opacity=\"0.8\" /><path fill-rule=\"evenodd\" fill=\"#66cc99\" stroke=\"#555555\" stroke-width=\"0.15983999281618808\" opacity=\"0.6\" d=\"M 0.9719342611339035,0.009573928316930685 L 1.9105572809000084,0.4788854381999832 L 1.9279041014659157,0.4865534277748952 L 1.94589926287012,0.4925437878561747 L 1.964380939013393,0.4968026485960806 L 1.983182928688073,0.4992917110983033 L 2.0021361501850032,0.49998859183060196 L 2.0210701618041202,0.49888702391445294 L 2.0398146945951083,0.4959969134815603 L 2.058201183544558,0.4913442505904284 L 2.076064283440034,0.48497087550410256 L 2.093243355779259,0.4769341024308839 L 2.1095839133530023,0.46730620411162793 L 2.124939009510885,0.45617376188860603 L 3.0384597986896895,-0.2746428694544377 L 4.933929915054379,0.3887716712732035 L 4.954874138761231,0.3948426458644497 L 4.976354815591868,0.3985973445298438 L 4.998116584742743,0.3999911316708037 L 5.019900743804199,0.3990074380419979 L 7.019900743804199,0.19900743804199786 L 7.039311056264545,0.19609854883544084 L 7.058342781763454,0.19130112340522748 L 7.076812634380571,0.1846613635807902 L 7.094542739338546,0.17624321387890024 L 7.1113623460343725,0.16612774568301558 L 7.127109472461037,0.15441237648153994 L 7.141632465182797,0.14120993168415577 L 7.154791459840665,0.12664755805145242 L 7.166459728122647,0.11086549920211593 L 7.176524898226665,0.09401574499021641 L 7.184890037062436,0.07626056775982701 L 7.19147458377012,0.05777095957364359 L 7.196215125565442,0.03872498546594707 L 7.1990660084394715,0.019306068578983062 L 7.199999776831679,-0.00029877630216717187 L 7.199007438041998,-0.019900743804199796 L 7.196098548835441,-0.03931105626454481 L 7.1913011234052275,-0.05834278176345296 L 7.1846613635807905,-0.07681263438057033 L 7.176243213878901,-0.09454273933854558 L 7.166127745683016,-0.11136234603437217 L 7.15441237648154,-0.127109472461037 L 7.1412099316841555,-0.14163246518279632 L 7.126647558051452,-0.1547914598406642 L 7.110865499202116,-0.16645972812264714 L 7.094015744990217,-0.1765248982266654 L 7.076260567759827,-0.18489003706243565 L 7.057770959573643,-0.1914745837701193 L 7.038724985465947,-0.19621512556544207 L 7.019306068578983,-0.19906600843947117 L 6.999701223697833,-0.19999977683167866 L 6.980099256195801,-0.19900743804199786 L 5.024219307959451,-0.003419443218362919 L 3.066070084945621,-0.6887716712732035 L 3.0466723078135987,-0.6944780082254873 L 3.0267974976450494,-0.6981966047135106 L 3.006648792906641,-0.6998894533307963 L 2.9864321315143174,-0.6995392516392582 L 2.966354145962254,-0.6971495790157076 L 2.9466200513525944,-0.6927448600673968 L 2.927431547912213,-0.6863701149905277 L 2.9089847594346683,-0.6780904994232843 L 2.891468228718332,-0.667990638496506 L 2.875060990489115,-0.6561737618886061 L 1.9749860217328192,0.06388621311643061 L 1.0894427190999916,-0.3788854381999832 L 1.0721762915494146,-0.3865223389789382 L 1.0542666798199893,-0.3924970842930219 L 1.0358734817334716,-0.3967564314280941 L 1.017160604491987,-0.3992624240881095 L 0.9982948040527073,-0.3999927306348442 L 0.9794441991164327,-0.39894084309169686 L 0.9607767729723632,-0.39611613513818406 L -0.03922322702763681,-0.19611613513818402 L -0.05825709920743097,-0.19132723379575514 L -0.07672992367528736,-0.18469574660176824 L -0.09446379703330797,-0.17628553840304087 L -0.1112879323867334,-0.16617760410201446 L -0.12704030411510248,-0.15446928863156675 L -0.14156920826754874,-0.14127334947009437 L -0.15473472355477713,-0.1267168707253565 L -0.16641005886756882,-0.1109400392450457 L -0.17648277434447424,-0.09409479454081074 L -0.18485586422914443,-0.07634336552770073 L -0.19144869108879342,-0.0578567081710302 L -0.19619776239675701,-0.038812859086978846 L -0.19905734200023315,-0.019395220952652878 L -0.19999989058443504,0.00020920376195348868 L -0.1990163308912474,0.019811613729969837 L -0.19611613513818404,0.039223227027636774 L -0.19132723379575525,0.05825709920743062 L -0.18469574660176835,0.07672992367528711 L -0.17628553840304106,0.09446379703330765 L -0.16617760410201465,0.11128793238673312 L -0.15446928863156698,0.12704030411510223 L -0.1412733494700947,0.1415692082675484 L -0.12671687072535692,0.15473472355477677 L -0.11094003924504617,0.16641005886756854 L -0.09409479454081121,0.176482774344474 L -0.07634336552770132,0.18485586422914418 L -0.057856708171030884,0.19144869108879323 L -0.038812859086979554,0.1961977623967569 L -0.0193952209526536,0.19905734200023306 L 0.0002092037619526771,0.19999989058443504 L 0.019811613729968938,0.19901633089124748 L 0.03922322702763589,0.19611613513818424 L 0.9719342611339035,0.009573928316930685 z\" /></g></g></svg>",
            "text/plain": "<shapely.geometry.collection.GeometryCollection at 0x7f4291b6f940>"
          },
          "metadata": {}
        }
      ],
      "execution_count": 11,
      "metadata": {
        "gather": {
          "logged": 1618316353527
        }
      }
    },
    {
      "cell_type": "markdown",
      "source": [
        "#### LinearRings\n",
        "\n",
        "class LinearRing(coordinates)\n",
        "LineStrings构造函数传入参数是2个或多个点元组\n",
        "\n",
        "元组序列可以通过在第一个和最后一个索引中传递相同的值来显式关闭。否则，将第一个元组复制到最后一个索引，从而隐式关闭序列。\n",
        "与LineString一样，元组序列中的重复点是允许的，但可能会导致性能上的损失，应该避免在序列中设置重复点。"
      ],
      "metadata": {}
    },
    {
      "cell_type": "code",
      "source": [
        "# from shapely.geometry.polygon import LinearRing\n",
        "ring = geo.polygon.LinearRing([(0, 0), (1, 1), (1, 0)])\n",
        "print(ring.length)#相比于刚才的LineString的代码示例，其长度现在是3.41，是因为其序列是闭合的\n",
        "print(ring.area)\n",
        "geo.GeometryCollection([ring])"
      ],
      "outputs": [
        {
          "output_type": "stream",
          "name": "stdout",
          "text": [
            "3.414213562373095\n",
            "0.0\n"
          ]
        },
        {
          "output_type": "execute_result",
          "execution_count": 12,
          "data": {
            "image/svg+xml": "<svg xmlns=\"http://www.w3.org/2000/svg\" xmlns:xlink=\"http://www.w3.org/1999/xlink\" width=\"100.0\" height=\"100.0\" viewBox=\"-0.04 -0.04 1.08 1.08\" preserveAspectRatio=\"xMinYMin meet\"><g transform=\"matrix(1,0,0,-1,0,1.0)\"><g><polyline fill=\"none\" stroke=\"#66cc99\" stroke-width=\"0.0216\" points=\"0.0,0.0 1.0,1.0 1.0,0.0 0.0,0.0\" opacity=\"0.8\" /></g></g></svg>",
            "text/plain": "<shapely.geometry.collection.GeometryCollection at 0x7f4291afb0f0>"
          },
          "metadata": {}
        }
      ],
      "execution_count": 12,
      "metadata": {
        "gather": {
          "logged": 1618316357269
        }
      }
    },
    {
      "cell_type": "markdown",
      "source": [
        "#### Polygon  \n",
        "class Polygon(shell[, holes=None])  \n",
        "Polygon接受两个位置参数，第一个位置参数是和LinearRing一样，是一个有序的point元组。第二个位置参数是可选的序列，其用来指定内部的边界"
      ],
      "metadata": {}
    },
    {
      "cell_type": "code",
      "source": [
        "from shapely.geometry import Polygon\n",
        "polygon1 = Polygon([(0, 0), (1, 1), (1, 0)])\n",
        "ext = [(0, 0), (0, 2), (2, 2), (2, 0), (0, 0)]\n",
        "int = [(1, 0), (0.5, 0.5), (1, 1), (1.5, 0.5), (1, 0)]\n",
        "polygon2 = Polygon(ext, [int])\n",
        "print(polygon1.area)\n",
        "print(polygon1.length)\n",
        "print(polygon2.area)#其面积是ext的面积减去int的面积\n",
        "print(polygon2.length)#其长度是ext的长度加上int的长度\n",
        "print(np.array(polygon2.exterior))  #外围坐标点\n",
        "geo.GeometryCollection([polygon2])"
      ],
      "outputs": [
        {
          "output_type": "stream",
          "name": "stdout",
          "text": [
            "0.5\n",
            "3.414213562373095\n",
            "3.5\n",
            "10.82842712474619\n",
            "[[0. 0.]\n",
            " [0. 2.]\n",
            " [2. 2.]\n",
            " [2. 0.]\n",
            " [0. 0.]]\n"
          ]
        },
        {
          "output_type": "execute_result",
          "execution_count": 13,
          "data": {
            "image/svg+xml": "<svg xmlns=\"http://www.w3.org/2000/svg\" xmlns:xlink=\"http://www.w3.org/1999/xlink\" width=\"100.0\" height=\"100.0\" viewBox=\"-0.08 -0.08 2.16 2.16\" preserveAspectRatio=\"xMinYMin meet\"><g transform=\"matrix(1,0,0,-1,0,2.0)\"><g><path fill-rule=\"evenodd\" fill=\"#66cc99\" stroke=\"#555555\" stroke-width=\"0.0432\" opacity=\"0.6\" d=\"M 0.0,0.0 L 0.0,2.0 L 2.0,2.0 L 2.0,0.0 L 0.0,0.0 z M 1.0,0.0 L 0.5,0.5 L 1.0,1.0 L 1.5,0.5 L 1.0,0.0 z\" /></g></g></svg>",
            "text/plain": "<shapely.geometry.collection.GeometryCollection at 0x7f4291b06898>"
          },
          "metadata": {}
        }
      ],
      "execution_count": 13,
      "metadata": {
        "gather": {
          "logged": 1618316361314
        }
      }
    },
    {
      "cell_type": "markdown",
      "source": [
        "与之前介绍的类似，MultiPoint、MultiLineString、MultiPolygon分别指的是多个点、多个linestring和多个polygon形成的集合。\n",
        "![image.png](attachment:image.png)    ![image-2.png](attachment:image-2.png)"
      ],
      "metadata": {}
    },
    {
      "cell_type": "markdown",
      "source": [
        "#### 几何对象关系"
      ],
      "metadata": {}
    },
    {
      "cell_type": "markdown",
      "source": [
        "一个几何对象特征分别有interior、boundary和exterior。下面的叙述直接用内部、边界和外部等名词概述"
      ],
      "metadata": {}
    },
    {
      "cell_type": "markdown",
      "source": [
        "1.object.contains(other)  \n",
        "如果object的外部没有其他点，或者至少有一个点在该object的内部，则返回True  \n",
        "a.contains(b)与 b.within(a)的表达是等价的"
      ],
      "metadata": {}
    },
    {
      "cell_type": "code",
      "source": [
        "coords = [(0, 0), (1, 1)]\n",
        "print(geo.LineString(coords).contains(geo.Point(0.5, 0.5)))#线与点的关系\n",
        "print(geo.LineString(coords).contains(geo.Point(1.0, 1.0)))#因为line的边界不是属于在该对象的内部，所以返回是False\n",
        "polygon1 = Polygon( [(0, 0), (0, 2), (2, 2), (2, 0), (0, 0)])\n",
        "print(polygon1.contains(geo.Point(1.0, 1.0)))#面与点的关系\n",
        "#同理这个contains方法也可以扩展到面与线的关系以及面与面的关系\n",
        "geo.GeometryCollection([polygon1,geo.Point(1.0, 1.0)])"
      ],
      "outputs": [
        {
          "output_type": "stream",
          "name": "stdout",
          "text": [
            "True\n",
            "False\n",
            "True\n"
          ]
        },
        {
          "output_type": "execute_result",
          "execution_count": 14,
          "data": {
            "image/svg+xml": "<svg xmlns=\"http://www.w3.org/2000/svg\" xmlns:xlink=\"http://www.w3.org/1999/xlink\" width=\"100.0\" height=\"100.0\" viewBox=\"-0.08 -0.08 2.16 2.16\" preserveAspectRatio=\"xMinYMin meet\"><g transform=\"matrix(1,0,0,-1,0,2.0)\"><g><path fill-rule=\"evenodd\" fill=\"#66cc99\" stroke=\"#555555\" stroke-width=\"0.0432\" opacity=\"0.6\" d=\"M 0.0,0.0 L 0.0,2.0 L 2.0,2.0 L 2.0,0.0 L 0.0,0.0 z\" /><circle cx=\"1.0\" cy=\"1.0\" r=\"0.0648\" stroke=\"#555555\" stroke-width=\"0.0216\" fill=\"#66cc99\" opacity=\"0.6\" /></g></g></svg>",
            "text/plain": "<shapely.geometry.collection.GeometryCollection at 0x7f4291b06668>"
          },
          "metadata": {}
        }
      ],
      "execution_count": 14,
      "metadata": {
        "gather": {
          "logged": 1618316366882
        }
      }
    },
    {
      "cell_type": "markdown",
      "source": [
        "2.object.crosses(other)  \n",
        "如果一个object与另一个object是内部相交的关系而不是包含的关系，则返回True  \n",
        "3.object.disjoint(other)   \n",
        "如果该对象与另一个对象的内部和边界都不相交则返回True  \n",
        "4. object.intersects(other)  \n",
        "如果该几何对象与另一个几何对象只要相交则返回True。  \n",
        "5. object.convex_hull  \n",
        "返回包含对象中所有点的最小凸多边形（凸包）"
      ],
      "metadata": {}
    },
    {
      "cell_type": "code",
      "source": [
        "print(geo.LineString(coords).crosses(geo.LineString([(0, 1), (1, 0)])))\n",
        "print(geo.Point(0, 0).disjoint(geo.Point(1, 1)))\n",
        "print( geo.LineString(coords).intersects(geo.LineString([(0, 1), (1, 0)])))"
      ],
      "outputs": [
        {
          "output_type": "stream",
          "name": "stdout",
          "text": [
            "True\n",
            "True\n",
            "True\n"
          ]
        }
      ],
      "execution_count": 15,
      "metadata": {
        "gather": {
          "logged": 1618316370802
        }
      }
    },
    {
      "cell_type": "code",
      "source": [
        "# 在下图中即为在给定6个point之后求其凸包，并绘制出来的凸包图形\n",
        "points1 = geo.MultiPoint([(0, 0), (1, 1), (0, 2), (2, 2), (3, 1), (1, 0)])\n",
        "hull1 = points1.convex_hull\n",
        "geo.GeometryCollection([hull1,points1])"
      ],
      "outputs": [
        {
          "output_type": "execute_result",
          "execution_count": 16,
          "data": {
            "image/svg+xml": "<svg xmlns=\"http://www.w3.org/2000/svg\" xmlns:xlink=\"http://www.w3.org/1999/xlink\" width=\"100.0\" height=\"100.0\" viewBox=\"-0.12 -0.12 3.24 2.24\" preserveAspectRatio=\"xMinYMin meet\"><g transform=\"matrix(1,0,0,-1,0,2.0)\"><g><path fill-rule=\"evenodd\" fill=\"#66cc99\" stroke=\"#555555\" stroke-width=\"0.06480000000000001\" opacity=\"0.6\" d=\"M 0.0,0.0 L 0.0,2.0 L 2.0,2.0 L 3.0,1.0 L 1.0,0.0 L 0.0,0.0 z\" /><g><circle cx=\"0.0\" cy=\"0.0\" r=\"0.09720000000000001\" stroke=\"#555555\" stroke-width=\"0.032400000000000005\" fill=\"#66cc99\" opacity=\"0.6\" /><circle cx=\"1.0\" cy=\"1.0\" r=\"0.09720000000000001\" stroke=\"#555555\" stroke-width=\"0.032400000000000005\" fill=\"#66cc99\" opacity=\"0.6\" /><circle cx=\"0.0\" cy=\"2.0\" r=\"0.09720000000000001\" stroke=\"#555555\" stroke-width=\"0.032400000000000005\" fill=\"#66cc99\" opacity=\"0.6\" /><circle cx=\"2.0\" cy=\"2.0\" r=\"0.09720000000000001\" stroke=\"#555555\" stroke-width=\"0.032400000000000005\" fill=\"#66cc99\" opacity=\"0.6\" /><circle cx=\"3.0\" cy=\"1.0\" r=\"0.09720000000000001\" stroke=\"#555555\" stroke-width=\"0.032400000000000005\" fill=\"#66cc99\" opacity=\"0.6\" /><circle cx=\"1.0\" cy=\"0.0\" r=\"0.09720000000000001\" stroke=\"#555555\" stroke-width=\"0.032400000000000005\" fill=\"#66cc99\" opacity=\"0.6\" /></g></g></g></svg>",
            "text/plain": "<shapely.geometry.collection.GeometryCollection at 0x7f4267355c18>"
          },
          "metadata": {}
        }
      ],
      "execution_count": 16,
      "metadata": {
        "gather": {
          "logged": 1618316374174
        }
      }
    },
    {
      "cell_type": "code",
      "source": [
        "# object.intersection  返回对象与对象之间的交集\n",
        "polygon1 = Polygon( [(0, 0), (0, 2), (2, 2), (2, 0), (0, 0)])\n",
        "hull1.intersection(polygon1)"
      ],
      "outputs": [
        {
          "output_type": "execute_result",
          "execution_count": 17,
          "data": {
            "image/svg+xml": "<svg xmlns=\"http://www.w3.org/2000/svg\" xmlns:xlink=\"http://www.w3.org/1999/xlink\" width=\"100.0\" height=\"100.0\" viewBox=\"-0.08 -0.08 2.16 2.16\" preserveAspectRatio=\"xMinYMin meet\"><g transform=\"matrix(1,0,0,-1,0,2.0)\"><path fill-rule=\"evenodd\" fill=\"#66cc99\" stroke=\"#555555\" stroke-width=\"0.0432\" opacity=\"0.6\" d=\"M 0.0,0.0 L 0.0,2.0 L 2.0,2.0 L 2.0,0.5 L 1.0,0.0 L 0.0,0.0 z\" /></g></svg>",
            "text/plain": "<shapely.geometry.polygon.Polygon at 0x7f4267355940>"
          },
          "metadata": {}
        }
      ],
      "execution_count": 17,
      "metadata": {
        "gather": {
          "logged": 1618316377025
        }
      }
    },
    {
      "cell_type": "code",
      "source": [
        "#返回对象与对象之间的并集\n",
        "hull1.union(polygon1)"
      ],
      "outputs": [
        {
          "output_type": "execute_result",
          "execution_count": 18,
          "data": {
            "image/svg+xml": "<svg xmlns=\"http://www.w3.org/2000/svg\" xmlns:xlink=\"http://www.w3.org/1999/xlink\" width=\"100.0\" height=\"100.0\" viewBox=\"-0.12 -0.12 3.24 2.24\" preserveAspectRatio=\"xMinYMin meet\"><g transform=\"matrix(1,0,0,-1,0,2.0)\"><path fill-rule=\"evenodd\" fill=\"#66cc99\" stroke=\"#555555\" stroke-width=\"0.06480000000000001\" opacity=\"0.6\" d=\"M 0.0,0.0 L 0.0,2.0 L 2.0,2.0 L 3.0,1.0 L 2.0,0.5 L 2.0,0.0 L 1.0,0.0 L 0.0,0.0 z\" /></g></svg>",
            "text/plain": "<shapely.geometry.polygon.Polygon at 0x7f4291afbd68>"
          },
          "metadata": {}
        }
      ],
      "execution_count": 18,
      "metadata": {
        "gather": {
          "logged": 1618316380445
        }
      }
    },
    {
      "cell_type": "code",
      "source": [
        "hull1.difference(polygon1) #面面补集"
      ],
      "outputs": [
        {
          "output_type": "execute_result",
          "execution_count": 19,
          "data": {
            "image/svg+xml": "<svg xmlns=\"http://www.w3.org/2000/svg\" xmlns:xlink=\"http://www.w3.org/1999/xlink\" width=\"100.0\" height=\"100.0\" viewBox=\"1.94 0.44 1.12 1.62\" preserveAspectRatio=\"xMinYMin meet\"><g transform=\"matrix(1,0,0,-1,0,2.5)\"><path fill-rule=\"evenodd\" fill=\"#66cc99\" stroke=\"#555555\" stroke-width=\"0.032400000000000005\" opacity=\"0.6\" d=\"M 2.0,2.0 L 3.0,1.0 L 2.0,0.5 L 2.0,2.0 z\" /></g></svg>",
            "text/plain": "<shapely.geometry.polygon.Polygon at 0x7f4291afb588>"
          },
          "metadata": {}
        }
      ],
      "execution_count": 19,
      "metadata": {
        "gather": {
          "logged": 1618316383432
        }
      }
    },
    {
      "cell_type": "markdown",
      "source": [
        "6.与numpy和python数组之间的关系  \n",
        "point、LineRing和LineString提供numpy数组接口，可以进行转换numpy数组"
      ],
      "metadata": {}
    },
    {
      "cell_type": "code",
      "source": [
        "from shapely.geometry import asPoint,asLineString,asMultiPoint,asPolygon\n",
        "import numpy as np\n",
        "pa = asPoint(np.array([0.0, 0.0]))#将numpy数组转换成point格式\n",
        "la = asLineString(np.array([[1.0, 2.0], [3.0, 4.0]]))#将numpy数组转换成LineString格式\n",
        "ma = asMultiPoint(np.array([[1.1, 2.2], [3.3, 4.4], [5.5, 6.6]]))#将numpy数组转换成multipoint集合\n",
        "pg = asPolygon(np.array([[1.1, 2.2], [3.3, 4.4], [5.5, 6.6]]))#将numpy数组转换成polygon\n",
        "print(np.array(pa))#将Point转换成numpy格式"
      ],
      "outputs": [
        {
          "output_type": "stream",
          "name": "stdout",
          "text": [
            "[0. 0.]\n"
          ]
        }
      ],
      "execution_count": 20,
      "metadata": {
        "gather": {
          "logged": 1618316387344
        }
      }
    },
    {
      "cell_type": "markdown",
      "source": [
        "另外还有一些非常有用但是不属于某个类方法的函数，如有需要可以在官网查阅\n",
        "- ops.nearest_points 求最近点\n",
        "- ops.split 分割线\n",
        "- ops.substring  求子串\n",
        "- affinity.rotate 旋转几何体\n",
        "- affinity.scale 缩放几何体\n",
        "- affinity.translate 平移几何体"
      ],
      "metadata": {}
    },
    {
      "cell_type": "markdown",
      "source": [
        "# [geopandas](https://geopandas.org/)"
      ],
      "metadata": {}
    },
    {
      "cell_type": "markdown",
      "source": [
        "GeoPandas提供了地理空间数据的高级接口，它让使用python处理地理空间数据变得更容易。GeoPandas扩展了[pandas](GeoPandas的目标是使使用python处理地理空间数据更容易。它结合了熊猫和shape的功能，提供了熊猫的地理空间操作和shape的多个几何图形的高级接口。GeoPandas使您能够轻松地在python中进行操作，否则将需要空间数据库(如PostGIS)。)使用的数据类型，允许对几何类型进行空间操作。几何运算由[shapely](https://shapely.readthedocs.io/en/stable/)执行。Geopandas进一步依赖[fiona](https://fiona.readthedocs.io/en/latest/)进行文件访问，依赖[matplotlib](http://matplotlib.org/)进行绘图。"
      ],
      "metadata": {}
    },
    {
      "cell_type": "markdown",
      "source": [
        "geopandas和pandas一样，一共有两种数据类型：\n",
        "- GeoSeries\n",
        "- GeoDataFrame\n",
        "它们继承了pandas数据结构的大部分方法。这两个数据结构可以当做地理空间数据的存储器，shapefile文件的pandas呈现。  \n",
        "\n",
        "Shapefile文件用于描述几何体对象：点，折线与多边形。例如，Shapefile文件可以存储井、河流、湖泊等空间对象的几何位置。除了几何位置，shp文件也可以存储这些空间对象的属性，例如一条河流的名字，一个城市的温度等等。"
      ],
      "metadata": {}
    },
    {
      "cell_type": "markdown",
      "source": [
        "例如，当安装geopandas库后，便可通过matplotlib直接画出当安装geopandas数据集中的世界地图"
      ],
      "metadata": {}
    },
    {
      "cell_type": "code",
      "source": [
        "import pandas as pd\n",
        "import geopandas\n",
        "import matplotlib.pyplot as plt\n",
        "world = geopandas.read_file(geopandas.datasets.get_path('naturalearth_lowres'))#read_file方法可以读取shape文件，转化为GeoSeries和GeoDataFrame数据类型。\n",
        "world.plot()#将GeoDataFrame变成图形展示出来，得到世界地图\n",
        "plt.show()"
      ],
      "outputs": [
        {
          "output_type": "display_data",
          "data": {
            "image/png": "[encoded data removed]",
            "text/plain": "<Figure size 432x288 with 1 Axes>"
          },
          "metadata": {
            "needs_background": "light"
          }
        }
      ],
      "execution_count": 21,
      "metadata": {
        "gather": {
          "logged": 1618316396707
        }
      }
    },
    {
      "cell_type": "code",
      "source": [
        "world.head()"
      ],
      "outputs": [
        {
          "output_type": "execute_result",
          "execution_count": 22,
          "data": {
            "text/html": "<div>\n<style scoped>\n    .dataframe tbody tr th:only-of-type {\n        vertical-align: middle;\n    }\n\n    .dataframe tbody tr th {\n        vertical-align: top;\n    }\n\n    .dataframe thead th {\n        text-align: right;\n    }\n</style>\n<table border=\"1\" class=\"dataframe\">\n  <thead>\n    <tr style=\"text-align: right;\">\n      <th></th>\n      <th>pop_est</th>\n      <th>continent</th>\n      <th>name</th>\n      <th>iso_a3</th>\n      <th>gdp_md_est</th>\n      <th>geometry</th>\n    </tr>\n  </thead>\n  <tbody>\n    <tr>\n      <th>0</th>\n      <td>920938</td>\n      <td>Oceania</td>\n      <td>Fiji</td>\n      <td>FJI</td>\n      <td>8374.0</td>\n      <td>MULTIPOLYGON (((180.00000 -16.06713, 180.00000...</td>\n    </tr>\n    <tr>\n      <th>1</th>\n      <td>53950935</td>\n      <td>Africa</td>\n      <td>Tanzania</td>\n      <td>TZA</td>\n      <td>150600.0</td>\n      <td>POLYGON ((33.90371 -0.95000, 34.07262 -1.05982...</td>\n    </tr>\n    <tr>\n      <th>2</th>\n      <td>603253</td>\n      <td>Africa</td>\n      <td>W. Sahara</td>\n      <td>ESH</td>\n      <td>906.5</td>\n      <td>POLYGON ((-8.66559 27.65643, -8.66512 27.58948...</td>\n    </tr>\n    <tr>\n      <th>3</th>\n      <td>35623680</td>\n      <td>North America</td>\n      <td>Canada</td>\n      <td>CAN</td>\n      <td>1674000.0</td>\n      <td>MULTIPOLYGON (((-122.84000 49.00000, -122.9742...</td>\n    </tr>\n    <tr>\n      <th>4</th>\n      <td>326625791</td>\n      <td>North America</td>\n      <td>United States of America</td>\n      <td>USA</td>\n      <td>18560000.0</td>\n      <td>MULTIPOLYGON (((-122.84000 49.00000, -120.0000...</td>\n    </tr>\n  </tbody>\n</table>\n</div>",
            "text/plain": "     pop_est      continent                      name iso_a3  gdp_md_est  \\\n0     920938        Oceania                      Fiji    FJI      8374.0   \n1   53950935         Africa                  Tanzania    TZA    150600.0   \n2     603253         Africa                 W. Sahara    ESH       906.5   \n3   35623680  North America                    Canada    CAN   1674000.0   \n4  326625791  North America  United States of America    USA  18560000.0   \n\n                                            geometry  \n0  MULTIPOLYGON (((180.00000 -16.06713, 180.00000...  \n1  POLYGON ((33.90371 -0.95000, 34.07262 -1.05982...  \n2  POLYGON ((-8.66559 27.65643, -8.66512 27.58948...  \n3  MULTIPOLYGON (((-122.84000 49.00000, -122.9742...  \n4  MULTIPOLYGON (((-122.84000 49.00000, -120.0000...  "
          },
          "metadata": {}
        }
      ],
      "execution_count": 22,
      "metadata": {
        "gather": {
          "logged": 1618316403351
        }
      }
    },
    {
      "cell_type": "code",
      "source": [
        "#根据每一个polygon的pop_est不同，便可以用python绘制图表显示不同国家的人数\n",
        "fig, ax = plt.subplots(figsize=(9,6),dpi = 100)\n",
        "world.plot('pop_est',ax = ax,legend = True)\n",
        "plt.show()"
      ],
      "outputs": [
        {
          "output_type": "display_data",
          "data": {
            "image/png": "[encoded data removed]",
            "text/plain": "<Figure size 900x600 with 2 Axes>"
          },
          "metadata": {
            "needs_background": "light"
          }
        }
      ],
      "execution_count": 23,
      "metadata": {
        "gather": {
          "logged": 1618316407693
        }
      }
    },
    {
      "cell_type": "markdown",
      "source": [
        "由以上geodataframe的实例world可知，其最后一列是geometry。其几何对象包括了MULTIPOLYGON 、POLYGON，那么便同样可以用刚才介绍的shapely库进行分析。  \n",
        "\n",
        "具体的geopadandas常用的方法可以参考[这篇文章](https://www.cnblogs.com/giserliu/p/4988615.html\n",
        ")  \n",
        "\n",
        "geopdandas的相关中文案例和分析可参考这个[集锦](https://mp.weixin.qq.com/mp/appmsgalbum?action=getalbum&__biz=MzA3ODYwNDkzOQ==&scene=1&album_id=1342860388945444864&count=3#wechat_redirect)，了解一下具体使用情况"
      ],
      "metadata": {}
    },
    {
      "cell_type": "markdown",
      "source": [
        "# Folium\n",
        "[官方文档](https://python-visualization.github.io/folium/index.html)"
      ],
      "metadata": {}
    },
    {
      "cell_type": "markdown",
      "source": [
        "folium可以满足我们平时常用的热力图、填充地图、路径图、散点标记等高频可视化场景.folium也可以通过flask让地图和我们的数据在网页上显示，极其便利。"
      ],
      "metadata": {}
    },
    {
      "cell_type": "code",
      "source": [
        "!pip3 install folium"
      ],
      "outputs": [
        {
          "output_type": "stream",
          "name": "stdout",
          "text": [
            "Requirement already satisfied: folium in /anaconda/envs/azureml_py36/lib/python3.6/site-packages (0.12.1)\r\n",
            "Requirement already satisfied: requests in /anaconda/envs/azureml_py36/lib/python3.6/site-packages (from folium) (2.25.1)\r\n",
            "Requirement already satisfied: branca>=0.3.0 in /anaconda/envs/azureml_py36/lib/python3.6/site-packages (from folium) (0.4.2)\r\n",
            "Requirement already satisfied: jinja2>=2.9 in /anaconda/envs/azureml_py36/lib/python3.6/site-packages (from folium) (2.11.2)\r\n",
            "Requirement already satisfied: numpy in /anaconda/envs/azureml_py36/lib/python3.6/site-packages (from folium) (1.18.5)\r\n",
            "Requirement already satisfied: chardet<5,>=3.0.2 in /anaconda/envs/azureml_py36/lib/python3.6/site-packages (from requests->folium) (4.0.0)\r\n",
            "Requirement already satisfied: certifi>=2017.4.17 in /anaconda/envs/azureml_py36/lib/python3.6/site-packages (from requests->folium) (2020.12.5)\r\n",
            "Requirement already satisfied: urllib3<1.27,>=1.21.1 in /anaconda/envs/azureml_py36/lib/python3.6/site-packages (from requests->folium) (1.25.11)\r\n",
            "Requirement already satisfied: idna<3,>=2.5 in /anaconda/envs/azureml_py36/lib/python3.6/site-packages (from requests->folium) (2.10)\r\n",
            "Requirement already satisfied: MarkupSafe>=0.23 in /anaconda/envs/azureml_py36/lib/python3.6/site-packages (from jinja2>=2.9->folium) (1.1.1)\r\n"
          ]
        }
      ],
      "execution_count": 24,
      "metadata": {
        "collapsed": true,
        "jupyter": {
          "outputs_hidden": false,
          "source_hidden": false
        },
        "nteract": {
          "transient": {
            "deleting": false
          }
        }
      }
    },
    {
      "cell_type": "code",
      "source": [
        "import folium\n",
        "import os\n",
        "#首先，创建一张指定中心坐标的地图，这里将其中心坐标设置为北京。zoom_start表示初始地图的缩放尺寸，数值越大放大程度越大\n",
        "m=folium.Map(location=[39.9,116.4],zoom_start=10)\n",
        "m"
      ],
      "outputs": [
        {
          "output_type": "execute_result",
          "execution_count": 25,
          "data": {
            "text/html": "<div style=\"width:100%;\"><div style=\"position:relative;width:100%;height:0;padding-bottom:60%;\"><span style=\"color:#565656\">Make this Notebook Trusted to load map: File -> Trust Notebook</span><iframe src=\"about:blank\" style=\"position:absolute;width:100%;height:100%;left:0;top:0;border:none !important;\" data-html=%3C%21DOCTYPE%20html%3E%0A%3Chead%3E%20%20%20%20%0A%20%20%20%20%3Cmeta%20http-equiv%3D%22content-type%22%20content%3D%22text/html%3B%20charset%3DUTF-8%22%20/%3E%0A%20%20%20%20%0A%20%20%20%20%20%20%20%20%3Cscript%3E%0A%20%20%20%20%20%20%20%20%20%20%20%20L_NO_TOUCH%20%3D%20false%3B%0A%20%20%20%20%20%20%20%20%20%20%20%20L_DISABLE_3D%20%3D%20false%3B%0A%20%20%20%20%20%20%20%20%3C/script%3E%0A%20%20%20%20%0A%20%20%20%20%3Cstyle%3Ehtml%2C%20body%20%7Bwidth%3A%20100%25%3Bheight%3A%20100%25%3Bmargin%3A%200%3Bpadding%3A%200%3B%7D%3C/style%3E%0A%20%20%20%20%3Cstyle%3E%23map%20%7Bposition%3Aabsolute%3Btop%3A0%3Bbottom%3A0%3Bright%3A0%3Bleft%3A0%3B%7D%3C/style%3E%0A%20%20%20%20%3Cscript%20src%3D%22https%3A//cdn.jsdelivr.net/npm/leaflet%401.6.0/dist/leaflet.js%22%3E%3C/script%3E%0A%20%20%20%20%3Cscript%20src%3D%22https%3A//code.jquery.com/jquery-1.12.4.min.js%22%3E%3C/script%3E%0A%20%20%20%20%3Cscript%20src%3D%22https%3A//maxcdn.bootstrapcdn.com/bootstrap/3.2.0/js/bootstrap.min.js%22%3E%3C/script%3E%0A%20%20%20%20%3Cscript%20src%3D%22https%3A//cdnjs.cloudflare.com/ajax/libs/Leaflet.awesome-markers/2.0.2/leaflet.awesome-markers.js%22%3E%3C/script%3E%0A%20%20%20%20%3Clink%20rel%3D%22stylesheet%22%20href%3D%22https%3A//cdn.jsdelivr.net/npm/leaflet%401.6.0/dist/leaflet.css%22/%3E%0A%20%20%20%20%3Clink%20rel%3D%22stylesheet%22%20href%3D%22https%3A//maxcdn.bootstrapcdn.com/bootstrap/3.2.0/css/bootstrap.min.css%22/%3E%0A%20%20%20%20%3Clink%20rel%3D%22stylesheet%22%20href%3D%22https%3A//maxcdn.bootstrapcdn.com/bootstrap/3.2.0/css/bootstrap-theme.min.css%22/%3E%0A%20%20%20%20%3Clink%20rel%3D%22stylesheet%22%20href%3D%22https%3A//maxcdn.bootstrapcdn.com/font-awesome/4.6.3/css/font-awesome.min.css%22/%3E%0A%20%20%20%20%3Clink%20rel%3D%22stylesheet%22%20href%3D%22https%3A//cdnjs.cloudflare.com/ajax/libs/Leaflet.awesome-markers/2.0.2/leaflet.awesome-markers.css%22/%3E%0A%20%20%20%20%3Clink%20rel%3D%22stylesheet%22%20href%3D%22https%3A//cdn.jsdelivr.net/gh/python-visualization/folium/folium/templates/leaflet.awesome.rotate.min.css%22/%3E%0A%20%20%20%20%0A%20%20%20%20%20%20%20%20%20%20%20%20%3Cmeta%20name%3D%22viewport%22%20content%3D%22width%3Ddevice-width%2C%0A%20%20%20%20%20%20%20%20%20%20%20%20%20%20%20%20initial-scale%3D1.0%2C%20maximum-scale%3D1.0%2C%20user-scalable%3Dno%22%20/%3E%0A%20%20%20%20%20%20%20%20%20%20%20%20%3Cstyle%3E%0A%20%20%20%20%20%20%20%20%20%20%20%20%20%20%20%20%23map_dd32fb078eb84cb88687dce05b9d3a5a%20%7B%0A%20%20%20%20%20%20%20%20%20%20%20%20%20%20%20%20%20%20%20%20position%3A%20relative%3B%0A%20%20%20%20%20%20%20%20%20%20%20%20%20%20%20%20%20%20%20%20width%3A%20100.0%25%3B%0A%20%20%20%20%20%20%20%20%20%20%20%20%20%20%20%20%20%20%20%20height%3A%20100.0%25%3B%0A%20%20%20%20%20%20%20%20%20%20%20%20%20%20%20%20%20%20%20%20left%3A%200.0%25%3B%0A%20%20%20%20%20%20%20%20%20%20%20%20%20%20%20%20%20%20%20%20top%3A%200.0%25%3B%0A%20%20%20%20%20%20%20%20%20%20%20%20%20%20%20%20%7D%0A%20%20%20%20%20%20%20%20%20%20%20%20%3C/style%3E%0A%20%20%20%20%20%20%20%20%0A%3C/head%3E%0A%3Cbody%3E%20%20%20%20%0A%20%20%20%20%0A%20%20%20%20%20%20%20%20%20%20%20%20%3Cdiv%20class%3D%22folium-map%22%20id%3D%22map_dd32fb078eb84cb88687dce05b9d3a5a%22%20%3E%3C/div%3E%0A%20%20%20%20%20%20%20%20%0A%3C/body%3E%0A%3Cscript%3E%20%20%20%20%0A%20%20%20%20%0A%20%20%20%20%20%20%20%20%20%20%20%20var%20map_dd32fb078eb84cb88687dce05b9d3a5a%20%3D%20L.map%28%0A%20%20%20%20%20%20%20%20%20%20%20%20%20%20%20%20%22map_dd32fb078eb84cb88687dce05b9d3a5a%22%2C%0A%20%20%20%20%20%20%20%20%20%20%20%20%20%20%20%20%7B%0A%20%20%20%20%20%20%20%20%20%20%20%20%20%20%20%20%20%20%20%20center%3A%20%5B39.9%2C%20116.4%5D%2C%0A%20%20%20%20%20%20%20%20%20%20%20%20%20%20%20%20%20%20%20%20crs%3A%20L.CRS.EPSG3857%2C%0A%20%20%20%20%20%20%20%20%20%20%20%20%20%20%20%20%20%20%20%20zoom%3A%2010%2C%0A%20%20%20%20%20%20%20%20%20%20%20%20%20%20%20%20%20%20%20%20zoomControl%3A%20true%2C%0A%20%20%20%20%20%20%20%20%20%20%20%20%20%20%20%20%20%20%20%20preferCanvas%3A%20false%2C%0A%20%20%20%20%20%20%20%20%20%20%20%20%20%20%20%20%7D%0A%20%20%20%20%20%20%20%20%20%20%20%20%29%3B%0A%0A%20%20%20%20%20%20%20%20%20%20%20%20%0A%0A%20%20%20%20%20%20%20%20%0A%20%20%20%20%0A%20%20%20%20%20%20%20%20%20%20%20%20var%20tile_layer_aaf8f2e760bb4f0b9cc5dd9ab1f9a3a5%20%3D%20L.tileLayer%28%0A%20%20%20%20%20%20%20%20%20%20%20%20%20%20%20%20%22https%3A//%7Bs%7D.tile.openstreetmap.org/%7Bz%7D/%7Bx%7D/%7By%7D.png%22%2C%0A%20%20%20%20%20%20%20%20%20%20%20%20%20%20%20%20%7B%22attribution%22%3A%20%22Data%20by%20%5Cu0026copy%3B%20%5Cu003ca%20href%3D%5C%22http%3A//openstreetmap.org%5C%22%5Cu003eOpenStreetMap%5Cu003c/a%5Cu003e%2C%20under%20%5Cu003ca%20href%3D%5C%22http%3A//www.openstreetmap.org/copyright%5C%22%5Cu003eODbL%5Cu003c/a%5Cu003e.%22%2C%20%22detectRetina%22%3A%20false%2C%20%22maxNativeZoom%22%3A%2018%2C%20%22maxZoom%22%3A%2018%2C%20%22minZoom%22%3A%200%2C%20%22noWrap%22%3A%20false%2C%20%22opacity%22%3A%201%2C%20%22subdomains%22%3A%20%22abc%22%2C%20%22tms%22%3A%20false%7D%0A%20%20%20%20%20%20%20%20%20%20%20%20%29.addTo%28map_dd32fb078eb84cb88687dce05b9d3a5a%29%3B%0A%20%20%20%20%20%20%20%20%0A%3C/script%3E onload=\"this.contentDocument.open();this.contentDocument.write(    decodeURIComponent(this.getAttribute('data-html')));this.contentDocument.close();\" allowfullscreen webkitallowfullscreen mozallowfullscreen></iframe></div></div>",
            "text/plain": "<folium.folium.Map at 0x7f42561afc88>"
          },
          "metadata": {}
        }
      ],
      "execution_count": 25,
      "metadata": {
        "gather": {
          "logged": 1618316418471
        },
        "scrolled": false
      }
    },
    {
      "cell_type": "markdown",
      "source": [
        "以下是Folium map的参数"
      ],
      "metadata": {}
    },
    {
      "cell_type": "markdown",
      "source": [
        "![image.png](attachment:image.png)"
      ],
      "metadata": {}
    },
    {
      "cell_type": "markdown",
      "source": [
        "用Folium绘制热力图示例"
      ],
      "metadata": {}
    },
    {
      "cell_type": "code",
      "source": [
        "import folium\n",
        "import numpy as np\n",
        "from folium.plugins import HeatMap\n",
        "#先手动生成data数据，该数据格式由[纬度，经度，数值]构成\n",
        "data=(np.random.normal(size=(100,3))*np.array([[1,1,1]])+np.array([[48,5,1]])).tolist()\n",
        "# data"
      ],
      "outputs": [],
      "execution_count": 26,
      "metadata": {
        "gather": {
          "logged": 1618316427750
        }
      }
    },
    {
      "cell_type": "code",
      "source": [
        "m=folium.Map([48,5],tiles='stamentoner',zoom_start=6)\n",
        "HeatMap(data).add_to(m)\n",
        "m "
      ],
      "outputs": [
        {
          "output_type": "execute_result",
          "execution_count": 27,
          "data": {
            "text/html": "<div style=\"width:100%;\"><div style=\"position:relative;width:100%;height:0;padding-bottom:60%;\"><span style=\"color:#565656\">Make this Notebook Trusted to load map: File -> Trust Notebook</span><iframe src=\"about:blank\" style=\"position:absolute;width:100%;height:100%;left:0;top:0;border:none !important;\" data-html=%3C%21DOCTYPE%20html%3E%0A%3Chead%3E%20%20%20%20%0A%20%20%20%20%3Cmeta%20http-equiv%3D%22content-type%22%20content%3D%22text/html%3B%20charset%3DUTF-8%22%20/%3E%0A%20%20%20%20%0A%20%20%20%20%20%20%20%20%3Cscript%3E%0A%20%20%20%20%20%20%20%20%20%20%20%20L_NO_TOUCH%20%3D%20false%3B%0A%20%20%20%20%20%20%20%20%20%20%20%20L_DISABLE_3D%20%3D%20false%3B%0A%20%20%20%20%20%20%20%20%3C/script%3E%0A%20%20%20%20%0A%20%20%20%20%3Cstyle%3Ehtml%2C%20body%20%7Bwidth%3A%20100%25%3Bheight%3A%20100%25%3Bmargin%3A%200%3Bpadding%3A%200%3B%7D%3C/style%3E%0A%20%20%20%20%3Cstyle%3E%23map%20%7Bposition%3Aabsolute%3Btop%3A0%3Bbottom%3A0%3Bright%3A0%3Bleft%3A0%3B%7D%3C/style%3E%0A%20%20%20%20%3Cscript%20src%3D%22https%3A//cdn.jsdelivr.net/npm/leaflet%401.6.0/dist/leaflet.js%22%3E%3C/script%3E%0A%20%20%20%20%3Cscript%20src%3D%22https%3A//code.jquery.com/jquery-1.12.4.min.js%22%3E%3C/script%3E%0A%20%20%20%20%3Cscript%20src%3D%22https%3A//maxcdn.bootstrapcdn.com/bootstrap/3.2.0/js/bootstrap.min.js%22%3E%3C/script%3E%0A%20%20%20%20%3Cscript%20src%3D%22https%3A//cdnjs.cloudflare.com/ajax/libs/Leaflet.awesome-markers/2.0.2/leaflet.awesome-markers.js%22%3E%3C/script%3E%0A%20%20%20%20%3Clink%20rel%3D%22stylesheet%22%20href%3D%22https%3A//cdn.jsdelivr.net/npm/leaflet%401.6.0/dist/leaflet.css%22/%3E%0A%20%20%20%20%3Clink%20rel%3D%22stylesheet%22%20href%3D%22https%3A//maxcdn.bootstrapcdn.com/bootstrap/3.2.0/css/bootstrap.min.css%22/%3E%0A%20%20%20%20%3Clink%20rel%3D%22stylesheet%22%20href%3D%22https%3A//maxcdn.bootstrapcdn.com/bootstrap/3.2.0/css/bootstrap-theme.min.css%22/%3E%0A%20%20%20%20%3Clink%20rel%3D%22stylesheet%22%20href%3D%22https%3A//maxcdn.bootstrapcdn.com/font-awesome/4.6.3/css/font-awesome.min.css%22/%3E%0A%20%20%20%20%3Clink%20rel%3D%22stylesheet%22%20href%3D%22https%3A//cdnjs.cloudflare.com/ajax/libs/Leaflet.awesome-markers/2.0.2/leaflet.awesome-markers.css%22/%3E%0A%20%20%20%20%3Clink%20rel%3D%22stylesheet%22%20href%3D%22https%3A//cdn.jsdelivr.net/gh/python-visualization/folium/folium/templates/leaflet.awesome.rotate.min.css%22/%3E%0A%20%20%20%20%0A%20%20%20%20%20%20%20%20%20%20%20%20%3Cmeta%20name%3D%22viewport%22%20content%3D%22width%3Ddevice-width%2C%0A%20%20%20%20%20%20%20%20%20%20%20%20%20%20%20%20initial-scale%3D1.0%2C%20maximum-scale%3D1.0%2C%20user-scalable%3Dno%22%20/%3E%0A%20%20%20%20%20%20%20%20%20%20%20%20%3Cstyle%3E%0A%20%20%20%20%20%20%20%20%20%20%20%20%20%20%20%20%23map_22d617ca196b4cbea2b20b7872f78a44%20%7B%0A%20%20%20%20%20%20%20%20%20%20%20%20%20%20%20%20%20%20%20%20position%3A%20relative%3B%0A%20%20%20%20%20%20%20%20%20%20%20%20%20%20%20%20%20%20%20%20width%3A%20100.0%25%3B%0A%20%20%20%20%20%20%20%20%20%20%20%20%20%20%20%20%20%20%20%20height%3A%20100.0%25%3B%0A%20%20%20%20%20%20%20%20%20%20%20%20%20%20%20%20%20%20%20%20left%3A%200.0%25%3B%0A%20%20%20%20%20%20%20%20%20%20%20%20%20%20%20%20%20%20%20%20top%3A%200.0%25%3B%0A%20%20%20%20%20%20%20%20%20%20%20%20%20%20%20%20%7D%0A%20%20%20%20%20%20%20%20%20%20%20%20%3C/style%3E%0A%20%20%20%20%20%20%20%20%0A%20%20%20%20%3Cscript%20src%3D%22https%3A//cdn.jsdelivr.net/gh/python-visualization/folium%40master/folium/templates/leaflet_heat.min.js%22%3E%3C/script%3E%0A%3C/head%3E%0A%3Cbody%3E%20%20%20%20%0A%20%20%20%20%0A%20%20%20%20%20%20%20%20%20%20%20%20%3Cdiv%20class%3D%22folium-map%22%20id%3D%22map_22d617ca196b4cbea2b20b7872f78a44%22%20%3E%3C/div%3E%0A%20%20%20%20%20%20%20%20%0A%3C/body%3E%0A%3Cscript%3E%20%20%20%20%0A%20%20%20%20%0A%20%20%20%20%20%20%20%20%20%20%20%20var%20map_22d617ca196b4cbea2b20b7872f78a44%20%3D%20L.map%28%0A%20%20%20%20%20%20%20%20%20%20%20%20%20%20%20%20%22map_22d617ca196b4cbea2b20b7872f78a44%22%2C%0A%20%20%20%20%20%20%20%20%20%20%20%20%20%20%20%20%7B%0A%20%20%20%20%20%20%20%20%20%20%20%20%20%20%20%20%20%20%20%20center%3A%20%5B48.0%2C%205.0%5D%2C%0A%20%20%20%20%20%20%20%20%20%20%20%20%20%20%20%20%20%20%20%20crs%3A%20L.CRS.EPSG3857%2C%0A%20%20%20%20%20%20%20%20%20%20%20%20%20%20%20%20%20%20%20%20zoom%3A%206%2C%0A%20%20%20%20%20%20%20%20%20%20%20%20%20%20%20%20%20%20%20%20zoomControl%3A%20true%2C%0A%20%20%20%20%20%20%20%20%20%20%20%20%20%20%20%20%20%20%20%20preferCanvas%3A%20false%2C%0A%20%20%20%20%20%20%20%20%20%20%20%20%20%20%20%20%7D%0A%20%20%20%20%20%20%20%20%20%20%20%20%29%3B%0A%0A%20%20%20%20%20%20%20%20%20%20%20%20%0A%0A%20%20%20%20%20%20%20%20%0A%20%20%20%20%0A%20%20%20%20%20%20%20%20%20%20%20%20var%20tile_layer_9bc0dc5e378c49bc9bd26944bebca59a%20%3D%20L.tileLayer%28%0A%20%20%20%20%20%20%20%20%20%20%20%20%20%20%20%20%22https%3A//stamen-tiles-%7Bs%7D.a.ssl.fastly.net/toner/%7Bz%7D/%7Bx%7D/%7By%7D.png%22%2C%0A%20%20%20%20%20%20%20%20%20%20%20%20%20%20%20%20%7B%22attribution%22%3A%20%22Map%20tiles%20by%20%5Cu003ca%20href%3D%5C%22http%3A//stamen.com%5C%22%5Cu003eStamen%20Design%5Cu003c/a%5Cu003e%2C%20under%20%5Cu003ca%20href%3D%5C%22http%3A//creativecommons.org/licenses/by/3.0%5C%22%5Cu003eCC%20BY%203.0%5Cu003c/a%5Cu003e.%20Data%20by%20%5Cu0026copy%3B%20%5Cu003ca%20href%3D%5C%22http%3A//openstreetmap.org%5C%22%5Cu003eOpenStreetMap%5Cu003c/a%5Cu003e%2C%20under%20%5Cu003ca%20href%3D%5C%22http%3A//www.openstreetmap.org/copyright%5C%22%5Cu003eODbL%5Cu003c/a%5Cu003e.%22%2C%20%22detectRetina%22%3A%20false%2C%20%22maxNativeZoom%22%3A%2018%2C%20%22maxZoom%22%3A%2018%2C%20%22minZoom%22%3A%200%2C%20%22noWrap%22%3A%20false%2C%20%22opacity%22%3A%201%2C%20%22subdomains%22%3A%20%22abc%22%2C%20%22tms%22%3A%20false%7D%0A%20%20%20%20%20%20%20%20%20%20%20%20%29.addTo%28map_22d617ca196b4cbea2b20b7872f78a44%29%3B%0A%20%20%20%20%20%20%20%20%0A%20%20%20%20%0A%20%20%20%20%20%20%20%20%20%20%20%20var%20heat_map_0bede94557b24a01affc90f31f1a3712%20%3D%20L.heatLayer%28%0A%20%20%20%20%20%20%20%20%20%20%20%20%20%20%20%20%5B%5B48.20539048419029%2C%203.8247816428069346%2C%200.9669397261396965%5D%2C%20%5B48.46288972040228%2C%202.8514709212127234%2C%201.7511293756459612%5D%2C%20%5B49.546613224242186%2C%205.126447106159682%2C%200.027136105314450654%5D%2C%20%5B49.18512237456106%2C%203.9647159795632394%2C%201.408701177988763%5D%2C%20%5B48.43917460071691%2C%204.712640838619787%2C%201.7802601927373374%5D%2C%20%5B49.04033766640858%2C%203.2139058754924283%2C%202.573197105779704%5D%2C%20%5B47.92574165129797%2C%204.907113792184664%2C%201.0135309487640567%5D%2C%20%5B48.8955918239647%2C%203.6537101750258976%2C%20-0.8275125412926563%5D%2C%20%5B47.58059301210469%2C%205.649691321416909%2C%202.11922935727996%5D%2C%20%5B49.6721805976522%2C%204.785958065512744%2C%200.8610816328942174%5D%2C%20%5B47.28367685433056%2C%205.314478984122702%2C%202.0519586979237143%5D%2C%20%5B46.46183457386506%2C%205.515178700533388%2C%200.6611340603673865%5D%2C%20%5B48.41532357028079%2C%204.155661450551433%2C%200.045154084230373814%5D%2C%20%5B49.20121618364417%2C%206.043089430673503%2C%201.0832974022167179%5D%2C%20%5B47.50132303395924%2C%205.211923569081917%2C%200.5664818167069954%5D%2C%20%5B49.872897540149665%2C%204.106852193478546%2C%202.0670322554412515%5D%2C%20%5B48.01972603106097%2C%204.916173851851764%2C%201.4540727922192704%5D%2C%20%5B46.405017503525166%2C%204.145012763619951%2C%202.142941474609355%5D%2C%20%5B48.29865994328009%2C%205.551085162592498%2C%201.0286685818078851%5D%2C%20%5B49.108970268438846%2C%204.310401811121775%2C%20-0.8698501141787531%5D%2C%20%5B47.72332532086555%2C%205.60453067590738%2C%200.09877025365915426%5D%2C%20%5B45.9910948640742%2C%203.0595699918490915%2C%201.2764401587990022%5D%2C%20%5B50.352900871808345%2C%206.107719106419189%2C%201.0450248766405286%5D%2C%20%5B46.43123393652009%2C%205.64444143520907%2C%200.5653599856029098%5D%2C%20%5B47.8128683697395%2C%204.7348344474434265%2C%203.427022742706927%5D%2C%20%5B48.01602596531815%2C%206.444232705681138%2C%200.03127173916730075%5D%2C%20%5B47.71883231872165%2C%206.0463561144233235%2C%200.9223720743143222%5D%2C%20%5B48.70259593574153%2C%204.218928138955173%2C%201.1078148627699773%5D%2C%20%5B49.24271797029034%2C%204.840968789718371%2C%202.7648581952656226%5D%2C%20%5B46.771493320666124%2C%205.730973887823844%2C%202.055159160025398%5D%2C%20%5B47.82460146372911%2C%205.857485267666176%2C%201.8755024580449922%5D%2C%20%5B48.49425508114469%2C%204.767072504627322%2C%201.5763493409403475%5D%2C%20%5B48.185171241928245%2C%205.175786642907248%2C%20-0.29490124418725205%5D%2C%20%5B48.409683289646786%2C%204.658377866912711%2C%200.7599738444338466%5D%2C%20%5B47.19105659299963%2C%204.44599902461903%2C%201.1274158651507484%5D%2C%20%5B47.98521852184053%2C%204.880106166911794%2C%201.2923078106332238%5D%2C%20%5B48.23057440773652%2C%205.320325923839888%2C%200.8292146671319588%5D%2C%20%5B47.76860388597079%2C%205.031795276864021%2C%200.052464294364729214%5D%2C%20%5B47.53677113877911%2C%204.147082005220003%2C%20-0.6869215502259678%5D%2C%20%5B48.28936600154242%2C%204.926451929827167%2C%20-0.2637014055258631%5D%2C%20%5B47.87410575939933%2C%203.348260453072741%2C%202.171132377549408%5D%2C%20%5B48.47470742688671%2C%202.7868403665228376%2C%20-0.40413475777568664%5D%2C%20%5B49.37177196262587%2C%205.125646849987592%2C%201.681132676665593%5D%2C%20%5B48.54459969348213%2C%204.781273326276134%2C%200.899092103727245%5D%2C%20%5B47.239137808165374%2C%205.055892773717132%2C%201.0855794917629176%5D%2C%20%5B47.192387994335185%2C%204.041856389799618%2C%20-0.865449578332006%5D%2C%20%5B48.47396489805598%2C%203.7825301505517244%2C%201.2935065834497195%5D%2C%20%5B48.56136312148055%2C%205.322271212197792%2C%202.638734295441132%5D%2C%20%5B48.77876922236129%2C%206.5656968557825675%2C%201.7832362504764396%5D%2C%20%5B48.40547060738349%2C%203.34847844660755%2C%20-0.4811379635242192%5D%2C%20%5B49.0103072964225%2C%203.538510559895391%2C%201.1428680974933432%5D%2C%20%5B48.36331987748932%2C%204.199326225363312%2C%201.5632276194727548%5D%2C%20%5B47.139625821191814%2C%207.078888750693756%2C%201.2167888646364027%5D%2C%20%5B48.948564190305376%2C%205.007045936600794%2C%200.3470100890903227%5D%2C%20%5B47.35400599954999%2C%204.424628921594315%2C%20-0.08820947654779632%5D%2C%20%5B46.77219921636853%2C%205.033702017672266%2C%201.9564508877947167%5D%2C%20%5B47.911997699716366%2C%204.295548347156757%2C%20-0.3678781144467731%5D%2C%20%5B46.77246459256405%2C%204.884264751042322%2C%203.134198761327033%5D%2C%20%5B48.63953510533707%2C%205.802165534107473%2C%200.8160554017534867%5D%2C%20%5B48.95794938602118%2C%204.566082360929945%2C%201.5286706331740174%5D%2C%20%5B49.937440651990066%2C%205.023562280804856%2C%201.6423828293186777%5D%2C%20%5B47.60227465295369%2C%205.778426424473425%2C%20-0.8725476534234358%5D%2C%20%5B48.50864183675635%2C%206.095857372104179%2C%201.0308028937042704%5D%2C%20%5B48.91436635956486%2C%205.545067516967309%2C%201.4228026118200068%5D%2C%20%5B46.38808652501949%2C%204.198166772788854%2C%200.9755628333484938%5D%2C%20%5B47.16764134177%2C%204.542044479584697%2C%200.9577309762531606%5D%2C%20%5B47.880115070512005%2C%204.998362980782124%2C%201.3754041729255184%5D%2C%20%5B49.3953336013636%2C%204.785080358726596%2C%201.2015875325389695%5D%2C%20%5B49.08081709244509%2C%204.3882347714670225%2C%200.86232954208159%5D%2C%20%5B47.62324849391921%2C%204.567905725027871%2C%201.160714150541391%5D%2C%20%5B48.44085606855146%2C%204.027700754067776%2C%200.7910224205227235%5D%2C%20%5B47.22691052684%2C%204.103410599028041%2C%200.8769417602609099%5D%2C%20%5B48.5790676350432%2C%204.801453841571761%2C%201.9565441630119182%5D%2C%20%5B48.352687392321336%2C%204.722616965640603%2C%20-0.679294818602185%5D%2C%20%5B47.02882226566479%2C%204.533052029881157%2C%201.0617080815437465%5D%2C%20%5B47.2157302171413%2C%206.08694636264192%2C%202.3155633584412856%5D%2C%20%5B47.26615218167381%2C%205.419712421319216%2C%201.5448839070302214%5D%2C%20%5B48.730716993106526%2C%204.573927094796784%2C%201.5103483205622275%5D%2C%20%5B47.31559173303994%2C%206.458162921512965%2C%20-0.4710356572486183%5D%2C%20%5B49.14309604117137%2C%206.2951365573907605%2C%20-0.30328803506034974%5D%2C%20%5B47.2807543436224%2C%204.483010016570104%2C%20-0.2967982098798838%5D%2C%20%5B48.523444376107264%2C%203.9779029781140407%2C%202.7209993526052108%5D%2C%20%5B47.843474656673955%2C%207.124726795094043%2C%20-0.46182832737232493%5D%2C%20%5B46.509572049352705%2C%205.950634729895466%2C%200.16221525419597316%5D%2C%20%5B48.3051808691281%2C%206.21557031772556%2C%200.41227708139947705%5D%2C%20%5B49.800032058521104%2C%206.944961405011674%2C%201.8191020346520022%5D%2C%20%5B46.055037520882195%2C%205.546805385984099%2C%201.5409705343624447%5D%2C%20%5B47.82859209802257%2C%205.3851091397883%2C%20-1.249254206176047%5D%2C%20%5B47.025795222096114%2C%205.310134851552163%2C%201.082926753927175%5D%2C%20%5B48.68906310410524%2C%204.032522437119729%2C%202.1493522388736537%5D%2C%20%5B49.3961120217814%2C%204.9299686311842486%2C%20-0.6667083802319798%5D%2C%20%5B48.191116632396714%2C%204.143019975709096%2C%20-0.22585404643594575%5D%2C%20%5B48.07678458807029%2C%204.217025760979992%2C%201.6382466176260255%5D%2C%20%5B49.19473172552686%2C%203.8737343133662416%2C%201.111722866882608%5D%2C%20%5B47.71462754986846%2C%202.403578705337864%2C%200.9737107869921982%5D%2C%20%5B48.756296097078156%2C%206.929555279960836%2C%201.854133941384908%5D%2C%20%5B46.49262211771862%2C%203.628051872003053%2C%20-0.3306680947019809%5D%2C%20%5B47.71658252912638%2C%205.776446370855278%2C%202.285405425291658%5D%2C%20%5B46.46698648373915%2C%204.139719707989083%2C%20-0.5251154755618881%5D%2C%20%5B49.06841425221388%2C%202.4319301034697975%2C%202.344120203524322%5D%5D%2C%0A%20%20%20%20%20%20%20%20%20%20%20%20%20%20%20%20%7B%22blur%22%3A%2015%2C%20%22maxZoom%22%3A%2018%2C%20%22minOpacity%22%3A%200.5%2C%20%22radius%22%3A%2025%7D%0A%20%20%20%20%20%20%20%20%20%20%20%20%29.addTo%28map_22d617ca196b4cbea2b20b7872f78a44%29%3B%0A%20%20%20%20%20%20%20%20%0A%3C/script%3E onload=\"this.contentDocument.open();this.contentDocument.write(    decodeURIComponent(this.getAttribute('data-html')));this.contentDocument.close();\" allowfullscreen webkitallowfullscreen mozallowfullscreen></iframe></div></div>",
            "text/plain": "<folium.folium.Map at 0x7f42733485c0>"
          },
          "metadata": {}
        }
      ],
      "execution_count": 27,
      "metadata": {
        "gather": {
          "logged": 1618316432023
        },
        "scrolled": false
      }
    },
    {
      "cell_type": "markdown",
      "source": [
        "folium的其他使用可以参考知乎的这篇文章，较为全面。  \n",
        "https://www.zhihu.com/question/33783546"
      ],
      "metadata": {}
    },
    {
      "cell_type": "markdown",
      "source": [
        "# Kepler.gl  \n",
        "\n",
        "[kepler.gl基础教程](https://sspai.com/post/55655)"
      ],
      "metadata": {}
    },
    {
      "cell_type": "markdown",
      "source": [
        "Kepler.gl与folium类似，也是是一个图形化的数据可视化工具，基于Uber的大数据可视化开源项目deck.gl创建的demo app。目前支持3种数据格式：CSV、JSON、GeoJSON。\n",
        "\n",
        "Kepler.gl[官网](https://kepler.gl/)提供了可视化图形案例，分别是Arc（弧）、Line（线）、Hexagon（六边形）、Point（点）、Heatmap（等高线图）、GeoJSON、Buildings（建筑）。"
      ],
      "metadata": {}
    },
    {
      "cell_type": "markdown",
      "source": [
        "下面用本赛题的数据进行简单的数据处理和基本的kepler.gl的使用"
      ],
      "metadata": {}
    },
    {
      "cell_type": "code",
      "source": [
        "!pip3 install KeplerGl"
      ],
      "outputs": [
        {
          "output_type": "stream",
          "name": "stdout",
          "text": [
            "Requirement already satisfied: KeplerGl in /anaconda/envs/azureml_py36/lib/python3.6/site-packages (0.2.2)\n",
            "Requirement already satisfied: ipywidgets<8,>=7.0.0 in /anaconda/envs/azureml_py36/lib/python3.6/site-packages (from KeplerGl) (7.6.3)\n",
            "Requirement already satisfied: geopandas>=0.5.0 in /anaconda/envs/azureml_py36/lib/python3.6/site-packages (from KeplerGl) (0.9.0)\n",
            "Requirement already satisfied: Shapely>=1.6.4.post2 in /anaconda/envs/azureml_py36/lib/python3.6/site-packages (from KeplerGl) (1.7.1)\n",
            "Requirement already satisfied: pandas>=0.23.0 in /anaconda/envs/azureml_py36/lib/python3.6/site-packages (from KeplerGl) (0.25.3)\n",
            "Requirement already satisfied: traittypes>=0.2.1 in /anaconda/envs/azureml_py36/lib/python3.6/site-packages (from KeplerGl) (0.2.1)\n",
            "Requirement already satisfied: ipython>=4.0.0; python_version >= \"3.3\" in /anaconda/envs/azureml_py36/lib/python3.6/site-packages (from ipywidgets<8,>=7.0.0->KeplerGl) (7.16.1)\n",
            "Requirement already satisfied: nbformat>=4.2.0 in /anaconda/envs/azureml_py36/lib/python3.6/site-packages (from ipywidgets<8,>=7.0.0->KeplerGl) (5.1.2)\n",
            "Requirement already satisfied: traitlets>=4.3.1 in /anaconda/envs/azureml_py36/lib/python3.6/site-packages (from ipywidgets<8,>=7.0.0->KeplerGl) (4.3.3)\n",
            "Requirement already satisfied: jupyterlab-widgets>=1.0.0; python_version >= \"3.6\" in /anaconda/envs/azureml_py36/lib/python3.6/site-packages (from ipywidgets<8,>=7.0.0->KeplerGl) (1.0.0)\n",
            "Requirement already satisfied: ipykernel>=4.5.1 in /anaconda/envs/azureml_py36/lib/python3.6/site-packages (from ipywidgets<8,>=7.0.0->KeplerGl) (5.4.3)\n",
            "Requirement already satisfied: widgetsnbextension~=3.5.0 in /anaconda/envs/azureml_py36/lib/python3.6/site-packages (from ipywidgets<8,>=7.0.0->KeplerGl) (3.5.1)\n",
            "Requirement already satisfied: pyproj>=2.2.0 in /anaconda/envs/azureml_py36/lib/python3.6/site-packages (from geopandas>=0.5.0->KeplerGl) (3.0.1)\n",
            "Requirement already satisfied: fiona>=1.8 in /anaconda/envs/azureml_py36/lib/python3.6/site-packages (from geopandas>=0.5.0->KeplerGl) (1.8.19)\n",
            "Requirement already satisfied: pytz>=2017.2 in /anaconda/envs/azureml_py36/lib/python3.6/site-packages (from pandas>=0.23.0->KeplerGl) (2021.1)\n",
            "Requirement already satisfied: python-dateutil>=2.6.1 in /anaconda/envs/azureml_py36/lib/python3.6/site-packages (from pandas>=0.23.0->KeplerGl) (2.8.1)\n",
            "Requirement already satisfied: numpy>=1.13.3 in /anaconda/envs/azureml_py36/lib/python3.6/site-packages (from pandas>=0.23.0->KeplerGl) (1.18.5)\n",
            "Requirement already satisfied: pickleshare in /anaconda/envs/azureml_py36/lib/python3.6/site-packages (from ipython>=4.0.0; python_version >= \"3.3\"->ipywidgets<8,>=7.0.0->KeplerGl) (0.7.5)\n",
            "Requirement already satisfied: pygments in /anaconda/envs/azureml_py36/lib/python3.6/site-packages (from ipython>=4.0.0; python_version >= \"3.3\"->ipywidgets<8,>=7.0.0->KeplerGl) (2.7.4)\n",
            "Requirement already satisfied: setuptools>=18.5 in /anaconda/envs/azureml_py36/lib/python3.6/site-packages (from ipython>=4.0.0; python_version >= \"3.3\"->ipywidgets<8,>=7.0.0->KeplerGl) (50.3.0)\n",
            "Requirement already satisfied: decorator in /anaconda/envs/azureml_py36/lib/python3.6/site-packages (from ipython>=4.0.0; python_version >= \"3.3\"->ipywidgets<8,>=7.0.0->KeplerGl) (4.4.2)\n",
            "Requirement already satisfied: pexpect; sys_platform != \"win32\" in /anaconda/envs/azureml_py36/lib/python3.6/site-packages (from ipython>=4.0.0; python_version >= \"3.3\"->ipywidgets<8,>=7.0.0->KeplerGl) (4.8.0)\n",
            "Requirement already satisfied: prompt-toolkit!=3.0.0,!=3.0.1,<3.1.0,>=2.0.0 in /anaconda/envs/azureml_py36/lib/python3.6/site-packages (from ipython>=4.0.0; python_version >= \"3.3\"->ipywidgets<8,>=7.0.0->KeplerGl) (3.0.14)\n",
            "Requirement already satisfied: jedi>=0.10 in /anaconda/envs/azureml_py36/lib/python3.6/site-packages (from ipython>=4.0.0; python_version >= \"3.3\"->ipywidgets<8,>=7.0.0->KeplerGl) (0.18.0)\n",
            "Requirement already satisfied: backcall in /anaconda/envs/azureml_py36/lib/python3.6/site-packages (from ipython>=4.0.0; python_version >= \"3.3\"->ipywidgets<8,>=7.0.0->KeplerGl) (0.2.0)\n",
            "Requirement already satisfied: jupyter-core in /anaconda/envs/azureml_py36/lib/python3.6/site-packages (from nbformat>=4.2.0->ipywidgets<8,>=7.0.0->KeplerGl) (4.7.1)\n",
            "Requirement already satisfied: ipython-genutils in /anaconda/envs/azureml_py36/lib/python3.6/site-packages (from nbformat>=4.2.0->ipywidgets<8,>=7.0.0->KeplerGl) (0.2.0)\n",
            "Requirement already satisfied: jsonschema!=2.5.0,>=2.4 in /anaconda/envs/azureml_py36/lib/python3.6/site-packages (from nbformat>=4.2.0->ipywidgets<8,>=7.0.0->KeplerGl) (3.2.0)\n",
            "Requirement already satisfied: six in /anaconda/envs/azureml_py36/lib/python3.6/site-packages (from traitlets>=4.3.1->ipywidgets<8,>=7.0.0->KeplerGl) (1.15.0)\n",
            "Requirement already satisfied: tornado>=4.2 in /anaconda/envs/azureml_py36/lib/python3.6/site-packages (from ipykernel>=4.5.1->ipywidgets<8,>=7.0.0->KeplerGl) (6.1)\n",
            "Requirement already satisfied: jupyter-client in /anaconda/envs/azureml_py36/lib/python3.6/site-packages (from ipykernel>=4.5.1->ipywidgets<8,>=7.0.0->KeplerGl) (6.1.11)\n",
            "Requirement already satisfied: notebook>=4.4.1 in /anaconda/envs/azureml_py36/lib/python3.6/site-packages (from widgetsnbextension~=3.5.0->ipywidgets<8,>=7.0.0->KeplerGl) (6.2.0)\n",
            "Requirement already satisfied: certifi in /anaconda/envs/azureml_py36/lib/python3.6/site-packages (from pyproj>=2.2.0->geopandas>=0.5.0->KeplerGl) (2020.12.5)\n",
            "Requirement already satisfied: click<8,>=4.0 in /anaconda/envs/azureml_py36/lib/python3.6/site-packages (from fiona>=1.8->geopandas>=0.5.0->KeplerGl) (7.1.2)\n",
            "Requirement already satisfied: click-plugins>=1.0 in /anaconda/envs/azureml_py36/lib/python3.6/site-packages (from fiona>=1.8->geopandas>=0.5.0->KeplerGl) (1.1.1)\n",
            "Requirement already satisfied: munch in /anaconda/envs/azureml_py36/lib/python3.6/site-packages (from fiona>=1.8->geopandas>=0.5.0->KeplerGl) (2.5.0)\n",
            "Requirement already satisfied: cligj>=0.5 in /anaconda/envs/azureml_py36/lib/python3.6/site-packages (from fiona>=1.8->geopandas>=0.5.0->KeplerGl) (0.7.1)\n",
            "Requirement already satisfied: attrs>=17 in /anaconda/envs/azureml_py36/lib/python3.6/site-packages (from fiona>=1.8->geopandas>=0.5.0->KeplerGl) (20.3.0)\n",
            "Requirement already satisfied: ptyprocess>=0.5 in /anaconda/envs/azureml_py36/lib/python3.6/site-packages (from pexpect; sys_platform != \"win32\"->ipython>=4.0.0; python_version >= \"3.3\"->ipywidgets<8,>=7.0.0->KeplerGl) (0.7.0)\n",
            "Requirement already satisfied: wcwidth in /anaconda/envs/azureml_py36/lib/python3.6/site-packages (from prompt-toolkit!=3.0.0,!=3.0.1,<3.1.0,>=2.0.0->ipython>=4.0.0; python_version >= \"3.3\"->ipywidgets<8,>=7.0.0->KeplerGl) (0.2.5)\n",
            "Requirement already satisfied: parso<0.9.0,>=0.8.0 in /anaconda/envs/azureml_py36/lib/python3.6/site-packages (from jedi>=0.10->ipython>=4.0.0; python_version >= \"3.3\"->ipywidgets<8,>=7.0.0->KeplerGl) (0.8.1)\n",
            "Requirement already satisfied: importlib-metadata; python_version < \"3.8\" in /anaconda/envs/azureml_py36/lib/python3.6/site-packages (from jsonschema!=2.5.0,>=2.4->nbformat>=4.2.0->ipywidgets<8,>=7.0.0->KeplerGl) (3.4.0)\n",
            "Requirement already satisfied: pyrsistent>=0.14.0 in /anaconda/envs/azureml_py36/lib/python3.6/site-packages (from jsonschema!=2.5.0,>=2.4->nbformat>=4.2.0->ipywidgets<8,>=7.0.0->KeplerGl) (0.17.3)\n",
            "Requirement already satisfied: pyzmq>=13 in /anaconda/envs/azureml_py36/lib/python3.6/site-packages (from jupyter-client->ipykernel>=4.5.1->ipywidgets<8,>=7.0.0->KeplerGl) (22.0.2)\n",
            "Requirement already satisfied: Send2Trash>=1.5.0 in /anaconda/envs/azureml_py36/lib/python3.6/site-packages (from notebook>=4.4.1->widgetsnbextension~=3.5.0->ipywidgets<8,>=7.0.0->KeplerGl) (1.5.0)\n",
            "Requirement already satisfied: nbconvert in /anaconda/envs/azureml_py36/lib/python3.6/site-packages (from notebook>=4.4.1->widgetsnbextension~=3.5.0->ipywidgets<8,>=7.0.0->KeplerGl) (5.6.1)\n",
            "Requirement already satisfied: jinja2 in /anaconda/envs/azureml_py36/lib/python3.6/site-packages (from notebook>=4.4.1->widgetsnbextension~=3.5.0->ipywidgets<8,>=7.0.0->KeplerGl) (2.11.2)\n",
            "Requirement already satisfied: terminado>=0.8.3 in /anaconda/envs/azureml_py36/lib/python3.6/site-packages (from notebook>=4.4.1->widgetsnbextension~=3.5.0->ipywidgets<8,>=7.0.0->KeplerGl) (0.9.2)\n",
            "Requirement already satisfied: prometheus-client in /anaconda/envs/azureml_py36/lib/python3.6/site-packages (from notebook>=4.4.1->widgetsnbextension~=3.5.0->ipywidgets<8,>=7.0.0->KeplerGl) (0.9.0)\n",
            "Requirement already satisfied: argon2-cffi in /anaconda/envs/azureml_py36/lib/python3.6/site-packages (from notebook>=4.4.1->widgetsnbextension~=3.5.0->ipywidgets<8,>=7.0.0->KeplerGl) (20.1.0)\n",
            "Requirement already satisfied: typing-extensions>=3.6.4; python_version < \"3.8\" in /anaconda/envs/azureml_py36/lib/python3.6/site-packages (from importlib-metadata; python_version < \"3.8\"->jsonschema!=2.5.0,>=2.4->nbformat>=4.2.0->ipywidgets<8,>=7.0.0->KeplerGl) (3.7.4.3)\n",
            "Requirement already satisfied: zipp>=0.5 in /anaconda/envs/azureml_py36/lib/python3.6/site-packages (from importlib-metadata; python_version < \"3.8\"->jsonschema!=2.5.0,>=2.4->nbformat>=4.2.0->ipywidgets<8,>=7.0.0->KeplerGl) (3.4.0)\n",
            "Requirement already satisfied: bleach in /anaconda/envs/azureml_py36/lib/python3.6/site-packages (from nbconvert->notebook>=4.4.1->widgetsnbextension~=3.5.0->ipywidgets<8,>=7.0.0->KeplerGl) (3.3.0)\n",
            "Requirement already satisfied: testpath in /anaconda/envs/azureml_py36/lib/python3.6/site-packages (from nbconvert->notebook>=4.4.1->widgetsnbextension~=3.5.0->ipywidgets<8,>=7.0.0->KeplerGl) (0.4.4)\n",
            "Requirement already satisfied: pandocfilters>=1.4.1 in /anaconda/envs/azureml_py36/lib/python3.6/site-packages (from nbconvert->notebook>=4.4.1->widgetsnbextension~=3.5.0->ipywidgets<8,>=7.0.0->KeplerGl) (1.4.3)\n",
            "Requirement already satisfied: mistune<2,>=0.8.1 in /anaconda/envs/azureml_py36/lib/python3.6/site-packages (from nbconvert->notebook>=4.4.1->widgetsnbextension~=3.5.0->ipywidgets<8,>=7.0.0->KeplerGl) (0.8.4)\n",
            "Requirement already satisfied: entrypoints>=0.2.2 in /anaconda/envs/azureml_py36/lib/python3.6/site-packages (from nbconvert->notebook>=4.4.1->widgetsnbextension~=3.5.0->ipywidgets<8,>=7.0.0->KeplerGl) (0.3)\n",
            "Requirement already satisfied: defusedxml in /anaconda/envs/azureml_py36/lib/python3.6/site-packages (from nbconvert->notebook>=4.4.1->widgetsnbextension~=3.5.0->ipywidgets<8,>=7.0.0->KeplerGl) (0.6.0)\n",
            "Requirement already satisfied: MarkupSafe>=0.23 in /anaconda/envs/azureml_py36/lib/python3.6/site-packages (from jinja2->notebook>=4.4.1->widgetsnbextension~=3.5.0->ipywidgets<8,>=7.0.0->KeplerGl) (1.1.1)\n",
            "Requirement already satisfied: cffi>=1.0.0 in /anaconda/envs/azureml_py36/lib/python3.6/site-packages (from argon2-cffi->notebook>=4.4.1->widgetsnbextension~=3.5.0->ipywidgets<8,>=7.0.0->KeplerGl) (1.14.4)\n",
            "Requirement already satisfied: packaging in /anaconda/envs/azureml_py36/lib/python3.6/site-packages (from bleach->nbconvert->notebook>=4.4.1->widgetsnbextension~=3.5.0->ipywidgets<8,>=7.0.0->KeplerGl) (20.9)\n",
            "Requirement already satisfied: webencodings in /anaconda/envs/azureml_py36/lib/python3.6/site-packages (from bleach->nbconvert->notebook>=4.4.1->widgetsnbextension~=3.5.0->ipywidgets<8,>=7.0.0->KeplerGl) (0.5.1)\n",
            "Requirement already satisfied: pycparser in /anaconda/envs/azureml_py36/lib/python3.6/site-packages (from cffi>=1.0.0->argon2-cffi->notebook>=4.4.1->widgetsnbextension~=3.5.0->ipywidgets<8,>=7.0.0->KeplerGl) (2.20)\n",
            "Requirement already satisfied: pyparsing>=2.0.2 in /anaconda/envs/azureml_py36/lib/python3.6/site-packages (from packaging->bleach->nbconvert->notebook>=4.4.1->widgetsnbextension~=3.5.0->ipywidgets<8,>=7.0.0->KeplerGl) (2.4.7)\n"
          ]
        }
      ],
      "execution_count": 28,
      "metadata": {
        "collapsed": true,
        "jupyter": {
          "outputs_hidden": false,
          "source_hidden": false
        },
        "nteract": {
          "transient": {
            "deleting": false
          }
        }
      }
    },
    {
      "cell_type": "code",
      "source": [
        "import pandas as pd \n",
        "import geopandas as gpd\n",
        "from pyproj import Proj \n",
        "from keplergl import KeplerGl\n",
        "from tqdm import tqdm\n",
        "import os \n",
        "import matplotlib.pyplot as plt\n",
        "import shapely\n",
        "import numpy as np\n",
        "from datetime import datetime  \n",
        "import warnings\n",
        "warnings.filterwarnings('ignore')\n",
        "plt.rcParams['font.sans-serif'] = ['SimSun']    # 指定默认字体为新宋体。\n",
        "plt.rcParams['axes.unicode_minus'] = False      # 解决保存图像时 负号'-' 显示为方块和报错的问题。"
      ],
      "outputs": [],
      "execution_count": 1,
      "metadata": {
        "gather": {
          "logged": 1618368871664
        }
      }
    },
    {
      "cell_type": "code",
      "source": [
        "#获取文件夹中的数据\n",
        "def get_data(file_path,model):\n",
        "    assert model in ['train', 'test'], '{} Not Support this type of file'.format(model)\n",
        "    paths = os.listdir(file_path)\n",
        "#     print(len(paths))\n",
        "    tmp = []\n",
        "    for t in tqdm(range(len(paths))):\n",
        "        p = paths[t]\n",
        "        with open('{}/{}'.format(file_path, p), encoding='utf-8') as f:\n",
        "            next(f)\n",
        "            for line in f.readlines():\n",
        "                tmp.append(line.strip().split(','))\n",
        "    tmp_df = pd.DataFrame(tmp)\n",
        "    if model == 'train':\n",
        "        tmp_df.columns = ['ID', 'lat', 'lon', 'speed', 'direction', 'time', 'type']\n",
        "    else:\n",
        "        tmp_df['type'] = 'unknown'\n",
        "        tmp_df.columns = ['ID', 'lat', 'lon', 'speed', 'direction', 'time', 'type']\n",
        "    tmp_df['lat'] = tmp_df['lat'].astype(float)\n",
        "    tmp_df['lon'] = tmp_df['lon'].astype(float)\n",
        "    tmp_df['speed'] = tmp_df['speed'].astype(float)\n",
        "    tmp_df['direction'] = tmp_df['direction'].astype(float)#如果该行代码运行失败，请尝试更新pandas的版本  #Update type from int to float 14/04/21\n",
        "    return tmp_df\n",
        "# 平面坐标转经纬度，供初赛数据使用\n",
        "# 选择标准为NAD83 / California zone 6 (ftUS) (EPSG:2230)，查询链接：https://mygeodata.cloud/cs2cs/\n",
        "def transform_xy2lonlat(df):\n",
        "    x = df['lat'].values\n",
        "    y = df['lon'].values\n",
        "    p=Proj('+proj=lcc +lat_1=33.88333333333333 +lat_2=32.78333333333333 +lat_0=32.16666666666666 +lon_0=-116.25 +x_0=2000000.0001016 +y_0=500000.0001016001 +datum=NAD83 +units=us-ft +no_defs ')\n",
        "    df['lon'], df['lat'] = p(y, x, inverse=True)\n",
        "    return df  \n",
        "#修改数据的时间格式\n",
        "def reformat_strtime(time_str=None, START_YEAR=\"2019\"):\n",
        "    \"\"\"Reformat the strtime with the form '08 14' to 'START_YEAR-08-14' \"\"\"\n",
        "    time_str_split = time_str.split(\" \")\n",
        "    time_str_reformat = START_YEAR + \"-\" + time_str_split[0][:2] + \"-\" + time_str_split[0][2:4]\n",
        "    time_str_reformat = time_str_reformat + \" \" + time_str_split[1]\n",
        "#     time_reformat=datetime.strptime(time_str_reformat,'%Y-%m-%d %H:%M:%S')\n",
        "    return time_str_reformat\n",
        "#计算两个点的距离\n",
        "def haversine_np(lon1, lat1, lon2, lat2):\n",
        "    lon1, lat1, lon2, lat2 = map(np.radians, [lon1, lat1, lon2, lat2])\n",
        "    dlon = lon2 - lon1\n",
        "    dlat = lat2 - lat1\n",
        "\n",
        "    a = np.sin(dlat/2.0)**2 + np.cos(lat1) * np.cos(lat2) * np.sin(dlon/2.0)**2\n",
        "\n",
        "    c = 2 * np.arcsin(np.sqrt(a))\n",
        "    km = 6367 * c\n",
        "    return km * 1000\n",
        "\n",
        "def compute_traj_diff_time_distance(traj=None):\n",
        "    \"\"\"Compute the sampling time and the coordinate distance.\"\"\"\n",
        "    # 计算时间的差值\n",
        "    time_diff_array = (traj[\"time\"].iloc[1:].reset_index(drop=True) - traj[\n",
        "        \"time\"].iloc[:-1].reset_index(drop=True)).dt.total_seconds() / 60\n",
        "\n",
        "    # 计算坐标之间的距离\n",
        "    dist_diff_array = haversine_np(traj[\"lon\"].values[1:],  # lon_0\n",
        "                                   traj[\"lat\"].values[1:],  # lat_0\n",
        "                                   traj[\"lon\"].values[:-1], # lon_1\n",
        "                                   traj[\"lat\"].values[:-1]  # lat_1\n",
        "                                   )\n",
        "\n",
        "    # 填充第一个值\n",
        "    time_diff_array = [time_diff_array.mean()] + time_diff_array.tolist()\n",
        "    dist_diff_array = [dist_diff_array.mean()] + dist_diff_array.tolist()\n",
        "    traj.loc[list(traj.index),'time_array'] = time_diff_array\n",
        "    traj.loc[list(traj.index),'dist_array'] = dist_diff_array\n",
        "    return traj \n",
        "\n",
        "#对轨迹进行异常点的剔除\n",
        "def assign_traj_anomaly_points_nan(traj=None, speed_maximum=23,\n",
        "                                   time_interval_maximum=200,\n",
        "                                   coord_speed_maximum=700):\n",
        "    \"\"\"Assign the anomaly points in traj to np.nan.\"\"\"\n",
        "    def thigma_data(data_y,n): \n",
        "        data_x =[i for i in range(len(data_y))]\n",
        "        ymean = np.mean(data_y)\n",
        "        ystd = np.std(data_y)\n",
        "        threshold1 = ymean - n * ystd\n",
        "        threshold2 = ymean + n * ystd\n",
        "        judge=[]\n",
        "        for data in data_y:\n",
        "            if (data < threshold1)|(data> threshold2):\n",
        "                judge.append(True)\n",
        "            else:\n",
        "                judge.append(False)\n",
        "        return judge\n",
        "    # Step 1: The speed anomaly repairing\n",
        "    is_speed_anomaly = (traj[\"speed\"] > speed_maximum) | (traj[\"speed\"] < 0)\n",
        "    traj[\"speed\"][is_speed_anomaly] = np.nan\n",
        "\n",
        "    # Step 2: 根据距离和时间计算速度\n",
        "    is_anomaly = np.array([False] * len(traj))\n",
        "    traj[\"coord_speed\"] = traj[\"dist_array\"] / traj[\"time_array\"]\n",
        "    \n",
        "    # Condition 1: 根据3-sigma算法剔除coord speed以及较大时间间隔的点\n",
        "    is_anomaly_tmp = pd.Series(thigma_data(traj[\"time_array\"],3)) | pd.Series(thigma_data(traj[\"coord_speed\"],3))\n",
        "    is_anomaly = is_anomaly | is_anomaly_tmp\n",
        "    is_anomaly.index=traj.index\n",
        "    # Condition 2: 轨迹点的3-sigma异常处理\n",
        "    traj = traj[~is_anomaly].reset_index(drop=True)\n",
        "    is_anomaly = np.array([False] * len(traj))\n",
        "\n",
        "    if len(traj) != 0:\n",
        "        lon_std, lon_mean = traj[\"lon\"].std(), traj[\"lon\"].mean()\n",
        "        lat_std, lat_mean = traj[\"lat\"].std(), traj[\"lat\"].mean()\n",
        "        lon_low, lon_high = lon_mean - 3 * lon_std, lon_mean + 3 * lon_std\n",
        "        lat_low, lat_high = lat_mean - 3 * lat_std, lat_mean + 3 * lat_std\n",
        "\n",
        "        is_anomaly = is_anomaly | (traj[\"lon\"] > lon_high) | ((traj[\"lon\"] < lon_low))\n",
        "        is_anomaly = is_anomaly | (traj[\"lat\"] > lat_high) | ((traj[\"lat\"] < lat_low))\n",
        "        traj = traj[~is_anomaly].reset_index(drop=True)\n",
        "    return traj, [len(is_speed_anomaly) - len(traj)]"
      ],
      "outputs": [],
      "execution_count": 3,
      "metadata": {
        "gather": {
          "logged": 1618364250981
        }
      }
    },
    {
      "cell_type": "code",
      "source": [
        "!unzip -qq ./data/hy_round1_testA_20200102.zip\r\n",
        "!\\rm ./data/hy_round1_testA_20200102.zip\r\n",
        "\r\n",
        "!unzip -qq ./data/hy_round1_train_20200102.zip\r\n",
        "!\\rm ./data/hy_round1_train_20200102.zip\r\n"
      ],
      "outputs": [
        {
          "output_type": "stream",
          "name": "stdout",
          "text": [
            "rm: cannot remove 'hy_round1_testA_20200102.zip': No such file or directory\n",
            "rm: cannot remove 'hy_round1_train_20200102.zip': No such file or directory\n"
          ]
        }
      ],
      "execution_count": 31,
      "metadata": {
        "collapsed": true,
        "gather": {
          "logged": 1618317235132
        },
        "jupyter": {
          "outputs_hidden": false,
          "source_hidden": false
        },
        "nteract": {
          "transient": {
            "deleting": false
          }
        }
      }
    },
    {
      "cell_type": "code",
      "source": [
        "!\\rm ./data/hy_round1_testA_20200102.zip\r\n",
        "\r\n",
        "!\\rm ./data/hy_round1_train_20200102.zip\r\n"
      ],
      "outputs": [],
      "execution_count": null,
      "metadata": {
        "collapsed": true,
        "jupyter": {
          "outputs_hidden": false,
          "source_hidden": false
        },
        "nteract": {
          "transient": {
            "deleting": false
          }
        }
      }
    },
    {
      "cell_type": "code",
      "source": [
        "df=get_data(r'hy_round1_train_20200102','train')"
      ],
      "outputs": [
        {
          "output_type": "stream",
          "name": "stderr",
          "text": [
            "100%|██████████| 7000/7000 [03:17<00:00, 35.48it/s]\n"
          ]
        }
      ],
      "execution_count": 4,
      "metadata": {
        "gather": {
          "logged": 1618364474589
        },
        "jupyter": {
          "outputs_hidden": true
        }
      }
    },
    {
      "cell_type": "code",
      "source": [
        "df=transform_xy2lonlat(df)\n",
        "df['time']=df['time'].apply(reformat_strtime)\n",
        "df['time']=df['time'].apply(lambda x: datetime.strptime(x,'%Y-%m-%d %H:%M:%S'))"
      ],
      "outputs": [],
      "execution_count": 5,
      "metadata": {
        "gather": {
          "logged": 1618364557523
        }
      }
    },
    {
      "cell_type": "code",
      "source": [
        "#这一个cell的代码不用运行，DF.csv该数据已经放到了github上面给出的附件数据里面\n",
        "\n",
        "#对轨迹进行异常点剔除，对nan值进行线性插值\n",
        "ID_list=list(pd.DataFrame(df['ID'].value_counts()).index)\n",
        "DF_NEW=[]\n",
        "Anomaly_count=[]\n",
        "for ID in tqdm(ID_list):\n",
        "    df_id=compute_traj_diff_time_distance(df[df['ID']==ID])\n",
        "    df_new,count=assign_traj_anomaly_points_nan(df_id)\n",
        "    df_new[\"speed\"] = df_new[\"speed\"].interpolate(method=\"linear\", axis=0)\n",
        "    df_new = df_new.fillna(method=\"bfill\")\n",
        "    df_new = df_new.fillna(method=\"ffill\")\n",
        "    df_new[\"speed\"] = df_new[\"speed\"].clip(0, 23)\n",
        "    Anomaly_count.append(count)#统计每个id异常点的数量有多少\n",
        "    DF_NEW.append(df_new)\n",
        "DF=pd.concat(DF_NEW)"
      ],
      "outputs": [
        {
          "output_type": "stream",
          "name": "stderr",
          "text": [
            "100%|██████████| 7000/7000 [16:18<00:00,  7.15it/s]\n"
          ]
        }
      ],
      "execution_count": 6,
      "metadata": {
        "gather": {
          "logged": 1618365556905
        }
      }
    },
    {
      "cell_type": "code",
      "source": [
        "#读取github的数据\n",
        "DF=pd.read_csv('./data/DF.csv')"
      ],
      "outputs": [],
      "execution_count": 7,
      "metadata": {
        "gather": {
          "logged": 1618365583622
        }
      }
    },
    {
      "cell_type": "markdown",
      "source": [
        "由于数据量过大，如果直接将轨迹异常点剔除的数据用kepler.gl展示则在程序运行时会出现卡顿，或者无法运行的情况，此时可尝试利用geopandas对数据利用douglas-peucker算法进行简化。有效简化后的矢量数据可以在不损失太多视觉感知到的准确度的同时，带来巨大的性能提升。"
      ],
      "metadata": {}
    },
    {
      "cell_type": "code",
      "source": [
        "#douglas-peucker案例，由该案例可以看出针对相同ID的轨迹，可以先用geopandas将其进行简化和数据压缩\n",
        "line= shapely.geometry.LineString(np.array(df[df['ID']=='11'][['lon','lat']]))\n",
        "ax=gpd.GeoSeries([line]).plot(color='red')\n",
        "ax = gpd.GeoSeries([line]).simplify(tolerance=0.000000001).plot(color='blue', \n",
        "                                                        ax=ax,\n",
        "                                                        linestyle='--')\n",
        "LegendElement = [plt.Line2D([], [], color='red', label='简化前'),\n",
        "                 plt.Line2D([], [], color='blue', linestyle='--', label='简化后')]\n",
        "\n",
        "# 将制作好的图例映射对象列表导入legend()中，并配置相关参数\n",
        "ax.legend(handles = LegendElement, \n",
        "          loc='upper left', \n",
        "          fontsize=10)\n",
        "# ax.set_ylim((-2.1, 1))\n",
        "# ax.axis('off')\n",
        "print('化简前数据长度：'+str(len(np.array(gpd.GeoSeries([line])[0]))))\n",
        "print('化简后数据长度：'+str(len(np.array(gpd.GeoSeries([line]).simplify(tolerance=0.000000001)[0]))))"
      ],
      "outputs": [
        {
          "output_type": "stream",
          "name": "stderr",
          "text": [
            "findfont: Font family ['sans-serif'] not found. Falling back to DejaVu Sans.\n"
          ]
        },
        {
          "output_type": "stream",
          "name": "stdout",
          "text": [
            "化简前数据长度：377\n",
            "化简后数据长度：156\n"
          ]
        },
        {
          "output_type": "display_data",
          "data": {
            "text/plain": "<Figure size 432x288 with 1 Axes>",
            "image/png": "[encoded data removed]"
          },
          "metadata": {
            "needs_background": "light"
          }
        }
      ],
      "execution_count": 8,
      "metadata": {
        "gather": {
          "logged": 1618365600689
        }
      }
    },
    {
      "cell_type": "code",
      "source": [
        "#定义数据简化函数。即通过shapely库将经纬度转换成LineString格式\n",
        "#然后放入GeoSeries数据结构中并进行简化，最后再将所有数据放入GeoDataFrame中\n",
        "def simplify_dataframe(df):\n",
        "    line_list=[]\n",
        "    for i in tqdm(dict(list(df.groupby('ID')))):\n",
        "        line_dict={}\n",
        "        lat_lon=dict(list(df.groupby('ID')))[i][['lon','lat']]\n",
        "        line=shapely.geometry.LineString(np.array(lat_lon))\n",
        "        line_dict['ID']=dict(list(df.groupby('ID')))[i].iloc[0]['ID']\n",
        "        line_dict['type']=dict(list(df.groupby('ID')))[i].iloc[0]['type']  \n",
        "        line_dict['geometry']=gpd.GeoSeries([line]).simplify(tolerance=0.000000001)[0]\n",
        "        line_list.append(line_dict)\n",
        "    return gpd.GeoDataFrame(line_list)"
      ],
      "outputs": [],
      "execution_count": 7,
      "metadata": {
        "gather": {
          "logged": 1618360604483
        }
      }
    },
    {
      "cell_type": "code",
      "source": [
        "df_gpd_change=simplify_dataframe(DF)"
      ],
      "outputs": [
        {
          "output_type": "stream",
          "name": "stderr",
          "text": [
            "  3%|▎         | 211/7000 [23:11<12:33:14,  6.66s/it]"
          ]
        }
      ],
      "execution_count": 8,
      "metadata": {}
    },
    {
      "cell_type": "markdown",
      "source": [
        "df_gpd_change.pkl是将异常处理之后的数据进行douglas-peucker算法进行压缩之后的数据。该数据已经放到了github上面给出的附件数据里面"
      ],
      "metadata": {}
    },
    {
      "cell_type": "code",
      "source": [
        "df_gpd_change=pd.read_pickle('df_gpd_change.pkl') "
      ],
      "outputs": [],
      "execution_count": 3,
      "metadata": {}
    },
    {
      "cell_type": "code",
      "source": [
        "df_gpd_change=pd.read_csv(\"./data/df_gpd_change.csv\")"
      ],
      "outputs": [],
      "execution_count": 2,
      "metadata": {
        "collapsed": true,
        "jupyter": {
          "source_hidden": false,
          "outputs_hidden": false
        },
        "nteract": {
          "transient": {
            "deleting": false
          }
        },
        "gather": {
          "logged": 1618368879663
        }
      }
    },
    {
      "cell_type": "code",
      "source": [
        "df_gpd_change.head()"
      ],
      "outputs": [
        {
          "output_type": "execute_result",
          "execution_count": 3,
          "data": {
            "text/plain": "   ID type                                           geometry\n0   0   拖网  LINESTRING (-121.6133375263958 44.292814486328...\n1   1   拖网  LINESTRING (-121.863106945724 44.1696051156698...\n2   2   拖网  LINESTRING (-121.3898724542208 44.474984884055...\n3   3   拖网  LINESTRING (-123.3394334359053 41.811143217304...\n4   4   围网  LINESTRING (-117.9455099065786 46.906676924576...",
            "text/html": "<div>\n<style scoped>\n    .dataframe tbody tr th:only-of-type {\n        vertical-align: middle;\n    }\n\n    .dataframe tbody tr th {\n        vertical-align: top;\n    }\n\n    .dataframe thead th {\n        text-align: right;\n    }\n</style>\n<table border=\"1\" class=\"dataframe\">\n  <thead>\n    <tr style=\"text-align: right;\">\n      <th></th>\n      <th>ID</th>\n      <th>type</th>\n      <th>geometry</th>\n    </tr>\n  </thead>\n  <tbody>\n    <tr>\n      <th>0</th>\n      <td>0</td>\n      <td>拖网</td>\n      <td>LINESTRING (-121.6133375263958 44.292814486328...</td>\n    </tr>\n    <tr>\n      <th>1</th>\n      <td>1</td>\n      <td>拖网</td>\n      <td>LINESTRING (-121.863106945724 44.1696051156698...</td>\n    </tr>\n    <tr>\n      <th>2</th>\n      <td>2</td>\n      <td>拖网</td>\n      <td>LINESTRING (-121.3898724542208 44.474984884055...</td>\n    </tr>\n    <tr>\n      <th>3</th>\n      <td>3</td>\n      <td>拖网</td>\n      <td>LINESTRING (-123.3394334359053 41.811143217304...</td>\n    </tr>\n    <tr>\n      <th>4</th>\n      <td>4</td>\n      <td>围网</td>\n      <td>LINESTRING (-117.9455099065786 46.906676924576...</td>\n    </tr>\n  </tbody>\n</table>\n</div>"
          },
          "metadata": {}
        }
      ],
      "execution_count": 3,
      "metadata": {
        "collapsed": true,
        "jupyter": {
          "source_hidden": false,
          "outputs_hidden": false
        },
        "nteract": {
          "transient": {
            "deleting": false
          }
        },
        "gather": {
          "logged": 1618368891293
        }
      }
    },
    {
      "cell_type": "code",
      "source": [
        "!pip3 uninstall -y keplergl"
      ],
      "outputs": [
        {
          "output_type": "stream",
          "name": "stdout",
          "text": [
            "Found existing installation: keplergl 0.2.2\r\n",
            "Uninstalling keplergl-0.2.2:\r\n",
            "  Successfully uninstalled keplergl-0.2.2\r\n"
          ]
        }
      ],
      "execution_count": 15,
      "metadata": {
        "collapsed": true,
        "jupyter": {
          "source_hidden": false,
          "outputs_hidden": false
        },
        "nteract": {
          "transient": {
            "deleting": false
          }
        }
      }
    },
    {
      "cell_type": "code",
      "source": [
        "!pip3 install keplergl"
      ],
      "outputs": [
        {
          "output_type": "stream",
          "name": "stdout",
          "text": [
            "Processing /home/azureuser/.cache/pip/wheels/13/12/7e/77e8bdcc2b0879b9c4b7ad4138497bd962cfb1449ae2c4871a/keplergl-0.2.2-py2.py3-none-any.whl\n",
            "Requirement already satisfied: traittypes>=0.2.1 in /anaconda/envs/azureml_py36/lib/python3.6/site-packages (from keplergl) (0.2.1)\n",
            "Requirement already satisfied: ipywidgets<8,>=7.0.0 in /anaconda/envs/azureml_py36/lib/python3.6/site-packages (from keplergl) (7.6.3)\n",
            "Requirement already satisfied: pandas>=0.23.0 in /anaconda/envs/azureml_py36/lib/python3.6/site-packages (from keplergl) (0.25.3)\n",
            "Requirement already satisfied: Shapely>=1.6.4.post2 in /anaconda/envs/azureml_py36/lib/python3.6/site-packages (from keplergl) (1.7.1)\n",
            "Requirement already satisfied: geopandas>=0.5.0 in /anaconda/envs/azureml_py36/lib/python3.6/site-packages (from keplergl) (0.9.0)\n",
            "Requirement already satisfied: traitlets>=4.2.2 in /anaconda/envs/azureml_py36/lib/python3.6/site-packages (from traittypes>=0.2.1->keplergl) (4.3.3)\n",
            "Requirement already satisfied: jupyterlab-widgets>=1.0.0; python_version >= \"3.6\" in /anaconda/envs/azureml_py36/lib/python3.6/site-packages (from ipywidgets<8,>=7.0.0->keplergl) (1.0.0)\n",
            "Requirement already satisfied: widgetsnbextension~=3.5.0 in /anaconda/envs/azureml_py36/lib/python3.6/site-packages (from ipywidgets<8,>=7.0.0->keplergl) (3.5.1)\n",
            "Requirement already satisfied: ipykernel>=4.5.1 in /anaconda/envs/azureml_py36/lib/python3.6/site-packages (from ipywidgets<8,>=7.0.0->keplergl) (5.4.3)\n",
            "Requirement already satisfied: ipython>=4.0.0; python_version >= \"3.3\" in /anaconda/envs/azureml_py36/lib/python3.6/site-packages (from ipywidgets<8,>=7.0.0->keplergl) (7.16.1)\n",
            "Requirement already satisfied: nbformat>=4.2.0 in /anaconda/envs/azureml_py36/lib/python3.6/site-packages (from ipywidgets<8,>=7.0.0->keplergl) (5.1.2)\n",
            "Requirement already satisfied: numpy>=1.13.3 in /anaconda/envs/azureml_py36/lib/python3.6/site-packages (from pandas>=0.23.0->keplergl) (1.18.5)\n",
            "Requirement already satisfied: pytz>=2017.2 in /anaconda/envs/azureml_py36/lib/python3.6/site-packages (from pandas>=0.23.0->keplergl) (2021.1)\n",
            "Requirement already satisfied: python-dateutil>=2.6.1 in /anaconda/envs/azureml_py36/lib/python3.6/site-packages (from pandas>=0.23.0->keplergl) (2.8.1)\n",
            "Requirement already satisfied: pyproj>=2.2.0 in /anaconda/envs/azureml_py36/lib/python3.6/site-packages (from geopandas>=0.5.0->keplergl) (3.0.1)\n",
            "Requirement already satisfied: fiona>=1.8 in /anaconda/envs/azureml_py36/lib/python3.6/site-packages (from geopandas>=0.5.0->keplergl) (1.8.19)\n",
            "Requirement already satisfied: decorator in /anaconda/envs/azureml_py36/lib/python3.6/site-packages (from traitlets>=4.2.2->traittypes>=0.2.1->keplergl) (4.4.2)\n",
            "Requirement already satisfied: six in /anaconda/envs/azureml_py36/lib/python3.6/site-packages (from traitlets>=4.2.2->traittypes>=0.2.1->keplergl) (1.15.0)\n",
            "Requirement already satisfied: ipython-genutils in /anaconda/envs/azureml_py36/lib/python3.6/site-packages (from traitlets>=4.2.2->traittypes>=0.2.1->keplergl) (0.2.0)\n",
            "Requirement already satisfied: notebook>=4.4.1 in /anaconda/envs/azureml_py36/lib/python3.6/site-packages (from widgetsnbextension~=3.5.0->ipywidgets<8,>=7.0.0->keplergl) (6.2.0)\n",
            "Requirement already satisfied: jupyter-client in /anaconda/envs/azureml_py36/lib/python3.6/site-packages (from ipykernel>=4.5.1->ipywidgets<8,>=7.0.0->keplergl) (6.1.11)\n",
            "Requirement already satisfied: tornado>=4.2 in /anaconda/envs/azureml_py36/lib/python3.6/site-packages (from ipykernel>=4.5.1->ipywidgets<8,>=7.0.0->keplergl) (6.1)\n",
            "Requirement already satisfied: setuptools>=18.5 in /anaconda/envs/azureml_py36/lib/python3.6/site-packages (from ipython>=4.0.0; python_version >= \"3.3\"->ipywidgets<8,>=7.0.0->keplergl) (50.3.0)\n",
            "Requirement already satisfied: prompt-toolkit!=3.0.0,!=3.0.1,<3.1.0,>=2.0.0 in /anaconda/envs/azureml_py36/lib/python3.6/site-packages (from ipython>=4.0.0; python_version >= \"3.3\"->ipywidgets<8,>=7.0.0->keplergl) (3.0.14)\n",
            "Requirement already satisfied: pickleshare in /anaconda/envs/azureml_py36/lib/python3.6/site-packages (from ipython>=4.0.0; python_version >= \"3.3\"->ipywidgets<8,>=7.0.0->keplergl) (0.7.5)\n",
            "Requirement already satisfied: backcall in /anaconda/envs/azureml_py36/lib/python3.6/site-packages (from ipython>=4.0.0; python_version >= \"3.3\"->ipywidgets<8,>=7.0.0->keplergl) (0.2.0)\n",
            "Requirement already satisfied: pygments in /anaconda/envs/azureml_py36/lib/python3.6/site-packages (from ipython>=4.0.0; python_version >= \"3.3\"->ipywidgets<8,>=7.0.0->keplergl) (2.7.4)\n",
            "Requirement already satisfied: jedi>=0.10 in /anaconda/envs/azureml_py36/lib/python3.6/site-packages (from ipython>=4.0.0; python_version >= \"3.3\"->ipywidgets<8,>=7.0.0->keplergl) (0.18.0)\n",
            "Requirement already satisfied: pexpect; sys_platform != \"win32\" in /anaconda/envs/azureml_py36/lib/python3.6/site-packages (from ipython>=4.0.0; python_version >= \"3.3\"->ipywidgets<8,>=7.0.0->keplergl) (4.8.0)\n",
            "Requirement already satisfied: jupyter-core in /anaconda/envs/azureml_py36/lib/python3.6/site-packages (from nbformat>=4.2.0->ipywidgets<8,>=7.0.0->keplergl) (4.7.1)\n",
            "Requirement already satisfied: jsonschema!=2.5.0,>=2.4 in /anaconda/envs/azureml_py36/lib/python3.6/site-packages (from nbformat>=4.2.0->ipywidgets<8,>=7.0.0->keplergl) (3.2.0)\n",
            "Requirement already satisfied: certifi in /anaconda/envs/azureml_py36/lib/python3.6/site-packages (from pyproj>=2.2.0->geopandas>=0.5.0->keplergl) (2020.12.5)\n",
            "Requirement already satisfied: click-plugins>=1.0 in /anaconda/envs/azureml_py36/lib/python3.6/site-packages (from fiona>=1.8->geopandas>=0.5.0->keplergl) (1.1.1)\n",
            "Requirement already satisfied: attrs>=17 in /anaconda/envs/azureml_py36/lib/python3.6/site-packages (from fiona>=1.8->geopandas>=0.5.0->keplergl) (20.3.0)\n",
            "Requirement already satisfied: munch in /anaconda/envs/azureml_py36/lib/python3.6/site-packages (from fiona>=1.8->geopandas>=0.5.0->keplergl) (2.5.0)\n",
            "Requirement already satisfied: cligj>=0.5 in /anaconda/envs/azureml_py36/lib/python3.6/site-packages (from fiona>=1.8->geopandas>=0.5.0->keplergl) (0.7.1)\n",
            "Requirement already satisfied: click<8,>=4.0 in /anaconda/envs/azureml_py36/lib/python3.6/site-packages (from fiona>=1.8->geopandas>=0.5.0->keplergl) (7.1.2)\n",
            "Requirement already satisfied: pyzmq>=17 in /anaconda/envs/azureml_py36/lib/python3.6/site-packages (from notebook>=4.4.1->widgetsnbextension~=3.5.0->ipywidgets<8,>=7.0.0->keplergl) (22.0.2)\n",
            "Requirement already satisfied: nbconvert in /anaconda/envs/azureml_py36/lib/python3.6/site-packages (from notebook>=4.4.1->widgetsnbextension~=3.5.0->ipywidgets<8,>=7.0.0->keplergl) (5.6.1)\n",
            "Requirement already satisfied: Send2Trash>=1.5.0 in /anaconda/envs/azureml_py36/lib/python3.6/site-packages (from notebook>=4.4.1->widgetsnbextension~=3.5.0->ipywidgets<8,>=7.0.0->keplergl) (1.5.0)\n",
            "Requirement already satisfied: terminado>=0.8.3 in /anaconda/envs/azureml_py36/lib/python3.6/site-packages (from notebook>=4.4.1->widgetsnbextension~=3.5.0->ipywidgets<8,>=7.0.0->keplergl) (0.9.2)\n",
            "Requirement already satisfied: prometheus-client in /anaconda/envs/azureml_py36/lib/python3.6/site-packages (from notebook>=4.4.1->widgetsnbextension~=3.5.0->ipywidgets<8,>=7.0.0->keplergl) (0.9.0)\n",
            "Requirement already satisfied: jinja2 in /anaconda/envs/azureml_py36/lib/python3.6/site-packages (from notebook>=4.4.1->widgetsnbextension~=3.5.0->ipywidgets<8,>=7.0.0->keplergl) (2.11.2)\n",
            "Requirement already satisfied: argon2-cffi in /anaconda/envs/azureml_py36/lib/python3.6/site-packages (from notebook>=4.4.1->widgetsnbextension~=3.5.0->ipywidgets<8,>=7.0.0->keplergl) (20.1.0)\n",
            "Requirement already satisfied: wcwidth in /anaconda/envs/azureml_py36/lib/python3.6/site-packages (from prompt-toolkit!=3.0.0,!=3.0.1,<3.1.0,>=2.0.0->ipython>=4.0.0; python_version >= \"3.3\"->ipywidgets<8,>=7.0.0->keplergl) (0.2.5)\n",
            "Requirement already satisfied: parso<0.9.0,>=0.8.0 in /anaconda/envs/azureml_py36/lib/python3.6/site-packages (from jedi>=0.10->ipython>=4.0.0; python_version >= \"3.3\"->ipywidgets<8,>=7.0.0->keplergl) (0.8.1)\n",
            "Requirement already satisfied: ptyprocess>=0.5 in /anaconda/envs/azureml_py36/lib/python3.6/site-packages (from pexpect; sys_platform != \"win32\"->ipython>=4.0.0; python_version >= \"3.3\"->ipywidgets<8,>=7.0.0->keplergl) (0.7.0)\n",
            "Requirement already satisfied: importlib-metadata; python_version < \"3.8\" in /anaconda/envs/azureml_py36/lib/python3.6/site-packages (from jsonschema!=2.5.0,>=2.4->nbformat>=4.2.0->ipywidgets<8,>=7.0.0->keplergl) (3.4.0)\n",
            "Requirement already satisfied: pyrsistent>=0.14.0 in /anaconda/envs/azureml_py36/lib/python3.6/site-packages (from jsonschema!=2.5.0,>=2.4->nbformat>=4.2.0->ipywidgets<8,>=7.0.0->keplergl) (0.17.3)\n",
            "Requirement already satisfied: pandocfilters>=1.4.1 in /anaconda/envs/azureml_py36/lib/python3.6/site-packages (from nbconvert->notebook>=4.4.1->widgetsnbextension~=3.5.0->ipywidgets<8,>=7.0.0->keplergl) (1.4.3)\n",
            "Requirement already satisfied: mistune<2,>=0.8.1 in /anaconda/envs/azureml_py36/lib/python3.6/site-packages (from nbconvert->notebook>=4.4.1->widgetsnbextension~=3.5.0->ipywidgets<8,>=7.0.0->keplergl) (0.8.4)\n",
            "Requirement already satisfied: testpath in /anaconda/envs/azureml_py36/lib/python3.6/site-packages (from nbconvert->notebook>=4.4.1->widgetsnbextension~=3.5.0->ipywidgets<8,>=7.0.0->keplergl) (0.4.4)\n",
            "Requirement already satisfied: defusedxml in /anaconda/envs/azureml_py36/lib/python3.6/site-packages (from nbconvert->notebook>=4.4.1->widgetsnbextension~=3.5.0->ipywidgets<8,>=7.0.0->keplergl) (0.6.0)\n",
            "Requirement already satisfied: bleach in /anaconda/envs/azureml_py36/lib/python3.6/site-packages (from nbconvert->notebook>=4.4.1->widgetsnbextension~=3.5.0->ipywidgets<8,>=7.0.0->keplergl) (3.3.0)\n",
            "Requirement already satisfied: entrypoints>=0.2.2 in /anaconda/envs/azureml_py36/lib/python3.6/site-packages (from nbconvert->notebook>=4.4.1->widgetsnbextension~=3.5.0->ipywidgets<8,>=7.0.0->keplergl) (0.3)\n",
            "Requirement already satisfied: MarkupSafe>=0.23 in /anaconda/envs/azureml_py36/lib/python3.6/site-packages (from jinja2->notebook>=4.4.1->widgetsnbextension~=3.5.0->ipywidgets<8,>=7.0.0->keplergl) (1.1.1)\n",
            "Requirement already satisfied: cffi>=1.0.0 in /anaconda/envs/azureml_py36/lib/python3.6/site-packages (from argon2-cffi->notebook>=4.4.1->widgetsnbextension~=3.5.0->ipywidgets<8,>=7.0.0->keplergl) (1.14.4)\n",
            "Requirement already satisfied: typing-extensions>=3.6.4; python_version < \"3.8\" in /anaconda/envs/azureml_py36/lib/python3.6/site-packages (from importlib-metadata; python_version < \"3.8\"->jsonschema!=2.5.0,>=2.4->nbformat>=4.2.0->ipywidgets<8,>=7.0.0->keplergl) (3.7.4.3)\n",
            "Requirement already satisfied: zipp>=0.5 in /anaconda/envs/azureml_py36/lib/python3.6/site-packages (from importlib-metadata; python_version < \"3.8\"->jsonschema!=2.5.0,>=2.4->nbformat>=4.2.0->ipywidgets<8,>=7.0.0->keplergl) (3.4.0)\n",
            "Requirement already satisfied: webencodings in /anaconda/envs/azureml_py36/lib/python3.6/site-packages (from bleach->nbconvert->notebook>=4.4.1->widgetsnbextension~=3.5.0->ipywidgets<8,>=7.0.0->keplergl) (0.5.1)\n",
            "Requirement already satisfied: packaging in /anaconda/envs/azureml_py36/lib/python3.6/site-packages (from bleach->nbconvert->notebook>=4.4.1->widgetsnbextension~=3.5.0->ipywidgets<8,>=7.0.0->keplergl) (20.9)\n",
            "Requirement already satisfied: pycparser in /anaconda/envs/azureml_py36/lib/python3.6/site-packages (from cffi>=1.0.0->argon2-cffi->notebook>=4.4.1->widgetsnbextension~=3.5.0->ipywidgets<8,>=7.0.0->keplergl) (2.20)\n",
            "Requirement already satisfied: pyparsing>=2.0.2 in /anaconda/envs/azureml_py36/lib/python3.6/site-packages (from packaging->bleach->nbconvert->notebook>=4.4.1->widgetsnbextension~=3.5.0->ipywidgets<8,>=7.0.0->keplergl) (2.4.7)\n",
            "Installing collected packages: keplergl\n",
            "Successfully installed keplergl-0.2.2\n"
          ]
        }
      ],
      "execution_count": 16,
      "metadata": {
        "collapsed": true,
        "jupyter": {
          "source_hidden": false,
          "outputs_hidden": false
        },
        "nteract": {
          "transient": {
            "deleting": false
          }
        }
      }
    },
    {
      "cell_type": "code",
      "source": [
        "!pip3 install jupyter_contrib_nbextensions && jupyter contrib nbextension install"
      ],
      "outputs": [
        {
          "output_type": "stream",
          "name": "stdout",
          "text": [
            "Requirement already satisfied: jupyter_contrib_nbextensions in /anaconda/envs/azureml_py36/lib/python3.6/site-packages (0.5.1)\n",
            "Requirement already satisfied: tornado in /anaconda/envs/azureml_py36/lib/python3.6/site-packages (from jupyter_contrib_nbextensions) (6.1)\n",
            "Requirement already satisfied: notebook>=4.0 in /anaconda/envs/azureml_py36/lib/python3.6/site-packages (from jupyter_contrib_nbextensions) (6.2.0)\n",
            "Requirement already satisfied: jupyter-highlight-selected-word>=0.1.1 in /anaconda/envs/azureml_py36/lib/python3.6/site-packages (from jupyter_contrib_nbextensions) (0.2.0)\n",
            "Requirement already satisfied: pyyaml in /home/azureuser/.local/lib/python3.6/site-packages (from jupyter_contrib_nbextensions) (5.3.1)\n",
            "Requirement already satisfied: traitlets>=4.1 in /anaconda/envs/azureml_py36/lib/python3.6/site-packages (from jupyter_contrib_nbextensions) (4.3.3)\n",
            "Requirement already satisfied: jupyter-contrib-core>=0.3.3 in /anaconda/envs/azureml_py36/lib/python3.6/site-packages (from jupyter_contrib_nbextensions) (0.3.3)\n",
            "Requirement already satisfied: jupyter-latex-envs>=1.3.8 in /anaconda/envs/azureml_py36/lib/python3.6/site-packages (from jupyter_contrib_nbextensions) (1.4.6)\n",
            "Requirement already satisfied: lxml in /anaconda/envs/azureml_py36/lib/python3.6/site-packages (from jupyter_contrib_nbextensions) (4.6.3)\n",
            "Requirement already satisfied: jupyter-core in /anaconda/envs/azureml_py36/lib/python3.6/site-packages (from jupyter_contrib_nbextensions) (4.7.1)\n",
            "Requirement already satisfied: jupyter-nbextensions-configurator>=0.4.0 in /anaconda/envs/azureml_py36/lib/python3.6/site-packages (from jupyter_contrib_nbextensions) (0.4.1)\n",
            "Requirement already satisfied: nbconvert>=4.2 in /anaconda/envs/azureml_py36/lib/python3.6/site-packages (from jupyter_contrib_nbextensions) (5.6.1)\n",
            "Requirement already satisfied: ipython-genutils in /anaconda/envs/azureml_py36/lib/python3.6/site-packages (from jupyter_contrib_nbextensions) (0.2.0)\n",
            "Requirement already satisfied: prometheus-client in /anaconda/envs/azureml_py36/lib/python3.6/site-packages (from notebook>=4.0->jupyter_contrib_nbextensions) (0.9.0)\n",
            "Requirement already satisfied: jupyter-client>=5.3.4 in /anaconda/envs/azureml_py36/lib/python3.6/site-packages (from notebook>=4.0->jupyter_contrib_nbextensions) (6.1.11)\n",
            "Requirement already satisfied: terminado>=0.8.3 in /anaconda/envs/azureml_py36/lib/python3.6/site-packages (from notebook>=4.0->jupyter_contrib_nbextensions) (0.9.2)\n",
            "Requirement already satisfied: ipykernel in /anaconda/envs/azureml_py36/lib/python3.6/site-packages (from notebook>=4.0->jupyter_contrib_nbextensions) (5.4.3)\n",
            "Requirement already satisfied: argon2-cffi in /anaconda/envs/azureml_py36/lib/python3.6/site-packages (from notebook>=4.0->jupyter_contrib_nbextensions) (20.1.0)\n",
            "Requirement already satisfied: nbformat in /anaconda/envs/azureml_py36/lib/python3.6/site-packages (from notebook>=4.0->jupyter_contrib_nbextensions) (5.1.2)\n",
            "Requirement already satisfied: jinja2 in /anaconda/envs/azureml_py36/lib/python3.6/site-packages (from notebook>=4.0->jupyter_contrib_nbextensions) (2.11.2)\n",
            "Requirement already satisfied: pyzmq>=17 in /anaconda/envs/azureml_py36/lib/python3.6/site-packages (from notebook>=4.0->jupyter_contrib_nbextensions) (22.0.2)\n",
            "Requirement already satisfied: Send2Trash>=1.5.0 in /anaconda/envs/azureml_py36/lib/python3.6/site-packages (from notebook>=4.0->jupyter_contrib_nbextensions) (1.5.0)\n",
            "Requirement already satisfied: decorator in /anaconda/envs/azureml_py36/lib/python3.6/site-packages (from traitlets>=4.1->jupyter_contrib_nbextensions) (4.4.2)\n",
            "Requirement already satisfied: six in /anaconda/envs/azureml_py36/lib/python3.6/site-packages (from traitlets>=4.1->jupyter_contrib_nbextensions) (1.15.0)\n",
            "Requirement already satisfied: setuptools in /anaconda/envs/azureml_py36/lib/python3.6/site-packages (from jupyter-contrib-core>=0.3.3->jupyter_contrib_nbextensions) (50.3.0)\n",
            "Requirement already satisfied: ipython in /anaconda/envs/azureml_py36/lib/python3.6/site-packages (from jupyter-latex-envs>=1.3.8->jupyter_contrib_nbextensions) (7.16.1)\n",
            "Requirement already satisfied: mistune<2,>=0.8.1 in /anaconda/envs/azureml_py36/lib/python3.6/site-packages (from nbconvert>=4.2->jupyter_contrib_nbextensions) (0.8.4)\n",
            "Requirement already satisfied: testpath in /anaconda/envs/azureml_py36/lib/python3.6/site-packages (from nbconvert>=4.2->jupyter_contrib_nbextensions) (0.4.4)\n",
            "Requirement already satisfied: pandocfilters>=1.4.1 in /anaconda/envs/azureml_py36/lib/python3.6/site-packages (from nbconvert>=4.2->jupyter_contrib_nbextensions) (1.4.3)\n",
            "Requirement already satisfied: entrypoints>=0.2.2 in /anaconda/envs/azureml_py36/lib/python3.6/site-packages (from nbconvert>=4.2->jupyter_contrib_nbextensions) (0.3)\n",
            "Requirement already satisfied: defusedxml in /anaconda/envs/azureml_py36/lib/python3.6/site-packages (from nbconvert>=4.2->jupyter_contrib_nbextensions) (0.6.0)\n",
            "Requirement already satisfied: pygments in /anaconda/envs/azureml_py36/lib/python3.6/site-packages (from nbconvert>=4.2->jupyter_contrib_nbextensions) (2.7.4)\n",
            "Requirement already satisfied: bleach in /anaconda/envs/azureml_py36/lib/python3.6/site-packages (from nbconvert>=4.2->jupyter_contrib_nbextensions) (3.3.0)\n",
            "Requirement already satisfied: python-dateutil>=2.1 in /anaconda/envs/azureml_py36/lib/python3.6/site-packages (from jupyter-client>=5.3.4->notebook>=4.0->jupyter_contrib_nbextensions) (2.8.1)\n",
            "Requirement already satisfied: ptyprocess; os_name != \"nt\" in /anaconda/envs/azureml_py36/lib/python3.6/site-packages (from terminado>=0.8.3->notebook>=4.0->jupyter_contrib_nbextensions) (0.7.0)\n",
            "Requirement already satisfied: cffi>=1.0.0 in /anaconda/envs/azureml_py36/lib/python3.6/site-packages (from argon2-cffi->notebook>=4.0->jupyter_contrib_nbextensions) (1.14.4)\n",
            "Requirement already satisfied: jsonschema!=2.5.0,>=2.4 in /anaconda/envs/azureml_py36/lib/python3.6/site-packages (from nbformat->notebook>=4.0->jupyter_contrib_nbextensions) (3.2.0)\n",
            "Requirement already satisfied: MarkupSafe>=0.23 in /anaconda/envs/azureml_py36/lib/python3.6/site-packages (from jinja2->notebook>=4.0->jupyter_contrib_nbextensions) (1.1.1)\n",
            "Requirement already satisfied: jedi>=0.10 in /anaconda/envs/azureml_py36/lib/python3.6/site-packages (from ipython->jupyter-latex-envs>=1.3.8->jupyter_contrib_nbextensions) (0.18.0)\n",
            "Requirement already satisfied: pexpect; sys_platform != \"win32\" in /anaconda/envs/azureml_py36/lib/python3.6/site-packages (from ipython->jupyter-latex-envs>=1.3.8->jupyter_contrib_nbextensions) (4.8.0)\n",
            "Requirement already satisfied: prompt-toolkit!=3.0.0,!=3.0.1,<3.1.0,>=2.0.0 in /anaconda/envs/azureml_py36/lib/python3.6/site-packages (from ipython->jupyter-latex-envs>=1.3.8->jupyter_contrib_nbextensions) (3.0.14)\n",
            "Requirement already satisfied: backcall in /anaconda/envs/azureml_py36/lib/python3.6/site-packages (from ipython->jupyter-latex-envs>=1.3.8->jupyter_contrib_nbextensions) (0.2.0)\n",
            "Requirement already satisfied: pickleshare in /anaconda/envs/azureml_py36/lib/python3.6/site-packages (from ipython->jupyter-latex-envs>=1.3.8->jupyter_contrib_nbextensions) (0.7.5)\n",
            "Requirement already satisfied: webencodings in /anaconda/envs/azureml_py36/lib/python3.6/site-packages (from bleach->nbconvert>=4.2->jupyter_contrib_nbextensions) (0.5.1)\n",
            "Requirement already satisfied: packaging in /anaconda/envs/azureml_py36/lib/python3.6/site-packages (from bleach->nbconvert>=4.2->jupyter_contrib_nbextensions) (20.9)\n",
            "Requirement already satisfied: pycparser in /anaconda/envs/azureml_py36/lib/python3.6/site-packages (from cffi>=1.0.0->argon2-cffi->notebook>=4.0->jupyter_contrib_nbextensions) (2.20)\n",
            "Requirement already satisfied: importlib-metadata; python_version < \"3.8\" in /anaconda/envs/azureml_py36/lib/python3.6/site-packages (from jsonschema!=2.5.0,>=2.4->nbformat->notebook>=4.0->jupyter_contrib_nbextensions) (3.4.0)\n",
            "Requirement already satisfied: pyrsistent>=0.14.0 in /anaconda/envs/azureml_py36/lib/python3.6/site-packages (from jsonschema!=2.5.0,>=2.4->nbformat->notebook>=4.0->jupyter_contrib_nbextensions) (0.17.3)\n",
            "Requirement already satisfied: attrs>=17.4.0 in /anaconda/envs/azureml_py36/lib/python3.6/site-packages (from jsonschema!=2.5.0,>=2.4->nbformat->notebook>=4.0->jupyter_contrib_nbextensions) (20.3.0)\n",
            "Requirement already satisfied: parso<0.9.0,>=0.8.0 in /anaconda/envs/azureml_py36/lib/python3.6/site-packages (from jedi>=0.10->ipython->jupyter-latex-envs>=1.3.8->jupyter_contrib_nbextensions) (0.8.1)\n",
            "Requirement already satisfied: wcwidth in /anaconda/envs/azureml_py36/lib/python3.6/site-packages (from prompt-toolkit!=3.0.0,!=3.0.1,<3.1.0,>=2.0.0->ipython->jupyter-latex-envs>=1.3.8->jupyter_contrib_nbextensions) (0.2.5)\n",
            "Requirement already satisfied: pyparsing>=2.0.2 in /anaconda/envs/azureml_py36/lib/python3.6/site-packages (from packaging->bleach->nbconvert>=4.2->jupyter_contrib_nbextensions) (2.4.7)\n",
            "Requirement already satisfied: typing-extensions>=3.6.4; python_version < \"3.8\" in /anaconda/envs/azureml_py36/lib/python3.6/site-packages (from importlib-metadata; python_version < \"3.8\"->jsonschema!=2.5.0,>=2.4->nbformat->notebook>=4.0->jupyter_contrib_nbextensions) (3.7.4.3)\n",
            "Requirement already satisfied: zipp>=0.5 in /anaconda/envs/azureml_py36/lib/python3.6/site-packages (from importlib-metadata; python_version < \"3.8\"->jsonschema!=2.5.0,>=2.4->nbformat->notebook>=4.0->jupyter_contrib_nbextensions) (3.4.0)\n",
            "\u001b[32m[I 03:07:48 InstallContribNbextensionsApp]\u001b[m jupyter contrib nbextension install \n",
            "\u001b[32m[I 03:07:48 InstallContribNbextensionsApp]\u001b[m Installing jupyter_contrib_nbextensions nbextension files to jupyter data directory\n",
            "\u001b[32m[I 03:07:49 InstallContribNbextensionsApp]\u001b[m Installing /anaconda/envs/azureml_py36/lib/python3.6/site-packages/jupyter_contrib_nbextensions/nbextensions/help_panel -> help_panel\n",
            "Traceback (most recent call last):\n",
            "  File \"/anaconda/envs/azureml_py36/bin/jupyter-contrib\", line 8, in <module>\n",
            "    sys.exit(main())\n",
            "  File \"/anaconda/envs/azureml_py36/lib/python3.6/site-packages/jupyter_core/application.py\", line 254, in launch_instance\n",
            "    return super(JupyterApp, cls).launch_instance(argv=argv, **kwargs)\n",
            "  File \"/anaconda/envs/azureml_py36/lib/python3.6/site-packages/traitlets/config/application.py\", line 664, in launch_instance\n",
            "    app.start()\n",
            "  File \"/anaconda/envs/azureml_py36/lib/python3.6/site-packages/jupyter_contrib_core/application.py\", line 50, in start\n",
            "    super(JupyterContribApp, self).start()\n",
            "  File \"/anaconda/envs/azureml_py36/lib/python3.6/site-packages/jupyter_core/application.py\", line 243, in start\n",
            "    self.subapp.start()\n",
            "  File \"/anaconda/envs/azureml_py36/lib/python3.6/site-packages/jupyter_contrib_nbextensions/application.py\", line 231, in start\n",
            "    super(ContribNbextensionsApp, self).start()\n",
            "  File \"/anaconda/envs/azureml_py36/lib/python3.6/site-packages/jupyter_core/application.py\", line 243, in start\n",
            "    self.subapp.start()\n",
            "  File \"/anaconda/envs/azureml_py36/lib/python3.6/site-packages/jupyter_contrib_nbextensions/application.py\", line 178, in start\n",
            "    toggle_install_files(self._toggle_value, **kwargs_files)\n",
            "  File \"/anaconda/envs/azureml_py36/lib/python3.6/site-packages/jupyter_contrib_nbextensions/install.py\", line 75, in toggle_install_files\n",
            "    mod.__name__, overwrite=overwrite, symlink=symlink, **kwargs)\n",
            "  File \"/anaconda/envs/azureml_py36/lib/python3.6/site-packages/notebook/nbextensions.py\", line 217, in install_nbextension_python\n",
            "    destination=dest, logger=logger\n",
            "  File \"/anaconda/envs/azureml_py36/lib/python3.6/site-packages/notebook/nbextensions.py\", line 118, in install_nbextension\n",
            "    ensure_dir_exists(nbext)\n",
            "  File \"/anaconda/envs/azureml_py36/lib/python3.6/site-packages/jupyter_core/utils/__init__.py\", line 11, in ensure_dir_exists\n",
            "    os.makedirs(path, mode=mode)\n",
            "  File \"/anaconda/envs/azureml_py36/lib/python3.6/os.py\", line 220, in makedirs\n",
            "    mkdir(name, mode)\n",
            "PermissionError: [Errno 13] Permission denied: '/usr/local/share/jupyter/nbextensions'\n"
          ]
        }
      ],
      "execution_count": 9,
      "metadata": {
        "collapsed": true,
        "jupyter": {
          "source_hidden": false,
          "outputs_hidden": false
        },
        "nteract": {
          "transient": {
            "deleting": false
          }
        }
      }
    },
    {
      "cell_type": "code",
      "source": [
        "# Load an empty map\r\n",
        "from keplergl import KeplerGl\r\n",
        "map_1 = KeplerGl()\r\n",
        "map_1"
      ],
      "outputs": [
        {
          "output_type": "stream",
          "name": "stdout",
          "text": [
            "User Guide: https://docs.kepler.gl/docs/keplergl-jupyter\n"
          ]
        },
        {
          "output_type": "display_data",
          "data": {
            "text/plain": "KeplerGl()",
            "application/vnd.jupyter.widget-view+json": {
              "version_major": 2,
              "version_minor": 0,
              "model_id": "1872c5d8c59a4822add22b9ea28b1c28"
            }
          },
          "metadata": {}
        }
      ],
      "execution_count": 11,
      "metadata": {
        "collapsed": true,
        "jupyter": {
          "source_hidden": false,
          "outputs_hidden": false
        },
        "nteract": {
          "transient": {
            "deleting": false
          }
        },
        "gather": {
          "logged": 1618369773009
        }
      }
    },
    {
      "cell_type": "code",
      "source": [
        "map1=KeplerGl(height=800)#zoom_start与这个height类似，表示地图的缩放程度\n",
        "map1.add_data(data=df_gpd_change,name='data')\n",
        "#当运行该代码后，下面会有一个kepler.gl使用说明的链接，可以根据该链接进行学习参考\n",
        "map1"
      ],
      "outputs": [
        {
          "output_type": "stream",
          "name": "stdout",
          "text": [
            "User Guide: https://docs.kepler.gl/docs/keplergl-jupyter\n"
          ]
        },
        {
          "output_type": "display_data",
          "data": {
            "text/plain": "KeplerGl(data={'data': {'index': [0, 1, 2, 3, 4, 5, 6, 7, 8, 9, 10, 11, 12, 13, 14, 15, 16, 17, 18, 19, 20, 21…",
            "application/vnd.jupyter.widget-view+json": {
              "version_major": 2,
              "version_minor": 0,
              "model_id": "e7e63cb2c5944428aae0670533be9e8f"
            }
          },
          "metadata": {}
        }
      ],
      "execution_count": 12,
      "metadata": {
        "scrolled": true,
        "gather": {
          "logged": 1618369806282
        },
        "jupyter": {
          "outputs_hidden": true
        }
      }
    },
    {
      "cell_type": "markdown",
      "source": [
        "通过kepler.gl的数据可视化便可以看出不同类别的轨迹所在的位置有所不同，而且其不同船舶轨迹的形状特征也可以显示出来。"
      ],
      "metadata": {}
    },
    {
      "cell_type": "markdown",
      "source": [
        "算完之后将数据重新化为dataframe格式，然后可以去计算geohash作为每一条船的数据特征"
      ],
      "metadata": {}
    },
    {
      "cell_type": "markdown",
      "source": [
        "另外，kepler.gl最近新增「增量时间窗口」功能功能对时间序列数据的可视化提供了很好的帮助。当我们的数据集带有时间类型字段时，在添加对应的Filters之后，显示出的时间窗口如下图所示"
      ],
      "metadata": {}
    },
    {
      "cell_type": "markdown",
      "source": [
        "![image-2.png](attachment:image-2.png)"
      ],
      "metadata": {}
    },
    {
      "cell_type": "markdown",
      "source": [
        "然后此时可以点击播放按钮，然后将默认的「Moving Time Window」模式切换到「Incremental Time Window」模式，此时就可以使用增量时间窗口模式看到画面中的数据会从起点开始持续叠加："
      ],
      "metadata": {}
    },
    {
      "cell_type": "markdown",
      "source": [
        "![image.png](attachment:image.png)"
      ],
      "metadata": {}
    },
    {
      "cell_type": "markdown",
      "source": [
        "![image.png](attachment:image.png)"
      ],
      "metadata": {}
    },
    {
      "cell_type": "markdown",
      "source": [
        "如果你对`dash`有所了解，那么纯Python快速开发出一个嵌入`kepler.gl`的交互式web应用将会变得非常容易。具体内容可参考该[链接](https://www.yht7.com/news/127888)"
      ],
      "metadata": {}
    },
    {
      "cell_type": "markdown",
      "source": [
        "# GeoHash"
      ],
      "metadata": {}
    },
    {
      "cell_type": "markdown",
      "source": [
        "参考文献：https://blog.csdn.net/zhufenghao/article/details/85568340"
      ],
      "metadata": {}
    },
    {
      "cell_type": "markdown",
      "source": [
        "在对于经纬度进行数据分析和特征提取时常用到的是GeoHash编码，该编码方式可以将地理经纬度坐标编码为由字母和数字所构成的短字符串，它具有如下特性：  \n",
        "1. 层级空间数据结构，将地理位置用矩形网格划分，同一网格内地理编码相同\n",
        "2. 只要编码长度足够长，可以表示任意精度的地理位置坐标\n",
        "3. 编码前缀匹配的越长，地理位置越邻近。"
      ],
      "metadata": {}
    },
    {
      "cell_type": "markdown",
      "source": [
        "下图对北京中关村软件园附近进行6位的GeoHash编码结果，9个网格相互邻近且具有相同的前缀."
      ],
      "metadata": {}
    },
    {
      "cell_type": "markdown",
      "source": [
        "![image.png](attachment:image.png)"
      ],
      "metadata": {}
    },
    {
      "cell_type": "markdown",
      "source": [
        "那么GeoHash算法是怎么对经纬度坐标进行编码的呢？总的来说，它采用的是二分法不断缩小经度和纬度的区间来进行二进制编码，最后将经纬度分别产生的编码奇偶位交叉合并，再用字母数字表示。举例来说，对于一个坐标116.29513,40.04920的经度执行算法：\n",
        "\n",
        "1. 将地球经度区间[-180,180]二分为[-180,0]和[0,180]，116.29513在右区间，记1；\n",
        "1. 将[0,180]二分为[0,90]和[90,180]，116.29513在右区间，记1；\n",
        "1. 将[90,180]二分为[90,135]和[135,180]，116.29513在左区间，记0；\n",
        "1. 递归上述过程（左区间记0，右区间记1）直到所需要的精度，得到一串二进制编码11010 01010 11001。\n"
      ],
      "metadata": {}
    },
    {
      "cell_type": "markdown",
      "source": [
        "同理将地球纬度区间[-90,90]根据纬度40.04920进行递归二分得到二进制编码10111 00011 11010，接着生成新的二进制数，它的偶数位放经度，奇数位放纬度，得到11100 11101 00100 01101 11110 00110，最后使用32个数字和字母（字母去掉a、i、l、o这4个）进行32进制编码，即先将二进制数每5位转化为十进制28 29 4 13 30 6，然后对应着编码表进行映射得到wy4ey6。\n"
      ],
      "metadata": {}
    },
    {
      "cell_type": "markdown",
      "source": [
        "![image.png](attachment:image.png)"
      ],
      "metadata": {}
    },
    {
      "cell_type": "markdown",
      "source": [
        "对这样的GeoHash编码大小排序后，是按照Z形曲线来填充空间的，后来又衍生出多种填充曲线且具有多种特性，由于没有Z形曲线简单通用，这里就不赘述了。"
      ],
      "metadata": {}
    },
    {
      "cell_type": "markdown",
      "source": [
        "另外还有一些其他曲线可以填充空间，比如著名的希尔伯特曲线，感兴趣的可以看bilibili这个视频，了解一下，还是蛮有趣的~  \n",
        "\n",
        "\n",
        "https://www.bilibili.com/video/BV1Sf4y147J9?from=search&seid=12367619856156226126"
      ],
      "metadata": {}
    },
    {
      "cell_type": "code",
      "source": [
        "# reference: https://github.com/vinsci/geohash\n",
        "def geohash_encode(latitude, longitude, precision=12):\n",
        "    \"\"\"\n",
        "    Encode a position given in float arguments latitude, longitude to\n",
        "    a geohash which will have the character count precision.\n",
        "    \"\"\"\n",
        "    lat_interval, lon_interval = (-90.0, 90.0), (-180.0, 180.0)\n",
        "    base32 = '0123456789bcdefghjkmnpqrstuvwxyz'\n",
        "    geohash = []\n",
        "    bits = [16, 8, 4, 2, 1]\n",
        "    bit = 0\n",
        "    ch = 0\n",
        "    even = True\n",
        "    while len(geohash) < precision:\n",
        "        if even:\n",
        "            mid = (lon_interval[0] + lon_interval[1]) / 2\n",
        "            if longitude > mid:\n",
        "                ch |= bits[bit]\n",
        "                lon_interval = (mid, lon_interval[1])\n",
        "            else:\n",
        "                lon_interval = (lon_interval[0], mid)\n",
        "        else:\n",
        "            mid = (lat_interval[0] + lat_interval[1]) / 2\n",
        "            if latitude > mid:\n",
        "                ch |= bits[bit]\n",
        "                lat_interval = (mid, lat_interval[1])\n",
        "            else:\n",
        "                lat_interval = (lat_interval[0], mid)\n",
        "        even = not even\n",
        "        if bit < 4:\n",
        "            bit += 1\n",
        "        else:\n",
        "            geohash += base32[ch]\n",
        "            bit = 0\n",
        "            ch = 0\n",
        "    return ''.join(geohash)"
      ],
      "outputs": [],
      "execution_count": 153,
      "metadata": {}
    },
    {
      "cell_type": "code",
      "source": [
        "#调用Geohash函数\n",
        "DF[DF['ID']==1].apply(lambda x: geohash_encode(x['lat'], x['lon'], 7), axis=1)"
      ],
      "outputs": [
        {
          "output_type": "execute_result",
          "execution_count": 155,
          "data": {
            "text/plain": "1873158    9rc76bv\n1873159    9rc76cq\n1873160    9rc76fw\n1873161    9rc76gn\n1873162    9rc76gy\n            ...   \n1873517    9rc7xnv\n1873518    9rc7xnv\n1873519    9rc7xnv\n1873520    9rc7xnv\n1873521    9rc7xnv\nLength: 364, dtype: object"
          },
          "metadata": {}
        }
      ],
      "execution_count": 155,
      "metadata": {}
    },
    {
      "cell_type": "markdown",
      "source": [
        "## 注意事项"
      ],
      "metadata": {}
    },
    {
      "cell_type": "markdown",
      "source": [
        "GeoHash的主要价值在于将二维的经纬度坐标信息编码到了一维的字符串中，在做地理位置索引时只需要匹配字符串即可，便于缓存、信息压缩。在使用大数据工具（例如Spark）进行数据挖掘聚类时，GeoHash显得更加便捷和高效。\n",
        "\n",
        "但是使用GeoHash还有一些注意事项：\n",
        "\n",
        "1. 由于GeoHash使用Z形曲线来顺序填充空间的，而Z形曲线在拐角处会有突变，这表现在有些相邻的网格的编码前缀比其他网格相差较多，因此利用前缀匹配可以找到一部分邻近的区域，但同时也会漏掉一些。\n",
        "1. 一个网格内部所有点会共用一个GeoHash值，在网格的边缘点会匹配到可能较远但是GeoHash值相同的点，而本来距离较近的点却没有匹配到。这种问题可以这样解决：适当增加GeoHash编码长度，并使用周围的8个近邻编码来参与，因为往往只使用一个GeoHash编码可能会有严重风险！\n"
      ],
      "metadata": {}
    },
    {
      "cell_type": "markdown",
      "source": [
        "# 作业"
      ],
      "metadata": {}
    },
    {
      "cell_type": "markdown",
      "source": [
        "基础作业：  \n",
        "1.尝试去使用kepler.gl可视化来分析不同类型船舶AIS数据的分布情况，并为接下来的特征工程的提取建立基础  \n",
        "进阶作业：   \n",
        "2.在这个模块中，我们介绍了各种库以及他们常用的方法。如果可以，请同学们尝试在原有剔除异常点的数据（DF）中保留douglas-peucker算法所识别的关键点的数据，删除douglas-peucker未保存的数据，并尝试对这些坐标点进行geohash编码"
      ],
      "metadata": {}
    },
    {
      "cell_type": "markdown",
      "source": [
        "# 参考内容"
      ],
      "metadata": {}
    },
    {
      "cell_type": "markdown",
      "source": [
        "https://tianchi.aliyun.com/forum/postDetail?spm=5176.12586969.1002.3.163c24d1HiGiFo&postId=110644"
      ],
      "metadata": {}
    }
  ],
  "metadata": {
    "hide_input": false,
    "kernel_info": {
      "name": "python3"
    },
    "kernelspec": {
      "name": "python3",
      "language": "python",
      "display_name": "Python 3"
    },
    "language_info": {
      "name": "python",
      "version": "3.6.9",
      "mimetype": "text/x-python",
      "codemirror_mode": {
        "name": "ipython",
        "version": 3
      },
      "pygments_lexer": "ipython3",
      "nbconvert_exporter": "python",
      "file_extension": ".py"
    },
    "nteract": {
      "version": "nteract-front-end@1.0.0"
    },
    "toc": {
      "toc_position": {
        "height": "calc(100% - 180px)",
        "left": "10px",
        "top": "150px",
        "width": "253.458px"
      },
      "skip_h1_title": false,
      "number_sections": true,
      "title_cell": "Table of Contents",
      "toc_window_display": true,
      "base_numbering": 1,
      "toc_section_display": true,
      "title_sidebar": "Contents",
      "toc_cell": false,
      "nav_menu": {},
      "sideBar": true
    },
    "microsoft": {
      "host": {
        "AzureML": {
          "notebookHasBeenCompleted": true
        }
      }
    }
  },
  "nbformat": 4,
  "nbformat_minor": 4
}